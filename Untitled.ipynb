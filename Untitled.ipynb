{
 "cells": [
  {
   "cell_type": "code",
   "execution_count": null,
   "id": "1c72621d",
   "metadata": {},
   "outputs": [],
   "source": [
    "import sys\n",
    "import reta"
   ]
  },
  {
   "cell_type": "code",
   "execution_count": null,
   "id": "cfe5fb2a",
   "metadata": {},
   "outputs": [],
   "source": [
    "retaProgram = reta.Program([\"reta\",\"-h\"])"
   ]
  },
  {
   "cell_type": "code",
   "execution_count": null,
   "id": "af568562",
   "metadata": {},
   "outputs": [],
   "source": []
  }
 ],
 "metadata": {
  "kernelspec": {
   "display_name": "Python 3 (ipykernel)",
   "language": "python",
   "name": "python3"
  }
 },
 "nbformat": 4,
 "nbformat_minor": 5
}
