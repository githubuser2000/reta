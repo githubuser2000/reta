{
 "cells": [
  {
   "cell_type": "code",
   "execution_count": 1,
   "id": "fc0e2954",
   "metadata": {},
   "outputs": [
    {
     "data": {
      "text/html": [
       "<!DOCTYPE HTML PUBLIC \"-//W3C//DTD HTML 4.01 Transitional//EN\" \"http://www.w3.org/TR/html4/loose.dtd\">\n",
       "<html>\n",
       "<head>\n",
       "<meta http-equiv=\"Content-Type\" content=\"text/html; charset=utf-8\">\n",
       "<title></title>\n",
       "<style type=\"text/css\">\n",
       ".ansi2html-content { display: inline; white-space: pre-wrap; word-wrap: break-word; }\n",
       ".body_foreground { color: #AAAAAA; }\n",
       ".body_background { background-color: #000000; }\n",
       ".inv_foreground { color: #000000; }\n",
       ".inv_background { background-color: #AAAAAA; }\n",
       ".ansi4 { text-decoration: underline; }\n",
       ".ansi30 { color: #000316; }\n",
       ".ansi37 { color: #F5F1DE; }\n",
       ".ansi41 { background-color: #aa0000; }\n",
       ".ansi100 { background-color: #7f7f7f; }\n",
       "</style>\n",
       "</head>\n",
       "<body class=\"body_foreground body_background\" style=\"font-size: normal;\" >\n",
       "<pre class=\"ansi2html-content\">\n",
       "   <span class=\"ansi41\"></span><span class=\"ansi30 ansi41\"></span><span class=\"ansi4 ansi30 ansi41\">Intrinsische (nicht extrinsische) (intrinsisch = es direkt wollen und -  </span> \n",
       "   <span class=\"ansi41\"></span><span class=\"ansi30 ansi41\"></span><span class=\"ansi4 ansi30 ansi41\">nicht indirekt) emotionale Intentionen bzw. Motive für Sternpolygone, Pa-</span> \n",
       "   <span class=\"ansi41\"></span><span class=\"ansi30 ansi41\"></span><span class=\"ansi4 ansi30 ansi41\">radigmen (u.a. 13, Paradigmen sind nicht nur Typ 13, weil vermensch-     </span> \n",
       "   <span class=\"ansi41\"></span><span class=\"ansi30 ansi41\"></span><span class=\"ansi4 ansi30 ansi41\">licht) (Ein beliebiges Motiv zu haben ist Typ 1) (Jedes einzelne Moti-   </span> \n",
       "   <span class=\"ansi41\"></span><span class=\"ansi30 ansi41\"></span><span class=\"ansi4 ansi30 ansi41\">v ergibt sich auch daraus, aus welchen Paradigmen und Meta-Paradigmen -  </span> \n",
       "   <span class=\"ansi41\"></span><span class=\"ansi30 ansi41\"></span><span class=\"ansi4 ansi30 ansi41\">der Mensch besteht, ist also immer eine Zusammensetzung) Absich-         </span> \n",
       "   <span class=\"ansi41\"></span><span class=\"ansi30 ansi41\"></span><span class=\"ansi4 ansi30 ansi41\">ten (13) als Form des Geistes (15)                                       </span> \n",
       " 1 <span class=\"ansi100\"></span><span class=\"ansi37 ansi100\">„Absicht“ (jegliche beliebige Absichten) (und alles weitere, das alle Pa-</span> \n",
       "   <span class=\"ansi100\"></span><span class=\"ansi37 ansi100\">radigmen haben: einen „Denkansatz“)                                      </span> \n",
       "   <span class=\"ansi41\"></span><span class=\"ansi30 ansi41\"></span><span class=\"ansi4 ansi30 ansi41\">Transzendentalien, -alien, universelle Strukturalien, Meta-Paradig-      </span> \n",
       "   <span class=\"ansi41\"></span><span class=\"ansi30 ansi41\"></span><span class=\"ansi4 ansi30 ansi41\">men (15) Transzendentalien (15 oder u.a. 15) sind die menschliche Sicht -</span> \n",
       "   <span class=\"ansi41\"></span><span class=\"ansi30 ansi41\"></span><span class=\"ansi4 ansi30 ansi41\">der Strukturalien (ausschließlich Typ 15) (In Lebewesen ist es Bewusst-  </span> \n",
       "   <span class=\"ansi41\"></span><span class=\"ansi30 ansi41\"></span><span class=\"ansi4 ansi30 ansi41\">sein.).                                                                  </span> \n",
       " 1 <span class=\"ansi100\"></span><span class=\"ansi37 ansi100\">Identität, z.B. mathematisch (1)                                         </span> \n",
       "   <span class=\"ansi41\"></span><span class=\"ansi30 ansi41\"></span><span class=\"ansi4 ansi30 ansi41\">Informatiksicht       </span> \n",
       " 1 <span class=\"ansi100\"></span><span class=\"ansi37 ansi100\">Objekte identifizieren</span> \n",
       "   <span class=\"ansi41\"></span><span class=\"ansi30 ansi41\"></span><span class=\"ansi4 ansi30 ansi41\">model of hierarchical complexity (adapted from Commons, Crone-Tod-       </span> \n",
       "   <span class=\"ansi41\"></span><span class=\"ansi30 ansi41\"></span><span class=\"ansi4 ansi30 ansi41\">d, &amp; Chen, 2014)  [bis zu 15, danach ich Jupiter 3.0], Meta-Paradig-     </span> \n",
       "   <span class=\"ansi41\"></span><span class=\"ansi30 ansi41\"></span><span class=\"ansi4 ansi30 ansi41\">men (15) (Diese Spalte von u.a. Michael Commons ist wohl eher vermensch- </span> \n",
       "   <span class=\"ansi41\"></span><span class=\"ansi30 ansi41\"></span><span class=\"ansi4 ansi30 ansi41\">licht, durch die Paradigmen [13] [3,8,10,17] und Metaparadig-            </span> \n",
       "   <span class=\"ansi41\"></span><span class=\"ansi30 ansi41\"></span><span class=\"ansi4 ansi30 ansi41\">men [15] [2|1/3|2/3|3/2|6|1/10|13|14|1/16|(16) ], aus denen der Mensch - </span> \n",
       "   <span class=\"ansi41\"></span><span class=\"ansi30 ansi41\"></span><span class=\"ansi4 ansi30 ansi41\">besteht. D.h. diese Zahlenkombinationen müsste man herausrechnen [Mindes-</span> \n",
       "   <span class=\"ansi41\"></span><span class=\"ansi30 ansi41\"></span><span class=\"ansi4 ansi30 ansi41\">tens Typ 14 ist hier in dieser Spalte immer mit kombiniert.] und wür-    </span> \n",
       "   <span class=\"ansi41\"></span><span class=\"ansi30 ansi41\"></span><span class=\"ansi4 ansi30 ansi41\">de dann auf die Strukturalien und Transzendentalien kommen!)             </span> \n",
       " 1 <span class=\"ansi100\"></span><span class=\"ansi37 ansi100\">Calculatory                                                              </span> \n",
       "\n",
       "</pre>\n",
       "</body>\n",
       "\n",
       "</html>\n"
      ],
      "text/plain": [
       "<IPython.core.display.HTML object>"
      ]
     },
     "metadata": {},
     "output_type": "display_data"
    }
   ],
   "source": [
    "from ansi2html import Ansi2HTMLConverter\n",
    "import sys\n",
    "sys.path.insert(1, '/home/alex/myRepos/reta')\n",
    "import subprocess\n",
    "from IPython.core.display import HTML\n",
    "# Erstellen Sie einen neuen Konverter mit Standardoptionen\n",
    "converter = Ansi2HTMLConverter()\n",
    "\n",
    "def externCommand(cmd: str, parameter: list[str]):\n",
    "    #return subprocess.check_output([cmd, *parameter], stderr=subprocess.STDOUT, universal_newlines=True)\n",
    "    p = subprocess.Popen([cmd, *parameter], stdout=subprocess.PIPE, stderr=subprocess.PIPE, universal_newlines=True)\n",
    "    output, err = p.communicate()\n",
    "    return output\n",
    "\n",
    "befehl = \"a u e 1\".split()\n",
    "html_output = converter.convert(externCommand(\"/home/alex/myRepos/reta/rp\",[\"-befehl\",*befehl]))\n",
    "\n",
    "# Geben Sie das HTML in einer Jupyter-Notebook-Zelle aus\n",
    "from IPython.core.display import HTML\n",
    "display(HTML(html_output))"
   ]
  },
  {
   "cell_type": "code",
   "execution_count": 2,
   "id": "d76b0bc0",
   "metadata": {},
   "outputs": [
    {
     "data": {
      "text/html": [
       "<table border=0 id=\"bigtable\">\n",
       "<tr style=\"background-color:#ff2222;color:#002222;\"> <td class=\"z_0 r_0 p1_zaehlung, p2_p3_0_, p4_\" style=\"background-color:#ffffff;color:#000000;\"> </td> <td class=\"z_0 r_1 p1_nummerierung, p2_p3_0_, p4_\"> </td> <td class=\"z_0 r_2 p1_Grundstrukturen,Menschliches,Wichtigstes_zum_verstehen, p2_p3_0_Paradigmen_sind_Absichten_(13),p3_1_Motive,p3_2_Wichtigste,p3_3_, p4_0,3\"> Intrinsische (nicht extrinsische) (intrinsisch = es direkt wollen und nicht indirekt) emotionale Intentionen bzw. Motive für Sternpolygone, Paradigmen (u.a. 13, Paradigmen sind nicht nur Typ 13, weil vermenschlicht) (Ein beliebiges Motiv zu haben ist Typ 1) (Jedes einzelne Motiv ergibt sich auch daraus, aus welchen Paradigmen und Meta-Paradigmen der Mensch besteht, ist also immer eine Zusammensetzung) Absichten (13) als Form des Geistes (15) </td> </tr>\n",
       "<tr style=\"background-color:#555500;color:#aaaaff;\"> <td style=\"background-color:#ffffff;color:#000000;\"> 1 </td> <td> 1 </td> <td> „Absicht“ (jegliche beliebige Absichten) (und alles weitere, das alle Paradigmen haben: einen „Denkansatz“) </td> </tr>\n",
       "</table>\n",
       "<table border=0 id=\"bigtable\">\n",
       "<tr style=\"background-color:#ff2222;color:#002222;\"> <td class=\"z_0 r_0 p1_zaehlung, p2_p3_0_, p4_\" style=\"background-color:#ffffff;color:#000000;\"> </td> <td class=\"z_0 r_1 p1_nummerierung, p2_p3_0_, p4_\"> </td> <td class=\"z_0 r_2 p1_Grundstrukturen,Inkrementieren,Inkrementieren,Universum,Universum,Universum,Wichtigstes_zum_verstehen, p2_p3_0_Strukturalien_bzw_Meta-Paradigmen_bzw_Transzendentalien_(15),p3_1_warum_Transzendentalie_=_Komplexität_von_Michael_Commons,p3_2_warum_Transzendentalie_=_Strukturgroesse_=_Charakter,p3_3_Transzendentalien,p3_4_warum_Transzendentalie_=_Komplexität_von_Michael_Commons,p3_5_warum_Transzendentalie_=_Strukturgroesse_=_Charakter,p3_6_Wichtigste,p3_7_, p4_0,4\"> Transzendentalien, -alien, universelle Strukturalien, Meta-Paradigmen (15) Transzendentalien (15 oder u.a. 15) sind die menschliche Sicht der Strukturalien (ausschließlich Typ 15) (In Lebewesen ist es Bewusstsein.). </td> <td class=\"z_0 r_3 p1_Größenordnung,Inkrementieren,Inkrementieren,Universum,Universum, p2_p3_0_Strukturgrösse,p3_1_,p3_2_warum_Transzendentalie_=_Strukturgroesse_=_Charakter,p3_3_Transzendentalien,p3_4_warum_Transzendentalie_=_Strukturgroesse_=_Charakter,p3_5_, p4_0,3\"> Informatiksicht </td> <td class=\"z_0 r_4 p1_Universum, p2_p3_0_Transzendentalien,p3_1_, p4_0,3\"> model of hierarchical complexity (adapted from Commons, Crone-Todd, &amp; Chen, 2014) [bis zu 15, danach ich Jupiter 3.0], Meta-Paradigmen (15) (Diese Spalte von u.a. Michael Commons ist wohl eher vermenschlicht, durch die Paradigmen [13] [3,8,10,17] und Metaparadigmen [15] [2|1/3|2/3|3/2|6|1/10|13|14|1/16|(16) ], aus denen der Mensch besteht. D.h. diese Zahlenkombinationen müsste man herausrechnen [Mindestens Typ 14 ist hier in dieser Spalte immer mit kombiniert.] und würde dann auf die Strukturalien und Transzendentalien kommen!) </td> </tr>\n",
       "<tr style=\"background-color:#555500;color:#aaaaff;\"> <td style=\"background-color:#ffffff;color:#000000;\"> 1 </td> <td> 1 </td> <td> Identität, z.B. mathematisch (1) </td> <td> Objekte identifizieren </td> <td> Calculatory </td> </tr>\n",
       "</table>\n"
      ],
      "text/plain": [
       "<IPython.core.display.HTML object>"
      ]
     },
     "execution_count": 2,
     "metadata": {},
     "output_type": "execute_result"
    }
   ],
   "source": [
    "from IPython.display import HTML\n",
    "import sys\n",
    "sys.path.insert(1, '/home/alex/myRepos/reta')\n",
    "import subprocess\n",
    "from IPython.core.display import HTML\n",
    "# Erstellen Sie einen neuen Konverter mit Standardoptionen\n",
    "\n",
    "def externCommand(cmd: str, parameter: list[str]):\n",
    "    #return subprocess.check_output([cmd, *parameter], stderr=subprocess.STDOUT, universal_newlines=True)\n",
    "    p = subprocess.Popen([cmd, *parameter], stdout=subprocess.PIPE, stderr=subprocess.PIPE, universal_newlines=True)\n",
    "    output, err = p.communicate()\n",
    "    return output\n",
    "\n",
    "befehl = \"a u e 1 -spalten --breite=0 -ausgabe --art=html --onetable\".split()\n",
    "htmlAusgabe = externCommand(\"/home/alex/myRepos/reta/rp\",[\"-befehl\",*befehl])\n",
    "\n",
    "# Geben Sie das HTML in einer Jupyter-Notebook-Zelle aus\n",
    "HTML(htmlAusgabe)"
   ]
  },
  {
   "cell_type": "code",
   "execution_count": null,
   "id": "39084c82",
   "metadata": {},
   "outputs": [],
   "source": []
  }
 ],
 "metadata": {
  "kernelspec": {
   "display_name": "PyPy3",
   "language": "python",
   "name": "pypy3"
  },
  "language_info": {
   "codemirror_mode": {
    "name": "ipython",
    "version": 3
   },
   "file_extension": ".py",
   "mimetype": "text/x-python",
   "name": "python",
   "nbconvert_exporter": "python",
   "pygments_lexer": "ipython3",
   "version": "3.9.16"
  }
 },
 "nbformat": 4,
 "nbformat_minor": 5
}
