{
 "cells": [
  {
   "cell_type": "code",
   "execution_count": 1,
   "id": "fc0e2954",
   "metadata": {},
   "outputs": [
    {
     "data": {
      "text/html": [
       "<!DOCTYPE HTML PUBLIC \"-//W3C//DTD HTML 4.01 Transitional//EN\" \"http://www.w3.org/TR/html4/loose.dtd\">\n",
       "<html>\n",
       "<head>\n",
       "<meta http-equiv=\"Content-Type\" content=\"text/html; charset=utf-8\">\n",
       "<title></title>\n",
       "<style type=\"text/css\">\n",
       ".ansi2html-content { display: inline; white-space: pre-wrap; word-wrap: break-word; }\n",
       ".body_foreground { color: #AAAAAA; }\n",
       ".body_background { background-color: #000000; }\n",
       ".inv_foreground { color: #000000; }\n",
       ".inv_background { background-color: #AAAAAA; }\n",
       ".ansi4 { text-decoration: underline; }\n",
       ".ansi30 { color: #000316; }\n",
       ".ansi37 { color: #F5F1DE; }\n",
       ".ansi41 { background-color: #aa0000; }\n",
       ".ansi100 { background-color: #7f7f7f; }\n",
       "</style>\n",
       "</head>\n",
       "<body class=\"body_foreground body_background\" style=\"font-size: normal;\" >\n",
       "<pre class=\"ansi2html-content\">\n",
       "   <span class=\"ansi41\"></span><span class=\"ansi30 ansi41\"></span><span class=\"ansi4 ansi30 ansi41\">Intrinsische (nicht extrinsische) (intrinsisch = es direkt wollen und -  </span> \n",
       "   <span class=\"ansi41\"></span><span class=\"ansi30 ansi41\"></span><span class=\"ansi4 ansi30 ansi41\">nicht indirekt) emotionale Intentionen bzw. Motive für Sternpolygone, Pa-</span> \n",
       "   <span class=\"ansi41\"></span><span class=\"ansi30 ansi41\"></span><span class=\"ansi4 ansi30 ansi41\">radigmen (u.a. 13, Paradigmen sind nicht nur Typ 13, weil vermensch-     </span> \n",
       "   <span class=\"ansi41\"></span><span class=\"ansi30 ansi41\"></span><span class=\"ansi4 ansi30 ansi41\">licht) (Ein beliebiges Motiv zu haben ist Typ 1) (Jedes einzelne Moti-   </span> \n",
       "   <span class=\"ansi41\"></span><span class=\"ansi30 ansi41\"></span><span class=\"ansi4 ansi30 ansi41\">v ergibt sich auch daraus, aus welchen Paradigmen und Meta-Paradigmen -  </span> \n",
       "   <span class=\"ansi41\"></span><span class=\"ansi30 ansi41\"></span><span class=\"ansi4 ansi30 ansi41\">der Mensch besteht, ist also immer eine Zusammensetzung) Absich-         </span> \n",
       "   <span class=\"ansi41\"></span><span class=\"ansi30 ansi41\"></span><span class=\"ansi4 ansi30 ansi41\">ten (13) als Form des Geistes (15)                                       </span> \n",
       " 1 <span class=\"ansi100\"></span><span class=\"ansi37 ansi100\">„Absicht“ (jegliche beliebige Absichten) (und alles weitere, das alle Pa-</span> \n",
       "   <span class=\"ansi100\"></span><span class=\"ansi37 ansi100\">radigmen haben: einen „Denkansatz“)                                      </span> \n",
       "   <span class=\"ansi41\"></span><span class=\"ansi30 ansi41\"></span><span class=\"ansi4 ansi30 ansi41\">Transzendentalien, -alien, universelle Strukturalien, Meta-Paradig-      </span> \n",
       "   <span class=\"ansi41\"></span><span class=\"ansi30 ansi41\"></span><span class=\"ansi4 ansi30 ansi41\">men (15) Transzendentalien (15 oder u.a. 15) sind die menschliche Sicht -</span> \n",
       "   <span class=\"ansi41\"></span><span class=\"ansi30 ansi41\"></span><span class=\"ansi4 ansi30 ansi41\">der Strukturalien (ausschließlich Typ 15) (In Lebewesen ist es Bewusst-  </span> \n",
       "   <span class=\"ansi41\"></span><span class=\"ansi30 ansi41\"></span><span class=\"ansi4 ansi30 ansi41\">sein.).                                                                  </span> \n",
       " 1 <span class=\"ansi100\"></span><span class=\"ansi37 ansi100\">Identität, z.B. mathematisch (1)                                         </span> \n",
       "   <span class=\"ansi41\"></span><span class=\"ansi30 ansi41\"></span><span class=\"ansi4 ansi30 ansi41\">Informatiksicht       </span> \n",
       " 1 <span class=\"ansi100\"></span><span class=\"ansi37 ansi100\">Objekte identifizieren</span> \n",
       "   <span class=\"ansi41\"></span><span class=\"ansi30 ansi41\"></span><span class=\"ansi4 ansi30 ansi41\">model of hierarchical complexity (adapted from Commons, Crone-Tod-       </span> \n",
       "   <span class=\"ansi41\"></span><span class=\"ansi30 ansi41\"></span><span class=\"ansi4 ansi30 ansi41\">d, &amp; Chen, 2014)  [bis zu 15, danach ich Jupiter 3.0], Meta-Paradig-     </span> \n",
       "   <span class=\"ansi41\"></span><span class=\"ansi30 ansi41\"></span><span class=\"ansi4 ansi30 ansi41\">men (15) (Diese Spalte von u.a. Michael Commons ist wohl eher vermensch- </span> \n",
       "   <span class=\"ansi41\"></span><span class=\"ansi30 ansi41\"></span><span class=\"ansi4 ansi30 ansi41\">licht, durch die Paradigmen [13] [3,8,10,17] und Metaparadig-            </span> \n",
       "   <span class=\"ansi41\"></span><span class=\"ansi30 ansi41\"></span><span class=\"ansi4 ansi30 ansi41\">men [15] [2|1/3|2/3|3/2|6|1/10|13|14|1/16|(16) ], aus denen der Mensch - </span> \n",
       "   <span class=\"ansi41\"></span><span class=\"ansi30 ansi41\"></span><span class=\"ansi4 ansi30 ansi41\">besteht. D.h. diese Zahlenkombinationen müsste man herausrechnen [Mindes-</span> \n",
       "   <span class=\"ansi41\"></span><span class=\"ansi30 ansi41\"></span><span class=\"ansi4 ansi30 ansi41\">tens Typ 14 ist hier in dieser Spalte immer mit kombiniert.] und wür-    </span> \n",
       "   <span class=\"ansi41\"></span><span class=\"ansi30 ansi41\"></span><span class=\"ansi4 ansi30 ansi41\">de dann auf die Strukturalien und Transzendentalien kommen!)             </span> \n",
       " 1 <span class=\"ansi100\"></span><span class=\"ansi37 ansi100\">Calculatory                                                              </span> \n",
       "\n",
       "</pre>\n",
       "</body>\n",
       "\n",
       "</html>\n"
      ],
      "text/plain": [
       "<IPython.core.display.HTML object>"
      ]
     },
     "metadata": {},
     "output_type": "display_data"
    }
   ],
   "source": [
    "from ansi2html import Ansi2HTMLConverter\n",
    "import sys\n",
    "sys.path.insert(1, '/home/alex/myRepos/reta')\n",
    "import subprocess\n",
    "from IPython.core.display import HTML\n",
    "# Erstellen Sie einen neuen Konverter mit Standardoptionen\n",
    "converter = Ansi2HTMLConverter()\n",
    "\n",
    "def externCommand(cmd: str, parameter: list[str]):\n",
    "    #return subprocess.check_output([cmd, *parameter], stderr=subprocess.STDOUT, universal_newlines=True)\n",
    "    p = subprocess.Popen([cmd, *parameter], stdout=subprocess.PIPE, stderr=subprocess.PIPE, universal_newlines=True)\n",
    "    output, err = p.communicate()\n",
    "    return output\n",
    "\n",
    "befehl = \"a u e 1\".split()\n",
    "html_output = converter.convert(externCommand(\"/home/alex/myRepos/reta/rp\",[\"-befehl\",*befehl]))\n",
    "\n",
    "# Geben Sie das HTML in einer Jupyter-Notebook-Zelle aus\n",
    "from IPython.core.display import HTML\n",
    "display(HTML(html_output))"
   ]
  },
  {
   "cell_type": "code",
   "execution_count": 1,
   "id": "d76b0bc0",
   "metadata": {},
   "outputs": [
    {
     "data": {
      "text/html": [
       "<table border=0 id=\"bigtable\">\n",
       "<tr style=\"background-color:#ff2222;color:#002222;\"> <td class=\"z_0 r_0 p1_zaehlung, p2_p3_0_, p4_\" style=\"background-color:#ffffff;color:#000000;\"> </td> <td class=\"z_0 r_1 p1_nummerierung, p2_p3_0_, p4_\"> </td> <td class=\"z_0 r_2 p1_Grundstrukturen,Menschliches,Wichtigstes_zum_verstehen, p2_p3_0_Paradigmen_sind_Absichten_(13),p3_1_Motive,p3_2_Wichtigste,p3_3_, p4_0,3\"> Intrinsische (nicht extrinsische) (intrinsisch = es direkt wollen und nicht indirekt) emotionale Intentionen bzw. Motive für Sternpolygone, Paradigmen (u.a. 13, Paradigmen sind nicht nur Typ 13, weil vermenschlicht) (Ein beliebiges Motiv zu haben ist Typ 1) (Jedes einzelne Motiv ergibt sich auch daraus, aus welchen Paradigmen und Meta-Paradigmen der Mensch besteht, ist also immer eine Zusammensetzung) Absichten (13) als Form des Geistes (15) </td> </tr>\n",
       "<tr style=\"background-color:#555500;color:#aaaaff;\"> <td style=\"background-color:#ffffff;color:#000000;\"> 1 </td> <td> 1 </td> <td> „Absicht“ (jegliche beliebige Absichten) (und alles weitere, das alle Paradigmen haben: einen „Denkansatz“) </td> </tr>\n",
       "</table>\n",
       "<table border=0 id=\"bigtable\">\n",
       "<tr style=\"background-color:#ff2222;color:#002222;\"> <td class=\"z_0 r_0 p1_zaehlung, p2_p3_0_, p4_\" style=\"background-color:#ffffff;color:#000000;\"> </td> <td class=\"z_0 r_1 p1_nummerierung, p2_p3_0_, p4_\"> </td> <td class=\"z_0 r_2 p1_Grundstrukturen,Inkrementieren,Inkrementieren,Universum,Universum,Universum,Wichtigstes_zum_verstehen, p2_p3_0_Strukturalien_bzw_Meta-Paradigmen_bzw_Transzendentalien_(15),p3_1_warum_Transzendentalie_=_Komplexität_von_Michael_Commons,p3_2_warum_Transzendentalie_=_Strukturgroesse_=_Charakter,p3_3_Transzendentalien,p3_4_warum_Transzendentalie_=_Komplexität_von_Michael_Commons,p3_5_warum_Transzendentalie_=_Strukturgroesse_=_Charakter,p3_6_Wichtigste,p3_7_, p4_0,4\"> Transzendentalien, -alien, universelle Strukturalien, Meta-Paradigmen (15) Transzendentalien (15 oder u.a. 15) sind die menschliche Sicht der Strukturalien (ausschließlich Typ 15) (In Lebewesen ist es Bewusstsein.). </td> <td class=\"z_0 r_3 p1_Größenordnung,Inkrementieren,Inkrementieren,Universum,Universum, p2_p3_0_Strukturgrösse,p3_1_,p3_2_warum_Transzendentalie_=_Strukturgroesse_=_Charakter,p3_3_Transzendentalien,p3_4_warum_Transzendentalie_=_Strukturgroesse_=_Charakter,p3_5_, p4_0,3\"> Informatiksicht </td> <td class=\"z_0 r_4 p1_Universum, p2_p3_0_Transzendentalien,p3_1_, p4_0,3\"> model of hierarchical complexity (adapted from Commons, Crone-Todd, &amp; Chen, 2014) [bis zu 15, danach ich Jupiter 3.0], Meta-Paradigmen (15) (Diese Spalte von u.a. Michael Commons ist wohl eher vermenschlicht, durch die Paradigmen [13] [3,8,10,17] und Metaparadigmen [15] [2|1/3|2/3|3/2|6|1/10|13|14|1/16|(16) ], aus denen der Mensch besteht. D.h. diese Zahlenkombinationen müsste man herausrechnen [Mindestens Typ 14 ist hier in dieser Spalte immer mit kombiniert.] und würde dann auf die Strukturalien und Transzendentalien kommen!) </td> </tr>\n",
       "<tr style=\"background-color:#555500;color:#aaaaff;\"> <td style=\"background-color:#ffffff;color:#000000;\"> 1 </td> <td> 1 </td> <td> Identität, z.B. mathematisch (1) </td> <td> Objekte identifizieren </td> <td> Calculatory </td> </tr>\n",
       "</table>\n"
      ],
      "text/plain": [
       "<IPython.core.display.HTML object>"
      ]
     },
     "execution_count": 1,
     "metadata": {},
     "output_type": "execute_result"
    }
   ],
   "source": [
    "from IPython.display import HTML\n",
    "import sys\n",
    "sys.path.insert(1, '/home/alex/myRepos/reta')\n",
    "import subprocess\n",
    "from IPython.core.display import HTML\n",
    "# Erstellen Sie einen neuen Konverter mit Standardoptionen\n",
    "\n",
    "def externCommand(cmd: str, parameter: list[str]):\n",
    "    #return subprocess.check_output([cmd, *parameter], stderr=subprocess.STDOUT, universal_newlines=True)\n",
    "    p = subprocess.Popen([cmd, *parameter], stdout=subprocess.PIPE, stderr=subprocess.PIPE, universal_newlines=True)\n",
    "    output, err = p.communicate()\n",
    "    return output\n",
    "\n",
    "befehl = \"a u e 1 -spalten --breite=0 -ausgabe --art=html --onetable\".split()\n",
    "htmlAusgabe = externCommand(\"/home/alex/myRepos/reta/rp\",[\"-befehl\",*befehl])\n",
    "\n",
    "# Geben Sie das HTML in einer Jupyter-Notebook-Zelle aus\n",
    "HTML(htmlAusgabe)"
   ]
  },
  {
   "cell_type": "code",
   "execution_count": 56,
   "id": "39084c82",
   "metadata": {},
   "outputs": [
    {
     "data": {
      "text/html": [
       "<table border=0 id=\"bigtable\">\n",
       "<tr style=\"background-color:#ff2222;color:#002222;\"> <td class=\"z_0 r_0 p1_zaehlung, p2_p3_0_, p4_\" style=\"background-color:#ffffff;color:#000000;\"> </td> <td class=\"z_0 r_1 p1_nummerierung, p2_p3_0_, p4_\"> </td> <td class=\"z_0 r_2 p1_Grundstrukturen,Menschliches,Wichtigstes_zum_verstehen, p2_p3_0_Paradigmen_sind_Absichten_(13),p3_1_Motive,p3_2_Wichtigste,p3_3_, p4_0,3\"> Extrinsische (= es indirekt wollen und nicht direkt zu wollen) (ggf. rationale) Motive für gleichförmige Polygone, Paradigmen, Reziproke 1/n (13 und oder 14) </td> </tr>\n",
       "<tr style=\"background-color:#009900;color:#ffffff;\"> <td style=\"background-color:#000000;color:#ffffff;\"> 2 </td> <td> 5 </td> <td> taugen, streben (sicher) </td> </tr>\n",
       "<tr style=\"background-color:#ffff66;color:#000099;\"> <td style=\"background-color:#000000;color:#ffffff;\"> 2 </td> <td> 6 </td> <td> einschätzen, bewerten, Klarheit oder Ethik wollen, gesellschaftliche Werte wollen (sicher) </td> </tr>\n",
       "<tr style=\"background-color:#555500;color:#aaaaff;\"> <td style=\"background-color:#ffffff;color:#000000;\"> 3 </td> <td> 15 </td> <td> Respekt in anderen sehen, sich durch andere selbst reflektieren wollen (d.h. umgekehrter Selbstrespekt) (größtenteils sicher) </td> </tr>\n",
       "<tr style=\"background-color:#000099;color:#ffff66;\"> <td style=\"background-color:#000000;color:#ffffff;\"> 4 </td> <td> 25 </td> <td> für Freizeitangebote sorgen wollen (halb bis größtenteils sicher) </td> </tr>\n",
       "<tr style=\"background-color:#009900;color:#ffffff;\"> <td style=\"background-color:#000000;color:#ffffff;\"> 6 </td> <td> 31 </td> <td> Konsumieren wollen von Feinsinniger Hochkultur, wie z.B. Oper (halb bis größtenteils sicher) </td> </tr>\n",
       "<tr style=\"background-color:#9999ff;color:#202000;\"> <td style=\"background-color:#000000;color:#ffffff;\"> 6 </td> <td> 32 </td> <td> arrangieren und organisieren und auch verherrlichen (halb bis größtenteils sicher) </td> </tr>\n",
       "<tr style=\"background-color:#555500;color:#aaaaff;\"> <td style=\"background-color:#000000;color:#ffffff;\"> 8 </td> <td> 45 </td> <td> befruchtet werden wollen bzw. als Mann zu wollen, dass die Frau Aktion ergreift, dass sie befruchtet wird, während der Mann passiv ist, also eher wie bei künstlicher Befruchtung (größtenteils sicher) </td> </tr>\n",
       "<tr style=\"background-color:#9999ff;color:#202000;\"> <td style=\"background-color:#ffffff;color:#000000;\"> 9 </td> <td> 64 </td> <td> Jemanden mental sozusagen hinterher rennen (halb sicher); andere Menschen zu delegieren (halb sicher) </td> </tr>\n",
       "</table>\n"
      ],
      "text/plain": [
       "<IPython.core.display.HTML object>"
      ]
     },
     "execution_count": 56,
     "metadata": {},
     "output_type": "execute_result"
    }
   ],
   "source": [
    "befehl = \"a v e 1/5-1/6,-1/10-1/12,-1/18,1/31-1/32 -spalten --breite=0 -ausgabe --art=html --onetable\".split()\n",
    "htmlAusgabe = externCommand(\"/home/alex/myRepos/reta/rp\",[\"-befehl\",*befehl])\n",
    "\n",
    "# Geben Sie das HTML in einer Jupyter-Notebook-Zelle aus\n",
    "#Ausgabe war, richtig: 1:5,6,15,25,31,32,45,64\n",
    "HTML(htmlAusgabe)"
   ]
  },
  {
   "cell_type": "code",
   "execution_count": 57,
   "id": "bb2500da",
   "metadata": {},
   "outputs": [
    {
     "data": {
      "text/html": [
       "<table border=0 id=\"bigtable\">\n",
       "<tr style=\"background-color:#ff2222;color:#002222;\"> <td class=\"z_0 r_0 p1_zaehlung, p2_p3_0_, p4_\" style=\"background-color:#ffffff;color:#000000;\"> </td> <td class=\"z_0 r_1 p1_nummerierung, p2_p3_0_, p4_\"> </td> <td class=\"z_0 r_2 p1_Grundstrukturen,Menschliches,Wichtigstes_zum_verstehen, p2_p3_0_Paradigmen_sind_Absichten_(13),p3_1_Motive,p3_2_Wichtigste,p3_3_, p4_0,3\"> Extrinsische (= es indirekt wollen und nicht direkt zu wollen) (ggf. rationale) Motive für gleichförmige Polygone, Paradigmen, Reziproke 1/n (13 und oder 14) </td> </tr>\n",
       "<tr style=\"background-color:#009900;color:#ffffff;\"> <td style=\"background-color:#ffffff;color:#000000;\"> 3 </td> <td> 13 </td> <td> Dinge umsetzen wollen und dazu ggf. Hilfe benötigen (größtenteils sicher bis sicher) unterweisen, unterrichten, anweisen, das Sollen, wie es sein sollte, instruction, should be </td> </tr>\n",
       "<tr style=\"background-color:#9999ff;color:#202000;\"> <td style=\"background-color:#ffffff;color:#000000;\"> 3 </td> <td> 16 </td> <td> eine Rolle einnehmen (oder spielen) (größtenteils sicher); zuweisen, wer wie oder was okay ist (halb sicher) </td> </tr>\n",
       "<tr style=\"background-color:#ffff66;color:#000099;\"> <td style=\"background-color:#ffffff;color:#000000;\"> 5 </td> <td> 26 </td> <td> umsorgt sein wollen, wie speziell Flugzeugpassagiere oder Patienten von speziell Notärzten (halb bis größtenteils sicher) </td> </tr>\n",
       "<tr style=\"background-color:#ffff66;color:#000099;\"> <td style=\"background-color:#000000;color:#ffffff;\"> 8 </td> <td> 48 </td> <td> (klar auf den Punkt gebracht) „einen (ausführlichen) Audit durchführen wollen“: sich um Lebens-Umstände kümmern, wie bei Qualitätssicherung, z.B. die Theorie der Arbeit analog wie Karl Marx, oder als Meta-Thema von Netzwerken, oder Planung der Herrichtung einer Ordnung (dabei auf urteilende Art einschätzen und auf einschätzende Art urteilen [wenn man aus diesen 2 Wortkombinationen ein Wort bekommt, dann wäre es endlich klar auf den Punkt gebracht]); Kümmern um die Lebensbedingungen, dass Menschen ihre Rolle in der Gesellschaft einnehmen (größtenteils sicher) </td> </tr>\n",
       "<tr style=\"background-color:#ffff66;color:#000099;\"> <td style=\"background-color:#000000;color:#ffffff;\"> 10 </td> <td> 80 </td> <td> Projekte starten und am Laufen halten wollen. (halb sicher) </td> </tr>\n",
       "</table>\n"
      ],
      "text/plain": [
       "<IPython.core.display.HTML object>"
      ]
     },
     "execution_count": 57,
     "metadata": {},
     "output_type": "execute_result"
    }
   ],
   "source": [
    "def teste(kurzbefehl: str):    \n",
    "    befehl = (\"a e \"+kurzbefehl+\" -spalten --breite=0 -ausgabe --art=html --onetable\").split()\n",
    "    return externCommand(\"/home/alex/myRepos/reta/rp\",[\"-befehl\",*befehl])\n",
    "\n",
    "HTML(teste(\"v 1/14-1/15+1/1+0/0,-1/14-1/15,-1/32,1/30\"))"
   ]
  },
  {
   "cell_type": "code",
   "execution_count": 58,
   "id": "e10729b4",
   "metadata": {},
   "outputs": [
    {
     "data": {
      "text/html": [
       "<table border=0 id=\"bigtable\">\n",
       "<tr style=\"background-color:#ff2222;color:#002222;\"> <td class=\"z_0 r_0 p1_zaehlung, p2_p3_0_, p4_\" style=\"background-color:#ffffff;color:#000000;\"> </td> <td class=\"z_0 r_1 p1_nummerierung, p2_p3_0_, p4_\"> </td> <td class=\"z_0 r_2 p1_Grundstrukturen,Menschliches,Wichtigstes_zum_verstehen, p2_p3_0_Paradigmen_sind_Absichten_(13),p3_1_Motive,p3_2_Wichtigste,p3_3_, p4_0,3\"> Extrinsische (= es indirekt wollen und nicht direkt zu wollen) (ggf. rationale) Motive für gleichförmige Polygone, Paradigmen, Reziproke 1/n (13 und oder 14) </td> </tr>\n",
       "<tr style=\"background-color:#009900;color:#ffffff;\"> <td style=\"background-color:#ffffff;color:#000000;\"> 3 </td> <td> 11 </td> <td> zu unterscheiden (tun), unterhalten werden wollen – z.B. als Zuschauer (halb bis größtenteils sicher) </td> </tr>\n",
       "<tr style=\"background-color:#ffff66;color:#000099;\"> <td style=\"background-color:#ffffff;color:#000000;\"> 3 </td> <td> 12 </td> <td> Kartieren wollen, z.B. als technischer Zeichner, alles als etwas eine „Ordnung zu geben“ (u.a. in seinem eigenen Gehirn) (1/12) statt umgekehrt die „Ordnung in der Welt zu suchen“ (12) (sicher); sich einer Ordnung unterwerfen (größtenteils sicher) </td> </tr>\n",
       "<tr style=\"background-color:#ffff66;color:#000099;\"> <td style=\"background-color:#ffffff;color:#000000;\"> 3 </td> <td> 14 </td> <td> analysieren (sicher) </td> </tr>\n",
       "<tr style=\"background-color:#555500;color:#aaaaff;\"> <td style=\"background-color:#ffffff;color:#000000;\"> 3 </td> <td> 15 </td> <td> Respekt in anderen sehen, sich durch andere selbst reflektieren wollen (d.h. umgekehrter Selbstrespekt) (größtenteils sicher) </td> </tr>\n",
       "<tr style=\"background-color:#ffff66;color:#000099;\"> <td style=\"background-color:#000000;color:#ffffff;\"> 4 </td> <td> 22 </td> <td> Wissenschaft als Konsument oder Journalist nachvollziehen wollen oder Humanistisch über Bildung und Wissenschaft die Welt sehen zu wollen oder Vererbungs-Dinge, wie Evolution, nachvollziehen wollen (halb bis größtenteils sicher) </td> </tr>\n",
       "<tr style=\"background-color:#ffff66;color:#000099;\"> <td style=\"background-color:#000000;color:#ffffff;\"> 4 </td> <td> 24 </td> <td> Motiv Moderation, Motiv Netzwerkevaluation, Protokollführung, Integritäts-Unversehrtheits-Überwachung, Motiv konsumieren vom Netzwerk (wo sogenannte Netzwerkeffekte auftreffen), die Netzwerkeigenschaften welche orthogonal vom Netzwerk vorliegen – davon dessen abgeleitete Motive dieser Eigenschaften (halb bis größtenteils sicher) </td> </tr>\n",
       "</table>\n"
      ],
      "text/plain": [
       "<IPython.core.display.HTML object>"
      ]
     },
     "execution_count": 58,
     "metadata": {},
     "output_type": "execute_result"
    }
   ],
   "source": [
    "# ausgabe war richtig: 11,12,14,15,22,24\n",
    "# nein war nicht richtig, erst jetzt wurden die vielfacher von 1/11 und 1/12 gebildet\n",
    "HTML(teste(\"1/14-1/15,v1/11-1/12,-1/44-1/48\"))"
   ]
  },
  {
   "cell_type": "code",
   "execution_count": 59,
   "id": "a7cb10cd",
   "metadata": {},
   "outputs": [
    {
     "data": {
      "text/html": [
       "<table border=0 id=\"bigtable\">\n",
       "<tr style=\"background-color:#ff2222;color:#002222;\"> <td class=\"z_0 r_0 p1_zaehlung, p2_p3_0_, p4_\" style=\"background-color:#ffffff;color:#000000;\"> </td> <td class=\"z_0 r_1 p1_nummerierung, p2_p3_0_, p4_\"> </td> <td class=\"z_0 r_2 p1_Grundstrukturen,Menschliches,Wichtigstes_zum_verstehen, p2_p3_0_Paradigmen_sind_Absichten_(13),p3_1_Motive,p3_2_Wichtigste,p3_3_, p4_0,3\"> Extrinsische (= es indirekt wollen und nicht direkt zu wollen) (ggf. rationale) Motive für gleichförmige Polygone, Paradigmen, Reziproke 1/n (13 und oder 14) </td> </tr>\n",
       "<tr style=\"background-color:#009900;color:#ffffff;\"> <td style=\"background-color:#ffffff;color:#000000;\"> 3 </td> <td> 11 </td> <td> zu unterscheiden (tun), unterhalten werden wollen – z.B. als Zuschauer (halb bis größtenteils sicher) </td> </tr>\n",
       "<tr style=\"background-color:#ffff66;color:#000099;\"> <td style=\"background-color:#ffffff;color:#000000;\"> 3 </td> <td> 12 </td> <td> Kartieren wollen, z.B. als technischer Zeichner, alles als etwas eine „Ordnung zu geben“ (u.a. in seinem eigenen Gehirn) (1/12) statt umgekehrt die „Ordnung in der Welt zu suchen“ (12) (sicher); sich einer Ordnung unterwerfen (größtenteils sicher) </td> </tr>\n",
       "<tr style=\"background-color:#ffff66;color:#000099;\"> <td style=\"background-color:#ffffff;color:#000000;\"> 3 </td> <td> 14 </td> <td> analysieren (sicher) </td> </tr>\n",
       "<tr style=\"background-color:#555500;color:#aaaaff;\"> <td style=\"background-color:#ffffff;color:#000000;\"> 3 </td> <td> 15 </td> <td> Respekt in anderen sehen, sich durch andere selbst reflektieren wollen (d.h. umgekehrter Selbstrespekt) (größtenteils sicher) </td> </tr>\n",
       "<tr style=\"background-color:#ffff66;color:#000099;\"> <td style=\"background-color:#000000;color:#ffffff;\"> 4 </td> <td> 22 </td> <td> Wissenschaft als Konsument oder Journalist nachvollziehen wollen oder Humanistisch über Bildung und Wissenschaft die Welt sehen zu wollen oder Vererbungs-Dinge, wie Evolution, nachvollziehen wollen (halb bis größtenteils sicher) </td> </tr>\n",
       "<tr style=\"background-color:#ffff66;color:#000099;\"> <td style=\"background-color:#000000;color:#ffffff;\"> 4 </td> <td> 24 </td> <td> Motiv Moderation, Motiv Netzwerkevaluation, Protokollführung, Integritäts-Unversehrtheits-Überwachung, Motiv konsumieren vom Netzwerk (wo sogenannte Netzwerkeffekte auftreffen), die Netzwerkeigenschaften welche orthogonal vom Netzwerk vorliegen – davon dessen abgeleitete Motive dieser Eigenschaften (halb bis größtenteils sicher) </td> </tr>\n",
       "<tr style=\"background-color:#ffff66;color:#000099;\"> <td style=\"background-color:#000000;color:#ffffff;\"> 6 </td> <td> 28 </td> <td> konsumieren wollen von Lebenshilfe-Ratgebern und davon profitieren wollen, seine Lebensführung zu verbessern (halb bis größtenteils sicher) </td> </tr>\n",
       "<tr style=\"background-color:#ffff66;color:#000099;\"> <td style=\"background-color:#000000;color:#ffffff;\"> 6 </td> <td> 30 </td> <td> Erkennen zu wollen, wie andere erkennen (z.B. philosophische Erkenntnis-Theorie betreiben wollen) (halb bis größtenteils sicher) </td> </tr>\n",
       "</table>\n"
      ],
      "text/plain": [
       "<IPython.core.display.HTML object>"
      ]
     },
     "execution_count": 59,
     "metadata": {},
     "output_type": "execute_result"
    }
   ],
   "source": [
    "HTML(teste(\"v 1/14-1/15,v1/11-1/12,-1/44-1/48\"))"
   ]
  },
  {
   "cell_type": "code",
   "execution_count": 61,
   "id": "aded6a59",
   "metadata": {},
   "outputs": [
    {
     "data": {
      "text/html": [
       "<table border=0 id=\"bigtable\">\n",
       "<tr style=\"background-color:#ff2222;color:#002222;\"> <td class=\"z_0 r_0 p1_zaehlung, p2_p3_0_, p4_\" style=\"background-color:#ffffff;color:#000000;\"> </td> <td class=\"z_0 r_1 p1_nummerierung, p2_p3_0_, p4_\"> </td> <td class=\"z_0 r_2 p1_gebrochengalaxie, p2_p3_0_2, p4_0,1,3,6\"> 2/n Galaxie </td> </tr>\n",
       "<tr style=\"background-color:#555500;color:#aaaaff;\"> <td style=\"background-color:#ffffff;color:#000000;\"> 1 </td> <td> 1 </td> <td> „Können“ (bzw,. „Können wollen“ 2*1) (Allein die Fähigkeit besitzen wollen [1], sich fortpflanzen zu können [2] [1*2=2]) </td> </tr>\n",
       "<tr style=\"background-color:#9999ff;color:#202000;\"> <td style=\"background-color:#ffffff;color:#000000;\"> 1 </td> <td> 4 </td> <td> möglich, Gelegenheiten ergreifen, andere befähigen, Talent (haben wollen) (größtenteils sicher) </td> </tr>\n",
       "<tr style=\"background-color:#009900;color:#ffffff;\"> <td style=\"background-color:#000000;color:#ffffff;\"> 2 </td> <td> 5 </td> <td> zu etwas passen wollen, passend sein wollen (2/5) (sicher); Erstellung [4/(1/10)] </td> </tr>\n",
       "</table>\n"
      ],
      "text/plain": [
       "<IPython.core.display.HTML object>"
      ]
     },
     "execution_count": 61,
     "metadata": {},
     "output_type": "execute_result"
    }
   ],
   "source": [
    "HTML(teste(\"2/14-2/15\"))"
   ]
  },
  {
   "cell_type": "code",
   "execution_count": 6,
   "id": "386ad11e",
   "metadata": {},
   "outputs": [
    {
     "data": {
      "text/html": [
       "0.2222222222222222\n",
       "<table border=0 id=\"bigtable\">\n",
       "<tr style=\"background-color:#ff2222;color:#002222;\"> <td class=\"z_0 r_0 p1_zaehlung, p2_p3_0_, p4_\" style=\"background-color:#ffffff;color:#000000;\"> </td> <td class=\"z_0 r_1 p1_nummerierung, p2_p3_0_, p4_\"> </td> <td class=\"z_0 r_2 p1_gebrochengalaxie, p2_p3_0_14, p4_0,1,3,6\"> 14/n Galaxie </td> </tr>\n",
       "<tr style=\"background-color:#66ff66;color:#000000;\"> <td style=\"background-color:#ffffff;color:#000000;\"> 1 </td> <td> 2 </td> <td> Selbstlosigkeit (als Liebe oder ohne) (Wölfe, Hunde) (dein Selbst von anderen abhängig machen, anderen zu überlassen, geben) oder „friedfertige Gutmütigkeit und Positivität zu anderen“ (Kühe [Meta-Paradigma 7]), vielleicht etc. (das sind schon 3 Arten des Guten); Dazu bereit sein, Teil von Synergieeffekten zu werden </td> </tr>\n",
       "<tr style=\"background-color:#9999ff;color:#202000;\"> <td style=\"background-color:#ffffff;color:#000000;\"> 1 </td> <td> 4 </td> <td> die positive Zugewandtheit einer Person gegenüber einer anderen (7/2); die Problemlösung, bzw. die Invariante (1 / 4) des Problemlösens (14/4) </td> </tr>\n",
       "<tr style=\"background-color:#ffff66;color:#000099;\"> <td style=\"background-color:#000000;color:#ffffff;\"> 2 </td> <td> 6 </td> <td> Alle Fälle, in denen Selbstlosigkeit benötigt und gebraucht wird, nicht nur Gemeinwohl oder Ehrenamt oder Feuerwehr (7*[1/3]) </td> </tr>\n",
       "<tr style=\"background-color:#9999ff;color:#202000;\"> <td style=\"background-color:#000000;color:#ffffff;\"> 2 </td> <td> 8 </td> <td> Güte oder zweckgerichtet gutmütig sein (7/4) </td> </tr>\n",
       "<tr style=\"background-color:#ffff66;color:#000099;\"> <td style=\"background-color:#ffffff;color:#000000;\"> 3 </td> <td> 10 </td> <td> großzügig sein (7/5) </td> </tr>\n",
       "<tr style=\"background-color:#ffff66;color:#000099;\"> <td style=\"background-color:#ffffff;color:#000000;\"> 3 </td> <td> 12 </td> <td> Geben (das bringt es auf den Punkt.); (wo ich noch am Denken war:) Anführen, wenn Menschen Vorteile daraus gewinnen, entweder mehr Führung und weniger Vorteile (= Bürokratie) oder mehr Vorteile und weniger Führung (= Liberalismus) (7/6); (herum-) Knobeln (=Probleme lösen, entweder mal sich einer Ordnung zu unterwefen oder pro sich zu sortieren) (14/12); jemanden (in z.B. Meinungsverschiedenheiten oder Konflikten) taktisch entgegenkommen und taktisch nachzugeben (21/18); </td> </tr>\n",
       "<tr style=\"background-color:#ffff66;color:#000099;\"> <td style=\"background-color:#ffffff;color:#000000;\"> 3 </td> <td> 14 </td> <td> die Methode des Wie; fachliche Spezialisierung (2/2), wählerisch sein (3/3) (halb bis größtenteils sicher); Das hier alles ist wahrscheinlich falsch: Erschaffen, zustande bringen (4/4); genügen (5/5); veranschlagen oder Effizienz und Effektivität (6/6); korrespondieren (7/7); Gerechtigkeit bestimmen (8/8); Zweckmäßigkeit (9/9); Tragweite bestimmen (10/10) </td> </tr>\n",
       "<tr style=\"background-color:#9999ff;color:#202000;\"> <td style=\"background-color:#ffffff;color:#000000;\"> 3 </td> <td> 16 </td> <td> unbefangen sein (d.h. selbstlos beurteilen) (7/8) </td> </tr>\n",
       "</table>\n",
       "<table border=0 id=\"bigtable\">\n",
       "<tr style=\"background-color:#ff2222;color:#002222;\"> <td class=\"z_0 r_0 p1_zaehlung, p2_p3_0_, p4_\" style=\"background-color:#ffffff;color:#000000;\"> </td> <td class=\"z_0 r_1 p1_nummerierung, p2_p3_0_, p4_\"> </td> <td class=\"z_0 r_2 p1_gebrochengalaxie, p2_p3_0_15, p4_0,1,3,6\"> 15/n Galaxie </td> </tr>\n",
       "<tr style=\"background-color:#ffff66;color:#000099;\"> <td style=\"background-color:#000000;color:#ffffff;\"> 2 </td> <td> 6 </td> <td> anerkennend annehmen wollen (5/2) (sicher); Verwirklichung und Vollbringung (10/4); intuitiv sein [15/(1/8)] </td> </tr>\n",
       "<tr style=\"background-color:#ffff66;color:#000099;\"> <td style=\"background-color:#ffffff;color:#000000;\"> 3 </td> <td> 10 </td> <td> Verwenden (3/2) (größtenteils sicher); griffbereit [3*(1/2)] (größtenteils sicher); investieren [6/(1/4)]; Investitionssumme bestimmen [9/(1/6)]; die Anordnung oder der Erlass [12/(1/8)] </td> </tr>\n",
       "<tr style=\"background-color:#ffff66;color:#000099;\"> <td style=\"background-color:#ffffff;color:#000000;\"> 3 </td> <td> 12 </td> <td> Anstellung erhalten wollen bzw. genauer, infrage gekommen sein (5/[1/4] und 5/4) (größtenteils sicher); eine Verordnung oder Rechtsnorm, verordnen wollen (10/8) </td> </tr>\n",
       "<tr style=\"background-color:#ffff66;color:#000099;\"> <td style=\"background-color:#000000;color:#ffffff;\"> 4 </td> <td> 18 </td> <td> jemanden oder etwas begehren (5/6) </td> </tr>\n",
       "</table>\n"
      ],
      "text/plain": [
       "<IPython.core.display.HTML object>"
      ]
     },
     "execution_count": 6,
     "metadata": {},
     "output_type": "execute_result"
    }
   ],
   "source": [
    "HTML(teste(\"v 2/14-2/15\"))"
   ]
  },
  {
   "cell_type": "code",
   "execution_count": 45,
   "id": "56323ceb",
   "metadata": {},
   "outputs": [
    {
     "data": {
      "text/html": [
       "reta -zeilen --vorhervonausschnitt=3,4,5,6,10,12,15,18,20,24,25,30,36,35,42,40,48,45,54,50,60,55,66,72,65,78,70,84,75,90,80,96,85,102,108,95,114,100,120,105,126,110,132,115,138,144,125,150,130,156,135,162,140,168,145,174,180,155,186,160,192,165,198,170,204,175,210,216,185,222,190,228,195,234,200,240,205,246,252,215,258,220,264,225,270,230,276,235,282,288,245,294,250,300,255,306,260,312,265,318,324,275,330,280,336,285,342,290,348,295,354,360,305,366,310,372,315,378,320,384,325,390,396,335,402,340,408,345,414,350,420,355,426,432,365,438,370,444,375,450,380,456,385,462,468,395,474,400,480,405,486,410,492,415,498,504,425,510,430,516,435,522,440,528,445,534,540,455,546,460,552,465,558,470,564,475,570,576,485,582,490,588,495,594,500,600,505,606,612,515,618,520,624,525,630,530,636,535,642,648,545,654,550,660,555,666,560,672,565,678,684,575,690,580,696,585,702,590,708,595,714,720,605,726,610,732,615,738,620,744,625,750,756,635,762,640,768,645,774,650,780,655,786,792,665,798,670,804,675,810,680,816,685,822,828,695,834,700,840,705,846,710,852,715,858,864,725,870,730,876,735,882,740,888,745,894,900,755,906,760,912,765,918,770,924,775,930,936,785,942,790,948,795,954,800,960,805,966,972,815,978,820,984,825,990,830,996,835,1002,1008,845,1014,850,1020,855,1026,860,865,875,880,885,890,895,905,910,915,920,925,935,940,945,950,955,965,970,975,980,985,995,1000,1005,1010,1015,1025 -spalten --gebrochengalaxie=2 --breite=78 -kombination -ausgabe --spaltenreihenfolgeundnurdiese=2  -spalten --breite=0 -ausgabe --art=html --onetable\n",
       "<table border=0 id=\"bigtable\">\n",
       "<tr style=\"background-color:#ff2222;color:#002222;\"> <td class=\"z_0 r_0 p1_zaehlung, p2_p3_0_, p4_\" style=\"background-color:#ffffff;color:#000000;\"> </td> <td class=\"z_0 r_1 p1_nummerierung, p2_p3_0_, p4_\"> </td> <td class=\"z_0 r_2 p1_gebrochengalaxie, p2_p3_0_2, p4_0,1,3,6\"> 2/n Galaxie </td> </tr>\n",
       "<tr style=\"background-color:#009900;color:#ffffff;\"> <td style=\"background-color:#ffffff;color:#000000;\"> 1 </td> <td> 3 </td> <td> Brauchbarkeit, brauchen (2/[1/3] und 2/3) (größtenteils sicher); Zeugnis abgeben [4/(1/6)]; der Wirkstoff [6/(1/9)]; sich einer Rechtssprechungsart unterwerfen [8/(1/12)] </td> </tr>\n",
       "<tr style=\"background-color:#9999ff;color:#202000;\"> <td style=\"background-color:#ffffff;color:#000000;\"> 1 </td> <td> 4 </td> <td> möglich, Gelegenheiten ergreifen, andere befähigen, Talent (haben wollen) (größtenteils sicher) </td> </tr>\n",
       "<tr style=\"background-color:#009900;color:#ffffff;\"> <td style=\"background-color:#000000;color:#ffffff;\"> 2 </td> <td> 5 </td> <td> zu etwas passen wollen, passend sein wollen (2/5) (sicher); Erstellung [4/(1/10)] </td> </tr>\n",
       "<tr style=\"background-color:#ffff66;color:#000099;\"> <td style=\"background-color:#000000;color:#ffffff;\"> 2 </td> <td> 6 </td> <td> Pragmatismus, pragmatisch sein (größtenteils sicher) (1/3), formen, wandeln (3/9) </td> </tr>\n",
       "<tr style=\"background-color:#ffff66;color:#000099;\"> <td style=\"background-color:#ffffff;color:#000000;\"> 3 </td> <td> 10 </td> <td> taugen, streben (sicher) </td> </tr>\n",
       "<tr style=\"background-color:#ffff66;color:#000099;\"> <td style=\"background-color:#ffffff;color:#000000;\"> 3 </td> <td> 12 </td> <td> einschätzen, bewerten, Klarheit oder Ethik wollen, gesellschaftliche Werte wollen (sicher) </td> </tr>\n",
       "<tr style=\"background-color:#ffff66;color:#000099;\"> <td style=\"background-color:#000000;color:#ffffff;\"> 4 </td> <td> 18 </td> <td> die potenziellen Mittel haben wollen (größtenteils sicher) </td> </tr>\n",
       "<tr style=\"background-color:#ffff66;color:#000099;\"> <td style=\"background-color:#000000;color:#ffffff;\"> 4 </td> <td> 20 </td> <td> Semantisch definieren (ich bin mir sehr sicher), erkennen lassen, für andere als Wahrheit gelten lassen, passende Wirklichkeit in seinem Gehirn durch Ontologie wollen (größtenteils sicher) </td> </tr>\n",
       "<tr style=\"background-color:#ffff66;color:#000099;\"> <td style=\"background-color:#000000;color:#ffffff;\"> 4 </td> <td> 24 </td> <td> Kartieren wollen, z.B. als technischer Zeichner, alles als etwas eine „Ordnung zu geben“ (u.a. in seinem eigenen Gehirn) (1/12) statt umgekehrt die „Ordnung in der Welt zu suchen“ (12) (sicher); sich einer Ordnung unterwerfen (größtenteils sicher) </td> </tr>\n",
       "<tr style=\"background-color:#ffff66;color:#000099;\"> <td style=\"background-color:#000000;color:#ffffff;\"> 6 </td> <td> 30 </td> <td> Respekt in anderen sehen, sich durch andere selbst reflektieren wollen (d.h. umgekehrter Selbstrespekt) (größtenteils sicher) </td> </tr>\n",
       "<tr style=\"background-color:#9999ff;color:#202000;\"> <td style=\"background-color:#ffffff;color:#000000;\"> 7 </td> <td> 36 </td> <td> durch einen anderen Menschen vollständig oder komplett sein wollen (größtenteils sicher) </td> </tr>\n",
       "<tr style=\"background-color:#ffff66;color:#000099;\"> <td style=\"background-color:#000000;color:#ffffff;\"> 8 </td> <td> 40 </td> <td> Meta-Rationalität (besonders im Judentum bekannter Begriff), prognostizieren, rekonstruieren, spekulieren (also nach der Klassifizierung [20] wieder die Umkehroperation [1/20] dessen zu tun) (größtenteils sicher) </td> </tr>\n",
       "<tr style=\"background-color:#ffff66;color:#000099;\"> <td style=\"background-color:#000000;color:#ffffff;\"> 8 </td> <td> 42 </td> <td> Nutznießen wollen von Schöpfungen der Selbstverwirklicher: z.B. Buch im Bücherladen kaufen oder in einem Restaurant essen (halb bis größtenteils sicher) </td> </tr>\n",
       "<tr style=\"background-color:#ffff66;color:#000099;\"> <td style=\"background-color:#000000;color:#ffffff;\"> 8 </td> <td> 48 </td> <td> Motiv Moderation, Motiv Netzwerkevaluation, Protokollführung, Integritäts-Unversehrtheits-Überwachung, Motiv konsumieren vom Netzwerk (wo sogenannte Netzwerkeffekte auftreffen), die Netzwerkeigenschaften welche orthogonal vom Netzwerk vorliegen – davon dessen abgeleitete Motive dieser Eigenschaften (halb bis größtenteils sicher) </td> </tr>\n",
       "<tr style=\"background-color:#ffff66;color:#000099;\"> <td style=\"background-color:#ffffff;color:#000000;\"> 9 </td> <td> 50 </td> <td> für Freizeitangebote sorgen wollen (halb bis größtenteils sicher) </td> </tr>\n",
       "<tr style=\"background-color:#ffff66;color:#000099;\"> <td style=\"background-color:#ffffff;color:#000000;\"> 9 </td> <td> 54 </td> <td> für die Entspannung und den guten Urlaub und Unterhaltung anderer sorgen wollen (halb bis größtenteils sicher) </td> </tr>\n",
       "<tr style=\"background-color:#ffff66;color:#000099;\"> <td style=\"background-color:#ffffff;color:#000000;\"> 9 </td> <td> 60 </td> <td> Erkennen zu wollen, wie andere erkennen (z.B. philosophische Erkenntnis-Theorie betreiben wollen) (halb bis größtenteils sicher) </td> </tr>\n",
       "<tr style=\"background-color:#ffff66;color:#000099;\"> <td style=\"background-color:#ffffff;color:#000000;\"> 11 </td> <td> 90 </td> <td> befruchtet werden wollen bzw. als Mann zu wollen, dass die Frau Aktion ergreift, dass sie befruchtet wird, während der Mann passiv ist, also eher wie bei künstlicher Befruchtung (größtenteils sicher) </td> </tr>\n",
       "<tr style=\"background-color:#ffff66;color:#000099;\"> <td style=\"background-color:#ffffff;color:#000000;\"> 11 </td> <td> 96 </td> <td> (klar auf den Punkt gebracht) „einen (ausführlichen) Audit durchführen wollen“: sich um Lebens-Umstände kümmern, wie bei Qualitätssicherung, z.B. die Theorie der Arbeit analog wie Karl Marx, oder als Meta-Thema von Netzwerken, oder Planung der Herrichtung einer Ordnung (dabei auf urteilende Art einschätzen und auf einschätzende Art urteilen [wenn man aus diesen 2 Wortkombinationen ein Wort bekommt, dann wäre es endlich klar auf den Punkt gebracht]); Kümmern um die Lebensbedingungen, dass Menschen ihre Rolle in der Gesellschaft einnehmen (größtenteils sicher) </td> </tr>\n",
       "<tr style=\"background-color:#ffff66;color:#000099;\"> <td style=\"background-color:#000000;color:#ffffff;\"> 16 </td> <td> 160 </td> <td> Projekte starten und am Laufen halten wollen. (halb sicher) </td> </tr>\n",
       "</table>\n"
      ],
      "text/plain": [
       "<IPython.core.display.HTML object>"
      ]
     },
     "execution_count": 45,
     "metadata": {},
     "output_type": "execute_result"
    }
   ],
   "source": [
    "HTML(teste(\"a 2/3-2/4,v2/5-2/6\"))"
   ]
  },
  {
   "cell_type": "code",
   "execution_count": 46,
   "id": "8171b60e",
   "metadata": {},
   "outputs": [
    {
     "data": {
      "text/html": [
       "reta -zeilen --vorhervonausschnitt=3,4,5,6,10,12,15,18,20,24,25,30,36,35,42,40,48,45,54,50,60,55,66,72,65,78,70,84,75,90,80,96,85,102,108,95,114,100,120,105,126,110,132,115,138,144,125,150,130,156,135,162,140,168,145,174,180,155,186,160,192,165,198,170,204,175,210,216,185,222,190,228,195,234,200,240,205,246,252,215,258,220,264,225,270,230,276,235,282,288,245,294,250,300,255,306,260,312,265,318,324,275,330,280,336,285,342,290,348,295,354,360,305,366,310,372,315,378,320,384,325,390,396,335,402,340,408,345,414,350,420,355,426,432,365,438,370,444,375,450,380,456,385,462,468,395,474,400,480,405,486,410,492,415,498,504,425,510,430,516,435,522,440,528,445,534,540,455,546,460,552,465,558,470,564,475,570,576,485,582,490,588,495,594,500,600,505,606,612,515,618,520,624,525,630,530,636,535,642,648,545,654,550,660,555,666,560,672,565,678,684,575,690,580,696,585,702,590,708,595,714,720,605,726,610,732,615,738,620,744,625,750,756,635,762,640,768,645,774,650,780,655,786,792,665,798,670,804,675,810,680,816,685,822,828,695,834,700,840,705,846,710,852,715,858,864,725,870,730,876,735,882,740,888,745,894,900,755,906,760,912,765,918,770,924,775,930,936,785,942,790,948,795,954,800,960,805,966,972,815,978,820,984,825,990,830,996,835,1002,1008,845,1014,850,1020,855,1026,860,865,875,880,885,890,895,905,910,915,920,925,935,940,945,950,955,965,970,975,980,985,995,1000,1005,1010,1015,1025,v-10-12 -spalten --gebrochengalaxie=2 --breite=78 -kombination -ausgabe --spaltenreihenfolgeundnurdiese=2  -spalten --breite=0 -ausgabe --art=html --onetable\n",
       "<table border=0 id=\"bigtable\">\n",
       "<tr style=\"background-color:#ff2222;color:#002222;\"> <td class=\"z_0 r_0 p1_zaehlung, p2_p3_0_, p4_\" style=\"background-color:#ffffff;color:#000000;\"> </td> <td class=\"z_0 r_1 p1_nummerierung, p2_p3_0_, p4_\"> </td> <td class=\"z_0 r_2 p1_gebrochengalaxie, p2_p3_0_2, p4_0,1,3,6\"> 2/n Galaxie </td> </tr>\n",
       "<tr style=\"background-color:#009900;color:#ffffff;\"> <td style=\"background-color:#ffffff;color:#000000;\"> 1 </td> <td> 3 </td> <td> Brauchbarkeit, brauchen (2/[1/3] und 2/3) (größtenteils sicher); Zeugnis abgeben [4/(1/6)]; der Wirkstoff [6/(1/9)]; sich einer Rechtssprechungsart unterwerfen [8/(1/12)] </td> </tr>\n",
       "<tr style=\"background-color:#9999ff;color:#202000;\"> <td style=\"background-color:#ffffff;color:#000000;\"> 1 </td> <td> 4 </td> <td> möglich, Gelegenheiten ergreifen, andere befähigen, Talent (haben wollen) (größtenteils sicher) </td> </tr>\n",
       "<tr style=\"background-color:#009900;color:#ffffff;\"> <td style=\"background-color:#000000;color:#ffffff;\"> 2 </td> <td> 5 </td> <td> zu etwas passen wollen, passend sein wollen (2/5) (sicher); Erstellung [4/(1/10)] </td> </tr>\n",
       "<tr style=\"background-color:#ffff66;color:#000099;\"> <td style=\"background-color:#000000;color:#ffffff;\"> 2 </td> <td> 6 </td> <td> Pragmatismus, pragmatisch sein (größtenteils sicher) (1/3), formen, wandeln (3/9) </td> </tr>\n",
       "<tr style=\"background-color:#ffff66;color:#000099;\"> <td style=\"background-color:#000000;color:#ffffff;\"> 4 </td> <td> 18 </td> <td> die potenziellen Mittel haben wollen (größtenteils sicher) </td> </tr>\n",
       "<tr style=\"background-color:#ffff66;color:#000099;\"> <td style=\"background-color:#000000;color:#ffffff;\"> 8 </td> <td> 42 </td> <td> Nutznießen wollen von Schöpfungen der Selbstverwirklicher: z.B. Buch im Bücherladen kaufen oder in einem Restaurant essen (halb bis größtenteils sicher) </td> </tr>\n",
       "<tr style=\"background-color:#ffff66;color:#000099;\"> <td style=\"background-color:#ffffff;color:#000000;\"> 9 </td> <td> 54 </td> <td> für die Entspannung und den guten Urlaub und Unterhaltung anderer sorgen wollen (halb bis größtenteils sicher) </td> </tr>\n",
       "</table>\n"
      ],
      "text/plain": [
       "<IPython.core.display.HTML object>"
      ]
     },
     "execution_count": 46,
     "metadata": {},
     "output_type": "execute_result"
    }
   ],
   "source": [
    "HTML(teste(\"a 2/3-2/4,v2/5-2/6,v-2/10-2/12\"))"
   ]
  },
  {
   "cell_type": "code",
   "execution_count": 15,
   "id": "be931e9a",
   "metadata": {},
   "outputs": [
    {
     "data": {
      "text/html": [
       "<table border=0 id=\"bigtable\">\n",
       "<tr style=\"background-color:#ff2222;color:#002222;\"> <td class=\"z_0 r_0 p1_zaehlung, p2_p3_0_, p4_\" style=\"background-color:#ffffff;color:#000000;\"> </td> <td class=\"z_0 r_1 p1_nummerierung, p2_p3_0_, p4_\"> </td> <td class=\"z_0 r_2 p1_Grundstrukturen,Menschliches,Wichtigstes_zum_verstehen, p2_p3_0_Paradigmen_sind_Absichten_(13),p3_1_Motive,p3_2_Wichtigste,p3_3_, p4_0,3\"> Extrinsische (= es indirekt wollen und nicht direkt zu wollen) (ggf. rationale) Motive für gleichförmige Polygone, Paradigmen, Reziproke 1/n (13 und oder 14) </td> </tr>\n",
       "<tr style=\"background-color:#009900;color:#ffffff;\"> <td style=\"background-color:#ffffff;color:#000000;\"> 1 </td> <td> 3 </td> <td> Pragmatismus, pragmatisch sein (größtenteils sicher) (1/3), formen, wandeln (3/9) </td> </tr>\n",
       "<tr style=\"background-color:#009900;color:#ffffff;\"> <td style=\"background-color:#000000;color:#ffffff;\"> 2 </td> <td> 5 </td> <td> taugen, streben (sicher) </td> </tr>\n",
       "<tr style=\"background-color:#ffff66;color:#000099;\"> <td style=\"background-color:#000000;color:#ffffff;\"> 2 </td> <td> 6 </td> <td> einschätzen, bewerten, Klarheit oder Ethik wollen, gesellschaftliche Werte wollen (sicher) </td> </tr>\n",
       "<tr style=\"background-color:#555500;color:#aaaaff;\"> <td style=\"background-color:#ffffff;color:#000000;\"> 3 </td> <td> 15 </td> <td> Respekt in anderen sehen, sich durch andere selbst reflektieren wollen (d.h. umgekehrter Selbstrespekt) (größtenteils sicher) </td> </tr>\n",
       "<tr style=\"background-color:#ffff66;color:#000099;\"> <td style=\"background-color:#000000;color:#ffffff;\"> 4 </td> <td> 18 </td> <td> durch einen anderen Menschen vollständig oder komplett sein wollen (größtenteils sicher) </td> </tr>\n",
       "<tr style=\"background-color:#000099;color:#ffff66;\"> <td style=\"background-color:#000000;color:#ffffff;\"> 4 </td> <td> 25 </td> <td> für Freizeitangebote sorgen wollen (halb bis größtenteils sicher) </td> </tr>\n",
       "<tr style=\"background-color:#555500;color:#aaaaff;\"> <td style=\"background-color:#000000;color:#ffffff;\"> 8 </td> <td> 45 </td> <td> befruchtet werden wollen bzw. als Mann zu wollen, dass die Frau Aktion ergreift, dass sie befruchtet wird, während der Mann passiv ist, also eher wie bei künstlicher Befruchtung (größtenteils sicher) </td> </tr>\n",
       "</table>\n",
       "<table border=0 id=\"bigtable\">\n",
       "<tr style=\"background-color:#ff2222;color:#002222;\"> <td class=\"z_0 r_0 p1_zaehlung, p2_p3_0_, p4_\" style=\"background-color:#ffffff;color:#000000;\"> </td> <td class=\"z_0 r_1 p1_nummerierung, p2_p3_0_, p4_\"> </td> <td class=\"z_0 r_2 p1_gebrochengalaxie, p2_p3_0_2, p4_0,1,3,6\"> n/2 Galaxie </td> </tr>\n",
       "<tr style=\"background-color:#009900;color:#ffffff;\"> <td style=\"background-color:#ffffff;color:#000000;\"> 1 </td> <td> 3 </td> <td> Verwenden (3/2) (größtenteils sicher); griffbereit [3*(1/2)] (größtenteils sicher); investieren [6/(1/4)]; Investitionssumme bestimmen [9/(1/6)]; die Anordnung oder der Erlass [12/(1/8)] </td> </tr>\n",
       "<tr style=\"background-color:#009900;color:#ffffff;\"> <td style=\"background-color:#000000;color:#ffffff;\"> 2 </td> <td> 5 </td> <td> anerkennend annehmen wollen (5/2) (sicher); Verwirklichung und Vollbringung (10/4); intuitiv sein [15/(1/8)] </td> </tr>\n",
       "<tr style=\"background-color:#ffff66;color:#000099;\"> <td style=\"background-color:#000000;color:#ffffff;\"> 2 </td> <td> 6 </td> <td> ‚Nutzen‘ (altes Testament und Mensch); wahrscheinlich: „ ‚Beißen‘ als zentrales Konzept; ‚Mimese‘ und ‚Mimikry‘ (3 mit wahrscheinlich auch 2)“; Rüssel eines Elefanten und Tentakel nutzen als weitere Formen </td> </tr>\n",
       "<tr style=\"background-color:#ffff66;color:#000099;\"> <td style=\"background-color:#000000;color:#ffffff;\"> 4 </td> <td> 18 </td> <td> „Zweck“ oder auch „sich vereinen wollen“ </td> </tr>\n",
       "<tr style=\"background-color:#ffff66;color:#000099;\"> <td style=\"background-color:#000000;color:#ffffff;\"> 8 </td> <td> 42 </td> <td> (klar auf den Punkt gebracht) Über-ich-losigkeit, Leidenschaft zu einer Aufgabe, Beruf, Hobby, zu Fortpflanzung, sein Überich durch andere Menschen definieren zu lassen (100% sicher); (größere Gefahr beraubt zu werden, als wäre man ein Egoist, da sich Egoisten aus Egoismus mehr absichern) Vermutlich ist der Grundgedanke die gegenseitige Selbstlosigkeit. </td> </tr>\n",
       "<tr style=\"background-color:#ffff66;color:#000099;\"> <td style=\"background-color:#ffffff;color:#000000;\"> 9 </td> <td> 54 </td> <td> (klar auf den Punkt gebracht) „Urlaub machen wollen“. Konfliktunfähigkeit als taktischer geordneter Rückzug, Auflösung von Deadlocks und Livelocks in Bidirektionalität (das stimmt sehr wahrscheinlich) </td> </tr>\n",
       "<tr style=\"background-color:#ffff66;color:#000099;\"> <td style=\"background-color:#000000;color:#ffffff;\"> 10 </td> <td> 78 </td> <td> (klar auf den Punkt gebracht) „Maßnahmen unternehmen wollen“, u.a. zur Hilfe (13) des Überlebens (3) (3*13) (wie die extremen baulichen Maßnahmen in Japan gegen Umweltkatastrophen). Der Grundgedanke ist die gegenseitige Hilfe. Hilfsmittel verwenden (größtenteils sicher); Jemanden helfen (13), zu greifen oder zu benutzen (3) (3*19=39), gemeinsam sich beim Greifen oder Benutzen helfen. Es ist wie bei Fortpflanzung ohne Liebe, jedoch basierend auf Liebe vom Typ 39. dabei: Tarnung und Isolation verwenden und strebsam Informationen für das Gedeihen verbergen (und zu wollen, dass alle das auch so wollen) (sicher); Die Denkansätze (13) des Greifens (3) und Benutzens (3) verinnerlichen wollen, was zur Hilfe (13) zum Benutzen (3) anderer nützt (sicher) </td> </tr>\n",
       "<tr style=\"background-color:#ffff66;color:#000099;\"> <td style=\"background-color:#000000;color:#ffffff;\"> 12 </td> <td> 102 </td> <td> (klar auf den Punkt gebracht) Sich fern halten wollen von allen Dingen, die ungewiss schlecht sind. Bangen, sich sorgen, angewidert sein – eine Erkenntnisform, durch die man Anlässe (zu Sorge und Ekels, zum Wandel der Zeit, der Zeitepochen und anderem) geistig sehen kann und vermitteln kann; Anlässe sind dadurch nicht nur als Vorwand zu sehen, sondern diese höhere Erkenntnisform ermöglicht das Wissen darum, so dass nichts mehr bloß ein Vorwand ist. Die meisten Vorwände sind damit also als Anlässe durchschaubar. (größtenteil sicher); Emotional meist verbunden mit dem Gefühl angewidert zu sein. Angewidert sein (51:=17*3) ist hier also eine Steigerung von Abneigung (17*1). D.h. dass bei 17*n bei jeweils höherem n eine Steigerung von dem Gefühl der Abneigung kommt. (größtenteils sicher) (Der Grundgedanke ist die gegenseitige Bestimmung der Meinung und Position. ) </td> </tr>\n",
       "<tr style=\"background-color:#ffff66;color:#000099;\"> <td style=\"background-color:#000000;color:#ffffff;\"> 12 </td> <td> 114 </td> <td> (klar auf den Punkt gebracht) „Menschen oder Lebewesen einen sehr gewaltigen Vortritt, vor allen anderen Menschen oder Lebewesen, gewähren, die für aller unsere Ziele nützlich sind“, bishin dass deren Fortpflanzung sehr besonders wichtiger ist, als die von sehr vielen anderen. (Vermutlich ist der Grundgedanke, den gegenseitigen Nutzen von Motivation zu erhalten.) (sicher) Andere zu ihrer Nützlichkeit und Existenz motivieren, durch: Womöglich für die langfristige Existenz (3) ausgewählter Menschen sorgen (die, die sich nützlich [3] machen, wie Nutzpflanzen) bzw. ganzer langfristiger Familienstammbäume, was dazu führt oder führen kann, dass andere nicht weiter existieren sollen, die unnütze, wie Unkraut sind. (halb sicher bis sicher) </td> </tr>\n",
       "<tr style=\"background-color:#ffff66;color:#000099;\"> <td style=\"background-color:#000000;color:#ffffff;\"> 14 </td> <td> 126 </td> <td> (klar auf den Punkt gebracht) „Hingebung“ (zu allem erdenklichen: Folgen einer Leidenschaft, zu einer Aufgabe, zu Personen) (Steigerung von Leidenschaft). Den guten Zweck als oberstes Ziel (für Unternehmensgründung, Hobbies, etc.) (größtenteils sicher) </td> </tr>\n",
       "<tr style=\"background-color:#ffff66;color:#000099;\"> <td style=\"background-color:#ffffff;color:#000000;\"> 15 </td> <td> 138 </td> <td> (klar auf den Punkt gebracht) „In die Welt eingreifen, um Vertraulichkeit sicherzustellen“ (Der Grundgedanke ist bei sich gegenseitig sozusagen hineinzuschauen.) Andere Menschen emotional hart prüfen und testen (lassen) wollen, ob sie deiner Zuwendung würdig sind. Das geht so weit, dass man diese sehr bekämpft, ggf. feindselig zu dir macht, um zu sehen, ob sie dabei dennoch dir zugewandt sind und dir dennoch treu ergeben bleiben. Die von dieser Prüfung betroffenen bestehen die Prüfung viel eher, wenn sie von dieser Art der Fortpflanzung sehr bedürftig und abhängig sind. Die emotional Bedürftigen gewinnen hier also. (größtenteils sicher) </td> </tr>\n",
       "<tr style=\"background-color:#ffff66;color:#000099;\"> <td style=\"background-color:#000000;color:#ffffff;\"> 16 </td> <td> 162 </td> <td> (klar auf den Punkt gebracht) Eskalieren (z.B. zu körperlicher Nähe), Zuspitzung von (u.a. und nicht nur) Problemen zulassen oder verstärken (damit ein anderer sie endlich löst) (sicher) </td> </tr>\n",
       "<tr style=\"background-color:#ffff66;color:#000099;\"> <td style=\"background-color:#ffffff;color:#000000;\"> 17 </td> <td> 174 </td> <td> (klar auf den Punkt gebracht) „ausbeuten und ausschöpfen von geistigem Gedankengut“ (in der Galaxie um schwarze Löcher) - Abkehr von körperlicher Liebe und Abkehr von anderen, die sich körperlich lieben und dies zu verdammen (wenn andere sich körperlich lieben), insofern: sich vom Materiellen lösen wollen, das dem Geistigen im Weg steht und von Personen, die dich am Materiellen halten lassen, wo du zu dem höheren Geistigen willst (größtenteils sicher) </td> </tr>\n",
       "<tr style=\"background-color:#ffff66;color:#000099;\"> <td style=\"background-color:#ffffff;color:#000000;\"> 17 </td> <td> 186 </td> <td> (klar auf den Punkt gebracht) „sehr gegen Borniertheit und Grobschlächtigkeit insofern vorgehen wollen, dass Fingerspitzengefühl und Feingefühl gewährleistet werden kann.“ (größtenteils sicher) Genauer aus dem Thomasevangelium: Um Menschen die emotional-sensorische Erfahrung mit dessen emotionaler Informationsaufnahme maximal zu verbessern: dafür zu sorgen (es zu nutzen [3]), zu befehlen, dass Unschuldige und Schwangere von schadhaften Einflüssen, wie Hass gegen Naivität (Hunde) oder sexuelles Cuckolding zum Schaden von Schwangeren und deren Männer (Schweine), fern gehalten werden sollen! (größtenteils sicher) </td> </tr>\n",
       "</table>\n"
      ],
      "text/plain": [
       "<IPython.core.display.HTML object>"
      ]
     },
     "execution_count": 15,
     "metadata": {},
     "output_type": "execute_result"
    }
   ],
   "source": [
    "HTML(teste(\"a 1/3-2/4,v1/5-2/6,v-1/10-2/12,-1/4-2/4\"))"
   ]
  },
  {
   "cell_type": "code",
   "execution_count": 16,
   "id": "ff3abb10",
   "metadata": {},
   "outputs": [
    {
     "data": {
      "text/html": [
       "<table border=0 id=\"bigtable\">\n",
       "<tr style=\"background-color:#ff2222;color:#002222;\"> <td class=\"z_0 r_0 p1_zaehlung, p2_p3_0_, p4_\" style=\"background-color:#ffffff;color:#000000;\"> </td> <td class=\"z_0 r_1 p1_nummerierung, p2_p3_0_, p4_\"> </td> <td class=\"z_0 r_2 p1_gebrochengalaxie, p2_p3_0_3, p4_0,1,3,6\"> n/3 Galaxie </td> </tr>\n",
       "<tr style=\"background-color:#9999ff;color:#202000;\"> <td style=\"background-color:#ffffff;color:#000000;\"> 1 </td> <td> 4 </td> <td> erschaffen, Schöpfen (sicher) (4/3); Verliehen oder gestohlen oder Eigentum im Besitz (8/6) Respekt bekommen (ist hier eigentlich nur ein Aspekt) (8/6); Ordnungsmittel [12/(1/9)] </td> </tr>\n",
       "<tr style=\"background-color:#009900;color:#ffffff;\"> <td style=\"background-color:#000000;color:#ffffff;\"> 2 </td> <td> 5 </td> <td> der Bedarf (5/3 und 5/[1/3]) (sicher); die Relevanz (10/6); für Umstände sorgen (15/9) </td> </tr>\n",
       "<tr style=\"background-color:#ffff66;color:#000099;\"> <td style=\"background-color:#000000;color:#ffffff;\"> 2 </td> <td> 6 </td> <td> „Können“ (bzw,. „Können wollen“ 2*1) (Allein die Fähigkeit besitzen wollen [1], sich fortpflanzen zu können [2] [1*2=2]) </td> </tr>\n",
       "</table>\n",
       "<table border=0 id=\"bigtable\">\n",
       "<tr style=\"background-color:#ff2222;color:#002222;\"> <td class=\"z_0 r_0 p1_zaehlung, p2_p3_0_, p4_\" style=\"background-color:#ffffff;color:#000000;\"> </td> <td class=\"z_0 r_1 p1_nummerierung, p2_p3_0_, p4_\"> </td> <td class=\"z_0 r_2 p1_gebrochengalaxie, p2_p3_0_4, p4_0,1,3,6\"> n/4 Galaxie </td> </tr>\n",
       "<tr style=\"background-color:#9999ff;color:#202000;\"> <td style=\"background-color:#ffffff;color:#000000;\"> 1 </td> <td> 4 </td> <td> die Methode des Wie; fachliche Spezialisierung (2/2), wählerisch sein (3/3) (halb bis größtenteils sicher); Das hier alles ist wahrscheinlich falsch: Erschaffen, zustande bringen (4/4); genügen (5/5); veranschlagen oder Effizienz und Effektivität (6/6); korrespondieren (7/7); Gerechtigkeit bestimmen (8/8); Zweckmäßigkeit (9/9); Tragweite bestimmen (10/10) </td> </tr>\n",
       "<tr style=\"background-color:#009900;color:#ffffff;\"> <td style=\"background-color:#000000;color:#ffffff;\"> 2 </td> <td> 5 </td> <td> Anstellung erhalten wollen bzw. genauer, infrage gekommen sein (5/[1/4] und 5/4) (größtenteils sicher); eine Verordnung oder Rechtsnorm, verordnen wollen (10/8) </td> </tr>\n",
       "<tr style=\"background-color:#ffff66;color:#000099;\"> <td style=\"background-color:#000000;color:#ffffff;\"> 2 </td> <td> 6 </td> <td> Verwenden (3/2) (größtenteils sicher); griffbereit [3*(1/2)] (größtenteils sicher); investieren [6/(1/4)]; Investitionssumme bestimmen [9/(1/6)]; die Anordnung oder der Erlass [12/(1/8)] </td> </tr>\n",
       "</table>\n",
       "<table border=0 id=\"bigtable\">\n",
       "<tr style=\"background-color:#ff2222;color:#002222;\"> <td class=\"z_0 r_0 p1_zaehlung, p2_p3_0_, p4_\" style=\"background-color:#ffffff;color:#000000;\"> </td> <td class=\"z_0 r_1 p1_nummerierung, p2_p3_0_, p4_\"> </td> <td class=\"z_0 r_2 p1_gebrochengalaxie, p2_p3_0_5, p4_0,1,3,6\"> n/5 Galaxie </td> </tr>\n",
       "<tr style=\"background-color:#9999ff;color:#202000;\"> <td style=\"background-color:#ffffff;color:#000000;\"> 1 </td> <td> 4 </td> <td> Testen (4/5 und 4/[1/5]); Autonomie wollen (8/10) </td> </tr>\n",
       "<tr style=\"background-color:#009900;color:#ffffff;\"> <td style=\"background-color:#000000;color:#ffffff;\"> 2 </td> <td> 5 </td> <td> die Methode des Wie; fachliche Spezialisierung (2/2), wählerisch sein (3/3) (halb bis größtenteils sicher); Das hier alles ist wahrscheinlich falsch: Erschaffen, zustande bringen (4/4); genügen (5/5); veranschlagen oder Effizienz und Effektivität (6/6); korrespondieren (7/7); Gerechtigkeit bestimmen (8/8); Zweckmäßigkeit (9/9); Tragweite bestimmen (10/10) </td> </tr>\n",
       "<tr style=\"background-color:#ffff66;color:#000099;\"> <td style=\"background-color:#000000;color:#ffffff;\"> 2 </td> <td> 6 </td> <td> ausbeuten wollen (sowohl im guten, als auch im nicht so guten Sinn, d.h. zunächst neutral) (6/5) </td> </tr>\n",
       "</table>\n"
      ],
      "text/plain": [
       "<IPython.core.display.HTML object>"
      ]
     },
     "execution_count": 16,
     "metadata": {},
     "output_type": "execute_result"
    }
   ],
   "source": [
    "HTML(teste(\"a 3/4-5/6\"))"
   ]
  },
  {
   "cell_type": "code",
   "execution_count": 22,
   "id": "d848e3dd",
   "metadata": {},
   "outputs": [
    {
     "data": {
      "text/html": [
       "<table border=0 id=\"bigtable\">\n",
       "<tr style=\"background-color:#ff2222;color:#002222;\"> <td class=\"z_0 r_0 p1_zaehlung, p2_p3_0_, p4_\" style=\"background-color:#ffffff;color:#000000;\"> </td> <td class=\"z_0 r_1 p1_nummerierung, p2_p3_0_, p4_\"> </td> <td class=\"z_0 r_2 p1_gebrochengalaxie, p2_p3_0_3, p4_0,1,3,6\"> 3/n Galaxie </td> </tr>\n",
       "<tr style=\"background-color:#9999ff;color:#202000;\"> <td style=\"background-color:#ffffff;color:#000000;\"> 1 </td> <td> 4 </td> <td> entwickeln, sich heranbilden, herausbilden, sich bilden (sicher) (3/4), Wenn ich etwas benötigen sollte, kann damit überhaupt etwas erreichen? ([1/4]/[1/3]), Selbstkritik und respektvoll sein (6/8) und Frage nach Wucher oder Schnäppchen (6/8), Zusammenhänge real, irreal, möglich, unmöglich (9/12), Rechtmäßigkeit und Musterung (1/8)/(1/6) (ich bin mir sehr sicher); Subsidiarität (12/16); Zuständigkeit oder auch investigativ sein [(1/16)/(1/12)] </td> </tr>\n",
       "<tr style=\"background-color:#009900;color:#ffffff;\"> <td style=\"background-color:#000000;color:#ffffff;\"> 2 </td> <td> 5 </td> <td> Verwendbarkeit (3/5 und 3/[1/5]) (größtenteils sicher); das Privileg (6/10); Gegebenheit (9/15) </td> </tr>\n",
       "<tr style=\"background-color:#ffff66;color:#000099;\"> <td style=\"background-color:#000000;color:#ffffff;\"> 2 </td> <td> 6 </td> <td> möglich, Gelegenheiten ergreifen, andere befähigen, Talent (haben wollen) (größtenteils sicher) </td> </tr>\n",
       "<tr style=\"background-color:#9999ff;color:#202000;\"> <td style=\"background-color:#000000;color:#ffffff;\"> 2 </td> <td> 8 </td> <td> Beweismittel heranziehen (3/8) </td> </tr>\n",
       "<tr style=\"background-color:#ffff66;color:#000099;\"> <td style=\"background-color:#ffffff;color:#000000;\"> 3 </td> <td> 10 </td> <td> Amortisation (zu wollen, dass sich etwas mit einer Bedeutung lohnt, d.h. nützt) (unsicher) (3/10) </td> </tr>\n",
       "<tr style=\"background-color:#ffff66;color:#000099;\"> <td style=\"background-color:#ffffff;color:#000000;\"> 3 </td> <td> 12 </td> <td> andere etwas machen lassen zu veranlassen, fangen, fotografieren, flüchtiges fest werden lassen </td> </tr>\n",
       "<tr style=\"background-color:#555500;color:#aaaaff;\"> <td style=\"background-color:#ffffff;color:#000000;\"> 3 </td> <td> 15 </td> <td> taugen, streben (sicher) </td> </tr>\n",
       "<tr style=\"background-color:#ffff66;color:#000099;\"> <td style=\"background-color:#000000;color:#ffffff;\"> 4 </td> <td> 18 </td> <td> einschätzen, bewerten, Klarheit oder Ethik wollen, gesellschaftliche Werte wollen (sicher) </td> </tr>\n",
       "</table>\n",
       "<table border=0 id=\"bigtable\">\n",
       "<tr style=\"background-color:#ff2222;color:#002222;\"> <td class=\"z_0 r_0 p1_zaehlung, p2_p3_0_, p4_\" style=\"background-color:#ffffff;color:#000000;\"> </td> <td class=\"z_0 r_1 p1_nummerierung, p2_p3_0_, p4_\"> </td> <td class=\"z_0 r_2 p1_gebrochengalaxie, p2_p3_0_6, p4_0,1,3,6\"> 6/n Galaxie </td> </tr>\n",
       "<tr style=\"background-color:#9999ff;color:#202000;\"> <td style=\"background-color:#ffffff;color:#000000;\"> 1 </td> <td> 4 </td> <td> Verwenden (3/2) (größtenteils sicher); griffbereit [3*(1/2)] (größtenteils sicher); investieren [6/(1/4)]; Investitionssumme bestimmen [9/(1/6)]; die Anordnung oder der Erlass [12/(1/8)] </td> </tr>\n",
       "<tr style=\"background-color:#009900;color:#ffffff;\"> <td style=\"background-color:#000000;color:#ffffff;\"> 2 </td> <td> 5 </td> <td> ausbeuten wollen (sowohl im guten, als auch im nicht so guten Sinn, d.h. zunächst neutral) (6/5) </td> </tr>\n",
       "<tr style=\"background-color:#ffff66;color:#000099;\"> <td style=\"background-color:#000000;color:#ffffff;\"> 2 </td> <td> 6 </td> <td> die Methode des Wie; fachliche Spezialisierung (2/2), wählerisch sein (3/3) (halb bis größtenteils sicher); Das hier alles ist wahrscheinlich falsch: Erschaffen, zustande bringen (4/4); genügen (5/5); veranschlagen oder Effizienz und Effektivität (6/6); korrespondieren (7/7); Gerechtigkeit bestimmen (8/8); Zweckmäßigkeit (9/9); Tragweite bestimmen (10/10) </td> </tr>\n",
       "<tr style=\"background-color:#9999ff;color:#202000;\"> <td style=\"background-color:#000000;color:#ffffff;\"> 2 </td> <td> 8 </td> <td> entwickeln, sich heranbilden, herausbilden, sich bilden (sicher) (3/4), Wenn ich etwas benötigen sollte, kann damit überhaupt etwas erreichen? ([1/4]/[1/3]), Selbstkritik und respektvoll sein (6/8) und Frage nach Wucher oder Schnäppchen (6/8), Zusammenhänge real, irreal, möglich, unmöglich (9/12), Rechtmäßigkeit und Musterung (1/8)/(1/6) (ich bin mir sehr sicher); Subsidiarität (12/16); Zuständigkeit oder auch investigativ sein [(1/16)/(1/12)] </td> </tr>\n",
       "<tr style=\"background-color:#ffff66;color:#000099;\"> <td style=\"background-color:#ffffff;color:#000000;\"> 3 </td> <td> 10 </td> <td> Verwendbarkeit (3/5 und 3/[1/5]) (größtenteils sicher); das Privileg (6/10); Gegebenheit (9/15) </td> </tr>\n",
       "<tr style=\"background-color:#ffff66;color:#000099;\"> <td style=\"background-color:#ffffff;color:#000000;\"> 3 </td> <td> 12 </td> <td> möglich, Gelegenheiten ergreifen, andere befähigen, Talent (haben wollen) (größtenteils sicher) </td> </tr>\n",
       "<tr style=\"background-color:#555500;color:#aaaaff;\"> <td style=\"background-color:#ffffff;color:#000000;\"> 3 </td> <td> 15 </td> <td> zu etwas passen wollen, passend sein wollen (2/5) (sicher); Erstellung [4/(1/10)] </td> </tr>\n",
       "<tr style=\"background-color:#9999ff;color:#202000;\"> <td style=\"background-color:#ffffff;color:#000000;\"> 3 </td> <td> 16 </td> <td> Beweismittel heranziehen (3/8) </td> </tr>\n",
       "<tr style=\"background-color:#ffff66;color:#000099;\"> <td style=\"background-color:#000000;color:#ffffff;\"> 4 </td> <td> 18 </td> <td> Pragmatismus, pragmatisch sein (größtenteils sicher) (1/3), formen, wandeln (3/9) </td> </tr>\n",
       "</table>\n",
       "<table border=0 id=\"bigtable\">\n",
       "<tr style=\"background-color:#ff2222;color:#002222;\"> <td class=\"z_0 r_0 p1_zaehlung, p2_p3_0_, p4_\" style=\"background-color:#ffffff;color:#000000;\"> </td> <td class=\"z_0 r_1 p1_nummerierung, p2_p3_0_, p4_\"> </td> <td class=\"z_0 r_2 p1_gebrochengalaxie, p2_p3_0_9, p4_0,1,3,6\"> 9/n Galaxie </td> </tr>\n",
       "<tr style=\"background-color:#9999ff;color:#202000;\"> <td style=\"background-color:#ffffff;color:#000000;\"> 1 </td> <td> 4 </td> <td> überhaupt etwas erreichen wollen (9/4) </td> </tr>\n",
       "<tr style=\"background-color:#ffff66;color:#000099;\"> <td style=\"background-color:#000000;color:#ffffff;\"> 2 </td> <td> 6 </td> <td> Verwenden (3/2) (größtenteils sicher); griffbereit [3*(1/2)] (größtenteils sicher); investieren [6/(1/4)]; Investitionssumme bestimmen [9/(1/6)]; die Anordnung oder der Erlass [12/(1/8)] </td> </tr>\n",
       "<tr style=\"background-color:#ffff66;color:#000099;\"> <td style=\"background-color:#ffffff;color:#000000;\"> 3 </td> <td> 12 </td> <td> entwickeln, sich heranbilden, herausbilden, sich bilden (sicher) (3/4), Wenn ich etwas benötigen sollte, kann damit überhaupt etwas erreichen? ([1/4]/[1/3]), Selbstkritik und respektvoll sein (6/8) und Frage nach Wucher oder Schnäppchen (6/8), Zusammenhänge real, irreal, möglich, unmöglich (9/12), Rechtmäßigkeit und Musterung (1/8)/(1/6) (ich bin mir sehr sicher); Subsidiarität (12/16); Zuständigkeit oder auch investigativ sein [(1/16)/(1/12)] </td> </tr>\n",
       "<tr style=\"background-color:#555500;color:#aaaaff;\"> <td style=\"background-color:#ffffff;color:#000000;\"> 3 </td> <td> 15 </td> <td> Verwendbarkeit (3/5 und 3/[1/5]) (größtenteils sicher); das Privileg (6/10); Gegebenheit (9/15) </td> </tr>\n",
       "<tr style=\"background-color:#ffff66;color:#000099;\"> <td style=\"background-color:#000000;color:#ffffff;\"> 4 </td> <td> 18 </td> <td> möglich, Gelegenheiten ergreifen, andere befähigen, Talent (haben wollen) (größtenteils sicher) </td> </tr>\n",
       "</table>\n",
       "<table border=0 id=\"bigtable\">\n",
       "<tr style=\"background-color:#ff2222;color:#002222;\"> <td class=\"z_0 r_0 p1_zaehlung, p2_p3_0_, p4_\" style=\"background-color:#ffffff;color:#000000;\"> </td> <td class=\"z_0 r_1 p1_nummerierung, p2_p3_0_, p4_\"> </td> <td class=\"z_0 r_2 p1_gebrochengalaxie, p2_p3_0_12, p4_0,1,3,6\"> 12/n Galaxie </td> </tr>\n",
       "<tr style=\"background-color:#9999ff;color:#202000;\"> <td style=\"background-color:#ffffff;color:#000000;\"> 1 </td> <td> 4 </td> <td> ‚Nutzen‘ (altes Testament und Mensch); wahrscheinlich: „ ‚Beißen‘ als zentrales Konzept; ‚Mimese‘ und ‚Mimikry‘ (3 mit wahrscheinlich auch 2)“; Rüssel eines Elefanten und Tentakel nutzen als weitere Formen </td> </tr>\n",
       "<tr style=\"background-color:#ffff66;color:#000099;\"> <td style=\"background-color:#000000;color:#ffffff;\"> 2 </td> <td> 6 </td> <td> „Können“ (bzw,. „Können wollen“ 2*1) (Allein die Fähigkeit besitzen wollen [1], sich fortpflanzen zu können [2] [1*2=2]) </td> </tr>\n",
       "<tr style=\"background-color:#9999ff;color:#202000;\"> <td style=\"background-color:#000000;color:#ffffff;\"> 2 </td> <td> 8 </td> <td> Verwenden (3/2) (größtenteils sicher); griffbereit [3*(1/2)] (größtenteils sicher); investieren [6/(1/4)]; Investitionssumme bestimmen [9/(1/6)]; die Anordnung oder der Erlass [12/(1/8)] </td> </tr>\n",
       "<tr style=\"background-color:#ffff66;color:#000099;\"> <td style=\"background-color:#ffffff;color:#000000;\"> 3 </td> <td> 10 </td> <td> ausbeuten wollen (sowohl im guten, als auch im nicht so guten Sinn, d.h. zunächst neutral) (6/5) </td> </tr>\n",
       "<tr style=\"background-color:#ffff66;color:#000099;\"> <td style=\"background-color:#ffffff;color:#000000;\"> 3 </td> <td> 12 </td> <td> die Methode des Wie; fachliche Spezialisierung (2/2), wählerisch sein (3/3) (halb bis größtenteils sicher); Das hier alles ist wahrscheinlich falsch: Erschaffen, zustande bringen (4/4); genügen (5/5); veranschlagen oder Effizienz und Effektivität (6/6); korrespondieren (7/7); Gerechtigkeit bestimmen (8/8); Zweckmäßigkeit (9/9); Tragweite bestimmen (10/10) </td> </tr>\n",
       "<tr style=\"background-color:#555500;color:#aaaaff;\"> <td style=\"background-color:#ffffff;color:#000000;\"> 3 </td> <td> 15 </td> <td> Testen (4/5 und 4/[1/5]); Autonomie wollen (8/10) </td> </tr>\n",
       "<tr style=\"background-color:#9999ff;color:#202000;\"> <td style=\"background-color:#ffffff;color:#000000;\"> 3 </td> <td> 16 </td> <td> entwickeln, sich heranbilden, herausbilden, sich bilden (sicher) (3/4), Wenn ich etwas benötigen sollte, kann damit überhaupt etwas erreichen? ([1/4]/[1/3]), Selbstkritik und respektvoll sein (6/8) und Frage nach Wucher oder Schnäppchen (6/8), Zusammenhänge real, irreal, möglich, unmöglich (9/12), Rechtmäßigkeit und Musterung (1/8)/(1/6) (ich bin mir sehr sicher); Subsidiarität (12/16); Zuständigkeit oder auch investigativ sein [(1/16)/(1/12)] </td> </tr>\n",
       "<tr style=\"background-color:#ffff66;color:#000099;\"> <td style=\"background-color:#000000;color:#ffffff;\"> 4 </td> <td> 18 </td> <td> Brauchbarkeit, brauchen (2/[1/3] und 2/3) (größtenteils sicher); Zeugnis abgeben [4/(1/6)]; der Wirkstoff [6/(1/9)]; sich einer Rechtssprechungsart unterwerfen [8/(1/12)] </td> </tr>\n",
       "</table>\n",
       "<table border=0 id=\"bigtable\">\n",
       "<tr style=\"background-color:#ff2222;color:#002222;\"> <td class=\"z_0 r_0 p1_zaehlung, p2_p3_0_, p4_\" style=\"background-color:#ffffff;color:#000000;\"> </td> <td class=\"z_0 r_1 p1_nummerierung, p2_p3_0_, p4_\"> </td> <td class=\"z_0 r_2 p1_gebrochengalaxie, p2_p3_0_15, p4_0,1,3,6\"> 15/n Galaxie </td> </tr>\n",
       "<tr style=\"background-color:#009900;color:#ffffff;\"> <td style=\"background-color:#000000;color:#ffffff;\"> 2 </td> <td> 5 </td> <td> ‚Nutzen‘ (altes Testament und Mensch); wahrscheinlich: „ ‚Beißen‘ als zentrales Konzept; ‚Mimese‘ und ‚Mimikry‘ (3 mit wahrscheinlich auch 2)“; Rüssel eines Elefanten und Tentakel nutzen als weitere Formen </td> </tr>\n",
       "<tr style=\"background-color:#ffff66;color:#000099;\"> <td style=\"background-color:#000000;color:#ffffff;\"> 2 </td> <td> 6 </td> <td> anerkennend annehmen wollen (5/2) (sicher); Verwirklichung und Vollbringung (10/4); intuitiv sein [15/(1/8)] </td> </tr>\n",
       "<tr style=\"background-color:#ffff66;color:#000099;\"> <td style=\"background-color:#ffffff;color:#000000;\"> 3 </td> <td> 10 </td> <td> Verwenden (3/2) (größtenteils sicher); griffbereit [3*(1/2)] (größtenteils sicher); investieren [6/(1/4)]; Investitionssumme bestimmen [9/(1/6)]; die Anordnung oder der Erlass [12/(1/8)] </td> </tr>\n",
       "<tr style=\"background-color:#ffff66;color:#000099;\"> <td style=\"background-color:#ffffff;color:#000000;\"> 3 </td> <td> 12 </td> <td> Anstellung erhalten wollen bzw. genauer, infrage gekommen sein (5/[1/4] und 5/4) (größtenteils sicher); eine Verordnung oder Rechtsnorm, verordnen wollen (10/8) </td> </tr>\n",
       "<tr style=\"background-color:#555500;color:#aaaaff;\"> <td style=\"background-color:#ffffff;color:#000000;\"> 3 </td> <td> 15 </td> <td> die Methode des Wie; fachliche Spezialisierung (2/2), wählerisch sein (3/3) (halb bis größtenteils sicher); Das hier alles ist wahrscheinlich falsch: Erschaffen, zustande bringen (4/4); genügen (5/5); veranschlagen oder Effizienz und Effektivität (6/6); korrespondieren (7/7); Gerechtigkeit bestimmen (8/8); Zweckmäßigkeit (9/9); Tragweite bestimmen (10/10) </td> </tr>\n",
       "<tr style=\"background-color:#ffff66;color:#000099;\"> <td style=\"background-color:#000000;color:#ffffff;\"> 4 </td> <td> 18 </td> <td> jemanden oder etwas begehren (5/6) </td> </tr>\n",
       "</table>\n",
       "<table border=0 id=\"bigtable\">\n",
       "<tr style=\"background-color:#ff2222;color:#002222;\"> <td class=\"z_0 r_0 p1_zaehlung, p2_p3_0_, p4_\" style=\"background-color:#ffffff;color:#000000;\"> </td> <td class=\"z_0 r_1 p1_nummerierung, p2_p3_0_, p4_\"> </td> <td class=\"z_0 r_2 p1_gebrochengalaxie, p2_p3_0_18, p4_0,1,3,6\"> 18/n Galaxie </td> </tr>\n",
       "<tr style=\"background-color:#9999ff;color:#202000;\"> <td style=\"background-color:#ffffff;color:#000000;\"> 1 </td> <td> 4 </td> <td> Wagnis (9/2 und 9/[1/2]); So etwas wie der Liebesbeweis oder Liebesnachweis (18/4) </td> </tr>\n",
       "<tr style=\"background-color:#ffff66;color:#000099;\"> <td style=\"background-color:#000000;color:#ffffff;\"> 2 </td> <td> 6 </td> <td> ‚Nutzen‘ (altes Testament und Mensch); wahrscheinlich: „ ‚Beißen‘ als zentrales Konzept; ‚Mimese‘ und ‚Mimikry‘ (3 mit wahrscheinlich auch 2)“; Rüssel eines Elefanten und Tentakel nutzen als weitere Formen </td> </tr>\n",
       "<tr style=\"background-color:#9999ff;color:#202000;\"> <td style=\"background-color:#000000;color:#ffffff;\"> 2 </td> <td> 8 </td> <td> überhaupt etwas erreichen wollen (9/4) </td> </tr>\n",
       "<tr style=\"background-color:#ffff66;color:#000099;\"> <td style=\"background-color:#ffffff;color:#000000;\"> 3 </td> <td> 12 </td> <td> Verwenden (3/2) (größtenteils sicher); griffbereit [3*(1/2)] (größtenteils sicher); investieren [6/(1/4)]; Investitionssumme bestimmen [9/(1/6)]; die Anordnung oder der Erlass [12/(1/8)] </td> </tr>\n",
       "<tr style=\"background-color:#555500;color:#aaaaff;\"> <td style=\"background-color:#ffffff;color:#000000;\"> 3 </td> <td> 15 </td> <td> ausbeuten wollen (sowohl im guten, als auch im nicht so guten Sinn, d.h. zunächst neutral) (6/5) </td> </tr>\n",
       "<tr style=\"background-color:#ffff66;color:#000099;\"> <td style=\"background-color:#000000;color:#ffffff;\"> 4 </td> <td> 18 </td> <td> die Methode des Wie; fachliche Spezialisierung (2/2), wählerisch sein (3/3) (halb bis größtenteils sicher); Das hier alles ist wahrscheinlich falsch: Erschaffen, zustande bringen (4/4); genügen (5/5); veranschlagen oder Effizienz und Effektivität (6/6); korrespondieren (7/7); Gerechtigkeit bestimmen (8/8); Zweckmäßigkeit (9/9); Tragweite bestimmen (10/10) </td> </tr>\n",
       "</table>\n",
       "<table border=0 id=\"bigtable\">\n",
       "<tr style=\"background-color:#ff2222;color:#002222;\"> <td class=\"z_0 r_0 p1_zaehlung, p2_p3_0_, p4_\" style=\"background-color:#ffffff;color:#000000;\"> </td> <td class=\"z_0 r_1 p1_nummerierung, p2_p3_0_, p4_\"> </td> <td class=\"z_0 r_2 p1_gebrochengalaxie, p2_p3_0_4, p4_0,1,3,6\"> 4/n Galaxie </td> </tr>\n",
       "<tr style=\"background-color:#9999ff;color:#202000;\"> <td style=\"background-color:#ffffff;color:#000000;\"> 1 </td> <td> 4 </td> <td> die Methode des Wie; fachliche Spezialisierung (2/2), wählerisch sein (3/3) (halb bis größtenteils sicher); Das hier alles ist wahrscheinlich falsch: Erschaffen, zustande bringen (4/4); genügen (5/5); veranschlagen oder Effizienz und Effektivität (6/6); korrespondieren (7/7); Gerechtigkeit bestimmen (8/8); Zweckmäßigkeit (9/9); Tragweite bestimmen (10/10) </td> </tr>\n",
       "<tr style=\"background-color:#009900;color:#ffffff;\"> <td style=\"background-color:#000000;color:#ffffff;\"> 2 </td> <td> 5 </td> <td> Testen (4/5 und 4/[1/5]); Autonomie wollen (8/10) </td> </tr>\n",
       "<tr style=\"background-color:#ffff66;color:#000099;\"> <td style=\"background-color:#000000;color:#ffffff;\"> 2 </td> <td> 6 </td> <td> Brauchbarkeit, brauchen (2/[1/3] und 2/3) (größtenteils sicher); Zeugnis abgeben [4/(1/6)]; der Wirkstoff [6/(1/9)]; sich einer Rechtssprechungsart unterwerfen [8/(1/12)] </td> </tr>\n",
       "<tr style=\"background-color:#9999ff;color:#202000;\"> <td style=\"background-color:#000000;color:#ffffff;\"> 2 </td> <td> 8 </td> <td> möglich, Gelegenheiten ergreifen, andere befähigen, Talent (haben wollen) (größtenteils sicher) </td> </tr>\n",
       "<tr style=\"background-color:#ffff66;color:#000099;\"> <td style=\"background-color:#ffffff;color:#000000;\"> 3 </td> <td> 10 </td> <td> zu etwas passen wollen, passend sein wollen (2/5) (sicher); Erstellung [4/(1/10)] </td> </tr>\n",
       "<tr style=\"background-color:#ffff66;color:#000099;\"> <td style=\"background-color:#ffffff;color:#000000;\"> 3 </td> <td> 12 </td> <td> Pragmatismus, pragmatisch sein (größtenteils sicher) (1/3), formen, wandeln (3/9) </td> </tr>\n",
       "<tr style=\"background-color:#9999ff;color:#202000;\"> <td style=\"background-color:#ffffff;color:#000000;\"> 3 </td> <td> 16 </td> <td> andere etwas machen lassen zu veranlassen, fangen, fotografieren, flüchtiges fest werden lassen </td> </tr>\n",
       "<tr style=\"background-color:#ffff66;color:#000099;\"> <td style=\"background-color:#000000;color:#ffffff;\"> 4 </td> <td> 18 </td> <td> Kompetenz (2/9 und 2/[1/9]); schlichten oder als Mediator tätig sein (4/18) </td> </tr>\n",
       "</table>\n",
       "<table border=0 id=\"bigtable\">\n",
       "<tr style=\"background-color:#ff2222;color:#002222;\"> <td class=\"z_0 r_0 p1_zaehlung, p2_p3_0_, p4_\" style=\"background-color:#ffffff;color:#000000;\"> </td> <td class=\"z_0 r_1 p1_nummerierung, p2_p3_0_, p4_\"> </td> <td class=\"z_0 r_2 p1_gebrochengalaxie, p2_p3_0_8, p4_0,1,3,6\"> 8/n Galaxie </td> </tr>\n",
       "<tr style=\"background-color:#9999ff;color:#202000;\"> <td style=\"background-color:#ffffff;color:#000000;\"> 1 </td> <td> 4 </td> <td> „Können“ (bzw,. „Können wollen“ 2*1) (Allein die Fähigkeit besitzen wollen [1], sich fortpflanzen zu können [2] [1*2=2]) </td> </tr>\n",
       "<tr style=\"background-color:#009900;color:#ffffff;\"> <td style=\"background-color:#000000;color:#ffffff;\"> 2 </td> <td> 5 </td> <td> Unrecht erkennen wollen (8/5) </td> </tr>\n",
       "<tr style=\"background-color:#ffff66;color:#000099;\"> <td style=\"background-color:#000000;color:#ffffff;\"> 2 </td> <td> 6 </td> <td> erschaffen, Schöpfen (sicher) (4/3); Verliehen oder gestohlen oder Eigentum im Besitz (8/6) Respekt bekommen (ist hier eigentlich nur ein Aspekt) (8/6); Ordnungsmittel [12/(1/9)] </td> </tr>\n",
       "<tr style=\"background-color:#9999ff;color:#202000;\"> <td style=\"background-color:#000000;color:#ffffff;\"> 2 </td> <td> 8 </td> <td> die Methode des Wie; fachliche Spezialisierung (2/2), wählerisch sein (3/3) (halb bis größtenteils sicher); Das hier alles ist wahrscheinlich falsch: Erschaffen, zustande bringen (4/4); genügen (5/5); veranschlagen oder Effizienz und Effektivität (6/6); korrespondieren (7/7); Gerechtigkeit bestimmen (8/8); Zweckmäßigkeit (9/9); Tragweite bestimmen (10/10) </td> </tr>\n",
       "<tr style=\"background-color:#ffff66;color:#000099;\"> <td style=\"background-color:#ffffff;color:#000000;\"> 3 </td> <td> 10 </td> <td> Testen (4/5 und 4/[1/5]); Autonomie wollen (8/10) </td> </tr>\n",
       "<tr style=\"background-color:#ffff66;color:#000099;\"> <td style=\"background-color:#ffffff;color:#000000;\"> 3 </td> <td> 12 </td> <td> Brauchbarkeit, brauchen (2/[1/3] und 2/3) (größtenteils sicher); Zeugnis abgeben [4/(1/6)]; der Wirkstoff [6/(1/9)]; sich einer Rechtssprechungsart unterwerfen [8/(1/12)] </td> </tr>\n",
       "<tr style=\"background-color:#555500;color:#aaaaff;\"> <td style=\"background-color:#ffffff;color:#000000;\"> 3 </td> <td> 15 </td> <td> Persönlichkeit zeigen [8/(1/15)] </td> </tr>\n",
       "<tr style=\"background-color:#9999ff;color:#202000;\"> <td style=\"background-color:#ffffff;color:#000000;\"> 3 </td> <td> 16 </td> <td> möglich, Gelegenheiten ergreifen, andere befähigen, Talent (haben wollen) (größtenteils sicher) </td> </tr>\n",
       "<tr style=\"background-color:#ffff66;color:#000099;\"> <td style=\"background-color:#000000;color:#ffffff;\"> 4 </td> <td> 18 </td> <td> beispielsweise ein Schwert oder Werkzeuge schmieden: „Sich Mittel machen“ (4/9) </td> </tr>\n",
       "</table>\n",
       "<table border=0 id=\"bigtable\">\n",
       "<tr style=\"background-color:#ff2222;color:#002222;\"> <td class=\"z_0 r_0 p1_zaehlung, p2_p3_0_, p4_\" style=\"background-color:#ffffff;color:#000000;\"> </td> <td class=\"z_0 r_1 p1_nummerierung, p2_p3_0_, p4_\"> </td> <td class=\"z_0 r_2 p1_gebrochengalaxie, p2_p3_0_16, p4_0,1,3,6\"> 16/n Galaxie </td> </tr>\n",
       "<tr style=\"background-color:#9999ff;color:#202000;\"> <td style=\"background-color:#ffffff;color:#000000;\"> 1 </td> <td> 4 </td> <td> betätigen (machen) bzw. durchführen; Eifer </td> </tr>\n",
       "<tr style=\"background-color:#ffff66;color:#000099;\"> <td style=\"background-color:#000000;color:#ffffff;\"> 2 </td> <td> 6 </td> <td> Orientierung plus Sicherheit wollen (8/3) </td> </tr>\n",
       "<tr style=\"background-color:#9999ff;color:#202000;\"> <td style=\"background-color:#000000;color:#ffffff;\"> 2 </td> <td> 8 </td> <td> „Können“ (bzw,. „Können wollen“ 2*1) (Allein die Fähigkeit besitzen wollen [1], sich fortpflanzen zu können [2] [1*2=2]) </td> </tr>\n",
       "<tr style=\"background-color:#ffff66;color:#000099;\"> <td style=\"background-color:#ffffff;color:#000000;\"> 3 </td> <td> 10 </td> <td> Unrecht erkennen wollen (8/5) </td> </tr>\n",
       "<tr style=\"background-color:#ffff66;color:#000099;\"> <td style=\"background-color:#ffffff;color:#000000;\"> 3 </td> <td> 12 </td> <td> erschaffen, Schöpfen (sicher) (4/3); Verliehen oder gestohlen oder Eigentum im Besitz (8/6) Respekt bekommen (ist hier eigentlich nur ein Aspekt) (8/6); Ordnungsmittel [12/(1/9)] </td> </tr>\n",
       "<tr style=\"background-color:#9999ff;color:#202000;\"> <td style=\"background-color:#ffffff;color:#000000;\"> 3 </td> <td> 16 </td> <td> die Methode des Wie; fachliche Spezialisierung (2/2), wählerisch sein (3/3) (halb bis größtenteils sicher); Das hier alles ist wahrscheinlich falsch: Erschaffen, zustande bringen (4/4); genügen (5/5); veranschlagen oder Effizienz und Effektivität (6/6); korrespondieren (7/7); Gerechtigkeit bestimmen (8/8); Zweckmäßigkeit (9/9); Tragweite bestimmen (10/10) </td> </tr>\n",
       "</table>\n",
       "<table border=0 id=\"bigtable\">\n",
       "<tr style=\"background-color:#ff2222;color:#002222;\"> <td class=\"z_0 r_0 p1_zaehlung, p2_p3_0_, p4_\" style=\"background-color:#ffffff;color:#000000;\"> </td> <td class=\"z_0 r_1 p1_nummerierung, p2_p3_0_, p4_\"> </td> <td class=\"z_0 r_2 p1_gebrochengalaxie, p2_p3_0_5, p4_0,1,3,6\"> 5/n Galaxie </td> </tr>\n",
       "<tr style=\"background-color:#9999ff;color:#202000;\"> <td style=\"background-color:#ffffff;color:#000000;\"> 1 </td> <td> 4 </td> <td> Anstellung erhalten wollen bzw. genauer, infrage gekommen sein (5/[1/4] und 5/4) (größtenteils sicher); eine Verordnung oder Rechtsnorm, verordnen wollen (10/8) </td> </tr>\n",
       "<tr style=\"background-color:#009900;color:#ffffff;\"> <td style=\"background-color:#000000;color:#ffffff;\"> 2 </td> <td> 5 </td> <td> die Methode des Wie; fachliche Spezialisierung (2/2), wählerisch sein (3/3) (halb bis größtenteils sicher); Das hier alles ist wahrscheinlich falsch: Erschaffen, zustande bringen (4/4); genügen (5/5); veranschlagen oder Effizienz und Effektivität (6/6); korrespondieren (7/7); Gerechtigkeit bestimmen (8/8); Zweckmäßigkeit (9/9); Tragweite bestimmen (10/10) </td> </tr>\n",
       "<tr style=\"background-color:#ffff66;color:#000099;\"> <td style=\"background-color:#000000;color:#ffffff;\"> 2 </td> <td> 6 </td> <td> jemanden oder etwas begehren (5/6) </td> </tr>\n",
       "<tr style=\"background-color:#9999ff;color:#202000;\"> <td style=\"background-color:#000000;color:#ffffff;\"> 2 </td> <td> 8 </td> <td> vorurteilhaft sein, mit Vorurteilen behaftet sein (d.h. beim Urteilen nur an sich denken) (5/8) </td> </tr>\n",
       "<tr style=\"background-color:#ffff66;color:#000099;\"> <td style=\"background-color:#ffffff;color:#000000;\"> 3 </td> <td> 10 </td> <td> möglich, Gelegenheiten ergreifen, andere befähigen, Talent (haben wollen) (größtenteils sicher) </td> </tr>\n",
       "<tr style=\"background-color:#555500;color:#aaaaff;\"> <td style=\"background-color:#ffffff;color:#000000;\"> 3 </td> <td> 15 </td> <td> Pragmatismus, pragmatisch sein (größtenteils sicher) (1/3), formen, wandeln (3/9) </td> </tr>\n",
       "</table>\n",
       "<table border=0 id=\"bigtable\">\n",
       "<tr style=\"background-color:#ff2222;color:#002222;\"> <td class=\"z_0 r_0 p1_zaehlung, p2_p3_0_, p4_\" style=\"background-color:#ffffff;color:#000000;\"> </td> <td class=\"z_0 r_1 p1_nummerierung, p2_p3_0_, p4_\"> </td> <td class=\"z_0 r_2 p1_gebrochengalaxie, p2_p3_0_10, p4_0,1,3,6\"> 10/n Galaxie </td> </tr>\n",
       "<tr style=\"background-color:#9999ff;color:#202000;\"> <td style=\"background-color:#ffffff;color:#000000;\"> 1 </td> <td> 4 </td> <td> anerkennend annehmen wollen (5/2) (sicher); Verwirklichung und Vollbringung (10/4); intuitiv sein [15/(1/8)] </td> </tr>\n",
       "<tr style=\"background-color:#009900;color:#ffffff;\"> <td style=\"background-color:#000000;color:#ffffff;\"> 2 </td> <td> 5 </td> <td> „Können“ (bzw,. „Können wollen“ 2*1) (Allein die Fähigkeit besitzen wollen [1], sich fortpflanzen zu können [2] [1*2=2]) </td> </tr>\n",
       "<tr style=\"background-color:#ffff66;color:#000099;\"> <td style=\"background-color:#000000;color:#ffffff;\"> 2 </td> <td> 6 </td> <td> der Bedarf (5/3 und 5/[1/3]) (sicher); die Relevanz (10/6); für Umstände sorgen (15/9) </td> </tr>\n",
       "<tr style=\"background-color:#9999ff;color:#202000;\"> <td style=\"background-color:#000000;color:#ffffff;\"> 2 </td> <td> 8 </td> <td> Anstellung erhalten wollen bzw. genauer, infrage gekommen sein (5/[1/4] und 5/4) (größtenteils sicher); eine Verordnung oder Rechtsnorm, verordnen wollen (10/8) </td> </tr>\n",
       "<tr style=\"background-color:#ffff66;color:#000099;\"> <td style=\"background-color:#ffffff;color:#000000;\"> 3 </td> <td> 10 </td> <td> die Methode des Wie; fachliche Spezialisierung (2/2), wählerisch sein (3/3) (halb bis größtenteils sicher); Das hier alles ist wahrscheinlich falsch: Erschaffen, zustande bringen (4/4); genügen (5/5); veranschlagen oder Effizienz und Effektivität (6/6); korrespondieren (7/7); Gerechtigkeit bestimmen (8/8); Zweckmäßigkeit (9/9); Tragweite bestimmen (10/10) </td> </tr>\n",
       "<tr style=\"background-color:#ffff66;color:#000099;\"> <td style=\"background-color:#ffffff;color:#000000;\"> 3 </td> <td> 12 </td> <td> jemanden oder etwas begehren (5/6) </td> </tr>\n",
       "<tr style=\"background-color:#555500;color:#aaaaff;\"> <td style=\"background-color:#ffffff;color:#000000;\"> 3 </td> <td> 15 </td> <td> Brauchbarkeit, brauchen (2/[1/3] und 2/3) (größtenteils sicher); Zeugnis abgeben [4/(1/6)]; der Wirkstoff [6/(1/9)]; sich einer Rechtssprechungsart unterwerfen [8/(1/12)] </td> </tr>\n",
       "<tr style=\"background-color:#9999ff;color:#202000;\"> <td style=\"background-color:#ffffff;color:#000000;\"> 3 </td> <td> 16 </td> <td> vorurteilhaft sein, mit Vorurteilen behaftet sein (d.h. beim Urteilen nur an sich denken) (5/8) </td> </tr>\n",
       "</table>\n"
      ],
      "text/plain": [
       "<IPython.core.display.HTML object>"
      ]
     },
     "execution_count": 22,
     "metadata": {},
     "output_type": "execute_result"
    }
   ],
   "source": [
    "HTML(teste(\"a v 3/4-5/6\"))"
   ]
  },
  {
   "cell_type": "code",
   "execution_count": 21,
   "id": "b8e0c8a7",
   "metadata": {},
   "outputs": [
    {
     "data": {
      "text/html": [
       "<table border=0 id=\"bigtable\">\n",
       "<tr style=\"background-color:#ff2222;color:#002222;\"> <td class=\"z_0 r_0 p1_zaehlung, p2_p3_0_, p4_\" style=\"background-color:#ffffff;color:#000000;\"> </td> <td class=\"z_0 r_1 p1_nummerierung, p2_p3_0_, p4_\"> </td> <td class=\"z_0 r_2 p1_gebrochengalaxie, p2_p3_0_3, p4_0,1,3,6\"> 3/n Galaxie </td> </tr>\n",
       "<tr style=\"background-color:#9999ff;color:#202000;\"> <td style=\"background-color:#ffffff;color:#000000;\"> 1 </td> <td> 4 </td> <td> entwickeln, sich heranbilden, herausbilden, sich bilden (sicher) (3/4), Wenn ich etwas benötigen sollte, kann damit überhaupt etwas erreichen? ([1/4]/[1/3]), Selbstkritik und respektvoll sein (6/8) und Frage nach Wucher oder Schnäppchen (6/8), Zusammenhänge real, irreal, möglich, unmöglich (9/12), Rechtmäßigkeit und Musterung (1/8)/(1/6) (ich bin mir sehr sicher); Subsidiarität (12/16); Zuständigkeit oder auch investigativ sein [(1/16)/(1/12)] </td> </tr>\n",
       "<tr style=\"background-color:#009900;color:#ffffff;\"> <td style=\"background-color:#000000;color:#ffffff;\"> 2 </td> <td> 5 </td> <td> Verwendbarkeit (3/5 und 3/[1/5]) (größtenteils sicher); das Privileg (6/10); Gegebenheit (9/15) </td> </tr>\n",
       "<tr style=\"background-color:#ffff66;color:#000099;\"> <td style=\"background-color:#000000;color:#ffffff;\"> 2 </td> <td> 6 </td> <td> möglich, Gelegenheiten ergreifen, andere befähigen, Talent (haben wollen) (größtenteils sicher) </td> </tr>\n",
       "</table>\n"
      ],
      "text/plain": [
       "<IPython.core.display.HTML object>"
      ]
     },
     "execution_count": 21,
     "metadata": {},
     "output_type": "execute_result"
    }
   ],
   "source": [
    "HTML(teste(\"a 3/4-3/6\"))"
   ]
  },
  {
   "cell_type": "code",
   "execution_count": 48,
   "id": "d330ad09",
   "metadata": {},
   "outputs": [
    {
     "data": {
      "text/html": [
       "reta -zeilen --vorhervonausschnitt=6 --oberesmaximum=7 -spalten --menschliches=motivation --breite=78 -ausgabe --spaltenreihenfolgeundnurdiese=1  -spalten --breite=0 -ausgabe --art=html --onetable\n",
       "<table border=0 id=\"bigtable\">\n",
       "<tr style=\"background-color:#ff2222;color:#002222;\"> <td class=\"z_0 r_0 p1_zaehlung, p2_p3_0_, p4_\" style=\"background-color:#ffffff;color:#000000;\"> </td> <td class=\"z_0 r_1 p1_nummerierung, p2_p3_0_, p4_\"> </td> <td class=\"z_0 r_2 p1_Grundstrukturen,Menschliches,Wichtigstes_zum_verstehen, p2_p3_0_Paradigmen_sind_Absichten_(13),p3_1_Motive,p3_2_Wichtigste,p3_3_, p4_0,3\"> Intrinsische (nicht extrinsische) (intrinsisch = es direkt wollen und nicht indirekt) emotionale Intentionen bzw. Motive für Sternpolygone, Paradigmen (u.a. 13, Paradigmen sind nicht nur Typ 13, weil vermenschlicht) (Ein beliebiges Motiv zu haben ist Typ 1) (Jedes einzelne Motiv ergibt sich auch daraus, aus welchen Paradigmen und Meta-Paradigmen der Mensch besteht, ist also immer eine Zusammensetzung) Absichten (13) als Form des Geistes (15) </td> </tr>\n",
       "<tr style=\"background-color:#ffff66;color:#000099;\"> <td style=\"background-color:#000000;color:#ffffff;\"> 2 </td> <td> 6 </td> <td> „Vorteil“ (oder auch „Einfluss“ oder „Gewaltverfügung“ wie ein Richter) oder „nur „kein Nachteil“, statt Egoismus </td> </tr>\n",
       "</table>\n",
       "reta -zeilen --vorhervonausschnitt=0 --oberesmaximum=7 -spalten --menschliches=motivation --breite=78 -ausgabe --spaltenreihenfolgeundnurdiese=3  -spalten --breite=0 -ausgabe --art=html --onetable\n",
       "reta -zeilen --vorhervonausschnitt=4 -spalten --gebrochengalaxie=3 --breite=78 -kombination -ausgabe --spaltenreihenfolgeundnurdiese=2  -spalten --breite=0 -ausgabe --art=html --onetable\n",
       "<table border=0 id=\"bigtable\">\n",
       "<tr style=\"background-color:#ff2222;color:#002222;\"> <td class=\"z_0 r_0 p1_zaehlung, p2_p3_0_, p4_\" style=\"background-color:#ffffff;color:#000000;\"> </td> <td class=\"z_0 r_1 p1_nummerierung, p2_p3_0_, p4_\"> </td> <td class=\"z_0 r_2 p1_gebrochengalaxie, p2_p3_0_3, p4_0,1,3,6\"> 3/n Galaxie </td> </tr>\n",
       "<tr style=\"background-color:#9999ff;color:#202000;\"> <td style=\"background-color:#ffffff;color:#000000;\"> 1 </td> <td> 4 </td> <td> entwickeln, sich heranbilden, herausbilden, sich bilden (sicher) (3/4), Wenn ich etwas benötigen sollte, kann damit überhaupt etwas erreichen? ([1/4]/[1/3]), Selbstkritik und respektvoll sein (6/8) und Frage nach Wucher oder Schnäppchen (6/8), Zusammenhänge real, irreal, möglich, unmöglich (9/12), Rechtmäßigkeit und Musterung (1/8)/(1/6) (ich bin mir sehr sicher); Subsidiarität (12/16); Zuständigkeit oder auch investigativ sein [(1/16)/(1/12)] </td> </tr>\n",
       "</table>\n",
       "reta -zeilen --vorhervonausschnitt=7,5 -spalten --gebrochengalaxie=6 --breite=78 -kombination -ausgabe --spaltenreihenfolgeundnurdiese=2  -spalten --breite=0 -ausgabe --art=html --onetable\n",
       "<table border=0 id=\"bigtable\">\n",
       "<tr style=\"background-color:#ff2222;color:#002222;\"> <td class=\"z_0 r_0 p1_zaehlung, p2_p3_0_, p4_\" style=\"background-color:#ffffff;color:#000000;\"> </td> <td class=\"z_0 r_1 p1_nummerierung, p2_p3_0_, p4_\"> </td> <td class=\"z_0 r_2 p1_gebrochengalaxie, p2_p3_0_6, p4_0,1,3,6\"> 6/n Galaxie </td> </tr>\n",
       "<tr style=\"background-color:#009900;color:#ffffff;\"> <td style=\"background-color:#000000;color:#ffffff;\"> 2 </td> <td> 5 </td> <td> ausbeuten wollen (sowohl im guten, als auch im nicht so guten Sinn, d.h. zunächst neutral) (6/5) </td> </tr>\n",
       "<tr style=\"background-color:#009900;color:#ffffff;\"> <td style=\"background-color:#000000;color:#ffffff;\"> 2 </td> <td> 7 </td> <td> Nehmen (das bringt es auf den Punkt.); (wo ich noch am Denken war:) Vorteile daraus gewinnen, angeführt zu werden; mehr Vorteile bei wenig angeführt werden (= Liberalismus), mehr Nachteile bei viel Führung und Richtung (= Bürokratie) (6/7); Selektieren [aus einem Märchen: „die guten ins Töpfchen, die schlechten ins Kröpfchen“] (12/14); Verständnis aufbringen für ggf. nicht mental nachvollziehbares (= sich zugeneigt relaten zu können pro Hingabe und Widmung oder mal Pionierarbeit in neuem Terrain zu leisten) (18/21); </td> </tr>\n",
       "</table>\n",
       "reta -zeilen --vorhervonausschnitt=7,5 -spalten --gebrochengalaxie=4 --breite=78 -kombination -ausgabe --spaltenreihenfolgeundnurdiese=2  -spalten --breite=0 -ausgabe --art=html --onetable\n",
       "<table border=0 id=\"bigtable\">\n",
       "<tr style=\"background-color:#ff2222;color:#002222;\"> <td class=\"z_0 r_0 p1_zaehlung, p2_p3_0_, p4_\" style=\"background-color:#ffffff;color:#000000;\"> </td> <td class=\"z_0 r_1 p1_nummerierung, p2_p3_0_, p4_\"> </td> <td class=\"z_0 r_2 p1_gebrochengalaxie, p2_p3_0_4, p4_0,1,3,6\"> 4/n Galaxie </td> </tr>\n",
       "<tr style=\"background-color:#009900;color:#ffffff;\"> <td style=\"background-color:#000000;color:#ffffff;\"> 2 </td> <td> 5 </td> <td> Testen (4/5 und 4/[1/5]); Autonomie wollen (8/10) </td> </tr>\n",
       "<tr style=\"background-color:#009900;color:#ffffff;\"> <td style=\"background-color:#000000;color:#ffffff;\"> 2 </td> <td> 7 </td> <td> Lohn generieren (4/7) </td> </tr>\n",
       "</table>\n",
       "reta -zeilen --vorhervonausschnitt=6 --oberesmaximum=7 -spalten --universum=transzendentalien,komplexitaet,ontologie --breite=78 -ausgabe --spaltenreihenfolgeundnurdiese=1,3,4  -spalten --breite=0 -ausgabe --art=html --onetable\n",
       "<table border=0 id=\"bigtable\">\n",
       "<tr style=\"background-color:#ff2222;color:#002222;\"> <td class=\"z_0 r_0 p1_zaehlung, p2_p3_0_, p4_\" style=\"background-color:#ffffff;color:#000000;\"> </td> <td class=\"z_0 r_1 p1_nummerierung, p2_p3_0_, p4_\"> </td> <td class=\"z_0 r_2 p1_Grundstrukturen,Inkrementieren,Inkrementieren,Universum,Universum,Universum,Wichtigstes_zum_verstehen, p2_p3_0_Strukturalien_bzw_Meta-Paradigmen_bzw_Transzendentalien_(15),p3_1_warum_Transzendentalie_=_Komplexität_von_Michael_Commons,p3_2_warum_Transzendentalie_=_Strukturgroesse_=_Charakter,p3_3_Transzendentalien,p3_4_warum_Transzendentalie_=_Komplexität_von_Michael_Commons,p3_5_warum_Transzendentalie_=_Strukturgroesse_=_Charakter,p3_6_Wichtigste,p3_7_, p4_0,4\"> Transzendentalien, -alien, universelle Strukturalien, Meta-Paradigmen (15) Transzendentalien (15 oder u.a. 15) sind die menschliche Sicht der Strukturalien (ausschließlich Typ 15) (In Lebewesen ist es Bewusstsein.). </td> <td class=\"z_0 r_3 p1_Größenordnung,Inkrementieren,Inkrementieren,Universum,Universum, p2_p3_0_Strukturgrösse,p3_1_,p3_2_warum_Transzendentalie_=_Strukturgroesse_=_Charakter,p3_3_Transzendentalien,p3_4_warum_Transzendentalie_=_Strukturgroesse_=_Charakter,p3_5_, p4_0,3\"> Informatiksicht </td> <td class=\"z_0 r_4 p1_Universum, p2_p3_0_Transzendentalien,p3_1_, p4_0,3\"> model of hierarchical complexity (adapted from Commons, Crone-Todd, &amp; Chen, 2014) [bis zu 15, danach ich Jupiter 3.0], Meta-Paradigmen (15) (Diese Spalte von u.a. Michael Commons ist wohl eher vermenschlicht, durch die Paradigmen [13] [3,8,10,17] und Metaparadigmen [15] [2|1/3|2/3|3/2|6|1/10|13|14|1/16|(16) ], aus denen der Mensch besteht. D.h. diese Zahlenkombinationen müsste man herausrechnen [Mindestens Typ 14 ist hier in dieser Spalte immer mit kombiniert.] und würde dann auf die Strukturalien und Transzendentalien kommen!) </td> </tr>\n",
       "<tr style=\"background-color:#ffff66;color:#000099;\"> <td style=\"background-color:#000000;color:#ffffff;\"> 2 </td> <td> 6 </td> <td> Wert (Zahlen ohne Information welche Zahlenart) </td> <td> Wertzuweisung, ein Wert, aber noch keine Variable </td> <td> Preoperational (die Stufe vor dem ersten Rechnen) (z.B, zählen) </td> </tr>\n",
       "</table>\n",
       "reta -zeilen --vorhervonausschnitt=0 --oberesmaximum=7 -spalten --universum=transzendentaliereziproke --breite=78 -ausgabe --spaltenreihenfolgeundnurdiese=1  -spalten --breite=0 -ausgabe --art=html --onetable\n",
       "reta -zeilen --vorhervonausschnitt=4 -spalten --gebrochenuniversum=3 --breite=78 -kombination -ausgabe --spaltenreihenfolgeundnurdiese=2  -spalten --breite=0 -ausgabe --art=html --onetable\n",
       "<table border=0 id=\"bigtable\">\n",
       "<tr style=\"background-color:#ff2222;color:#002222;\"> <td class=\"z_0 r_0 p1_zaehlung, p2_p3_0_, p4_\" style=\"background-color:#ffffff;color:#000000;\"> </td> <td class=\"z_0 r_1 p1_nummerierung, p2_p3_0_, p4_\"> </td> <td class=\"z_0 r_2 p1_gebrochenuniversum, p2_p3_0_3, p4_0,1,4,6\"> 3/n Universum </td> </tr>\n",
       "<tr style=\"background-color:#9999ff;color:#202000;\"> <td style=\"background-color:#ffffff;color:#000000;\"> 1 </td> <td> 4 </td> <td> erwidern und reagieren in Form, sich auf etwas einstellen, einrichten, etwas nachkommen, z.B. durch Anpassung (sicher) (3 / 4); Stadium, Niveau (6/8) (halb sicher), Plastizität und Elastizität und Bruchsicherheit [(1/4)/(1/3)] (halbwegs sicher), Mengeneinheit (Stück, Dutzend) (9/12) (müsste eigentlich stimmen) und Cluster einer Datamining-Cluster-Analyse (9/12) (müsste eigentlich stimmen), Minimalismus [(1/8)/(1/6)] (das passt gut), Analysis-Funktions-Arten (sogenannte Charakteristische Eigenschaften von Funktionen) (12/16) (das kann passen) und Arbeitsberufsarten (12/16) (das kann passen); Zuständigkeit [(1/16)/(1/12)] </td> </tr>\n",
       "</table>\n",
       "reta -zeilen --vorhervonausschnitt=7,5 -spalten --gebrochenuniversum=6 --breite=78 -kombination -ausgabe --spaltenreihenfolgeundnurdiese=2  -spalten --breite=0 -ausgabe --art=html --onetable\n",
       "<table border=0 id=\"bigtable\">\n",
       "<tr style=\"background-color:#ff2222;color:#002222;\"> <td class=\"z_0 r_0 p1_zaehlung, p2_p3_0_, p4_\" style=\"background-color:#ffffff;color:#000000;\"> </td> <td class=\"z_0 r_1 p1_nummerierung, p2_p3_0_, p4_\"> </td> <td class=\"z_0 r_2 p1_gebrochenuniversum, p2_p3_0_6, p4_0,1,4,6\"> 6/n Universum </td> </tr>\n",
       "<tr style=\"background-color:#009900;color:#ffffff;\"> <td style=\"background-color:#000000;color:#ffffff;\"> 2 </td> <td> 5 </td> <td> Prozent oder Promille (6/5) (größtenteils sicher); die Mengen zugehörig zu einer Gleichheit von Mengen oder zu einem delta Extensionalitätsunterschied (12/10) (größtenteils sicher) </td> </tr>\n",
       "<tr style=\"background-color:#009900;color:#ffffff;\"> <td style=\"background-color:#000000;color:#ffffff;\"> 2 </td> <td> 7 </td> <td> SQL-relationales Mapping (18/21), Zusammenfassungsmethoden als Rechnungen zu Ergebnis (umgekehrte anstrakte Algebra) (12/14), konkrete Algebra für Zahlen anwenden, z.B. Zahlen anordnen, etc. (umgekehrte konkrete Algebra) (6/7) (glaube ich alles sehr) </td> </tr>\n",
       "</table>\n",
       "reta -zeilen --vorhervonausschnitt=7,5 -spalten --gebrochenuniversum=4 --breite=78 -kombination -ausgabe --spaltenreihenfolgeundnurdiese=2  -spalten --breite=0 -ausgabe --art=html --onetable\n",
       "<table border=0 id=\"bigtable\">\n",
       "<tr style=\"background-color:#ff2222;color:#002222;\"> <td class=\"z_0 r_0 p1_zaehlung, p2_p3_0_, p4_\" style=\"background-color:#ffffff;color:#000000;\"> </td> <td class=\"z_0 r_1 p1_nummerierung, p2_p3_0_, p4_\"> </td> <td class=\"z_0 r_2 p1_gebrochenuniversum, p2_p3_0_4, p4_0,1,4,6\"> 4/n Universum </td> </tr>\n",
       "<tr style=\"background-color:#009900;color:#ffffff;\"> <td style=\"background-color:#000000;color:#ffffff;\"> 2 </td> <td> 5 </td> <td> Klimaveränderung, Reifeprozess (beides nur Beispiele) (Veränderung pro etwas Ganzem) (4/5) (unsicher); Formulierungen einer Sprache aus der Chomsky-Hierarchie (8/10) (halbwegs sicher) </td> </tr>\n",
       "<tr style=\"background-color:#009900;color:#ffffff;\"> <td style=\"background-color:#000000;color:#ffffff;\"> 2 </td> <td> 7 </td> <td> Lenkungsauswirkung, Drallauswirkung, Auswirkung, Effekt (größtenteils sicher) (4/7) </td> </tr>\n",
       "</table>\n",
       "6: 2 3\n",
       "6: [(3, 2), (6, 1)]\n"
      ],
      "text/plain": [
       "<IPython.core.display.HTML object>"
      ]
     },
     "execution_count": 48,
     "metadata": {},
     "output_type": "execute_result"
    }
   ],
   "source": [
    "# funktioniert wieder nicht vollständig\n",
    "HTML(teste(\"a 3/4 5/6+1/1 6 u p\"))"
   ]
  },
  {
   "cell_type": "code",
   "execution_count": 49,
   "id": "ec1be929",
   "metadata": {},
   "outputs": [
    {
     "data": {
      "text/html": [
       "tzh range(0, 0):[]\n",
       "reta -zeilen --vielfachevonzahlen=7  -spalten --menschliches=motivation --breite=78 -ausgabe --spaltenreihenfolgeundnurdiese=1  -spalten --breite=0 -ausgabe --art=html --onetable\n",
       "<table border=0 id=\"bigtable\">\n",
       "<tr style=\"background-color:#ff2222;color:#002222;\"> <td class=\"z_0 r_0 p1_zaehlung, p2_p3_0_, p4_\" style=\"background-color:#ffffff;color:#000000;\"> </td> <td class=\"z_0 r_1 p1_nummerierung, p2_p3_0_, p4_\"> </td> <td class=\"z_0 r_2 p1_Grundstrukturen,Menschliches,Wichtigstes_zum_verstehen, p2_p3_0_Paradigmen_sind_Absichten_(13),p3_1_Motive,p3_2_Wichtigste,p3_3_, p4_0,3\"> Intrinsische (nicht extrinsische) (intrinsisch = es direkt wollen und nicht indirekt) emotionale Intentionen bzw. Motive für Sternpolygone, Paradigmen (u.a. 13, Paradigmen sind nicht nur Typ 13, weil vermenschlicht) (Ein beliebiges Motiv zu haben ist Typ 1) (Jedes einzelne Motiv ergibt sich auch daraus, aus welchen Paradigmen und Meta-Paradigmen der Mensch besteht, ist also immer eine Zusammensetzung) Absichten (13) als Form des Geistes (15) </td> </tr>\n",
       "<tr style=\"background-color:#009900;color:#ffffff;\"> <td style=\"background-color:#000000;color:#ffffff;\"> 2 </td> <td> 7 </td> <td> Selbstlosigkeit (als Liebe oder ohne) (Wölfe, Hunde) (dein Selbst von anderen abhängig machen, anderen zu überlassen, geben) oder „friedfertige Gutmütigkeit und Positivität zu anderen“ (Kühe [Meta-Paradigma 7]), vielleicht etc. (das sind schon 3 Arten des Guten); Dazu bereit sein, Teil von Synergieeffekten zu werden </td> </tr>\n",
       "<tr style=\"background-color:#ffff66;color:#000099;\"> <td style=\"background-color:#ffffff;color:#000000;\"> 3 </td> <td> 14 </td> <td> Lösen von echten Problemen (Ich-Losigkeit, dein Ich von anderen abhängig machen, es zu überlassen); Synergieeffekte herstellen wollen; gegenseitig gut sein und ggf. gegenseitig sich anzuführen </td> </tr>\n",
       "<tr style=\"background-color:#555500;color:#aaaaff;\"> <td style=\"background-color:#000000;color:#ffffff;\"> 4 </td> <td> 21 </td> <td> (klar auf den Punkt gebracht) Über-ich-losigkeit, Leidenschaft zu einer Aufgabe, Beruf, Hobby, zu Fortpflanzung, sein Überich durch andere Menschen definieren zu lassen (100% sicher); (größere Gefahr beraubt zu werden, als wäre man ein Egoist, da sich Egoisten aus Egoismus mehr absichern) Vermutlich ist der Grundgedanke die gegenseitige Selbstlosigkeit. </td> </tr>\n",
       "<tr style=\"background-color:#ffff66;color:#000099;\"> <td style=\"background-color:#000000;color:#ffffff;\"> 6 </td> <td> 28 </td> <td> (klar auf den Punkt gebracht) „Lebensratgeber sein wollen“. Eine Quelle oder Autorität in allgemeinen Lebensfragen sein wollen; Synergieeffekte verbinden können; Total im sogenannten Flow zu sein (die genannte Betrunkenheit im Thomasevangelium 28 ist das hier), aber den eigenen Flow der Tätigkeit total durch Mitmenschen zu definieren und nicht durch sich selbst, also Flow-Losigkeit. Motiv, ständig in der Durchführung zu sein, die Lebewesen in seiner Umgebung da hin zu bringen, was besser für sie ist und dann zum Wohle aller, Anführer erschaffen (um eine Topologie zu bauen) (sehr sicher) </td> </tr>\n",
       "<tr style=\"background-color:#555500;color:#aaaaff;\"> <td style=\"background-color:#ffffff;color:#000000;\"> 7 </td> <td> 35 </td> <td> (klar auf den Punkt gebracht) philanthropisch tätig sein wollen (ggf. nicht nur auf Menschen beschränkt, sondern pro ggf. weiteren Lebewesen). Für dich gilt, was für andere gilt (größtenteils sicher) und deshalb etwa Robin Hood spielen (d.h. von Reich nach Arm umverteilen) </td> </tr>\n",
       "<tr style=\"background-color:#ffff66;color:#000099;\"> <td style=\"background-color:#000000;color:#ffffff;\"> 8 </td> <td> 42 </td> <td> (klar auf den Punkt gebracht) die intrinsische „Widmung“ als grundlegendes Motiv. Für Widmung gilt ansonsten: Intrinsisch einen hoch qualitativen Lebenspartner wollen (wie Milliardäre), wodurch man ggf. etwas aufbauen kann. (ich bin mir sicher) Die 42 ist wie ein Anführer die Richtung basierend auf Werten bestimmen und ob diese wertvoll genug sind, basierend auf ihrer Richtungsbestimmung. Das, was für dich wertvoll ist, definiert sich daraus, was für andere wertvoll ist. (=Wertüberzeugungs-Losigkeit) (ich bin mir sicher) Die Widmung (42) ist die konkret (2) gewordene Hingabe (21) (2*21=42). Hier vereinen sich grundsätzliche Gedanken des Christentums und Judentums. </td> </tr>\n",
       "<tr style=\"background-color:#000099;color:#ffff66;\"> <td style=\"background-color:#000000;color:#ffffff;\"> 8 </td> <td> 49 </td> <td> (klar auf den Punkt gebracht) intrinsisch verzagen, aber eigentlich nicht verzagen wollen, aber es doch tun (sich als Opfer sehen, sich nicht helfen können) (sicher) </td> </tr>\n",
       "<tr style=\"background-color:#ffff66;color:#000099;\"> <td style=\"background-color:#ffffff;color:#000000;\"> 9 </td> <td> 56 </td> <td> (klar auf den Punkt gebracht) Die gesellschaftlichen Zusammenhänge, was die eigentlichen tatsächlichen Schwierigkeiten des Volkes und dessen Einzelpersonen sind, erkennen und durchschauen wollen (größtenteils sicher bis sehr sicher) </td> </tr>\n",
       "<tr style=\"background-color:#555500;color:#aaaaff;\"> <td style=\"background-color:#ffffff;color:#000000;\"> 9 </td> <td> 63 </td> <td> (klar auf den Punkt gebracht) „Hingebung“ (zu allem erdenklichen: Folgen einer Leidenschaft, zu einer Aufgabe, zu Personen) (Steigerung von Leidenschaft). Den guten Zweck als oberstes Ziel (für Unternehmensgründung, Hobbies, etc.) (größtenteils sicher) </td> </tr>\n",
       "<tr style=\"background-color:#ffff66;color:#000099;\"> <td style=\"background-color:#000000;color:#ffffff;\"> 10 </td> <td> 70 </td> <td> (klar auf den Punkt gebracht) Probleme der Welt an der Wurzel anpacken wollen, statt mit Philanthropie an den Symptomen zu arbeiten. (für dich ist wirklich und wahr, was für andere wirklich und wahr ist) (Problemlösungen erwirken wollen) (bereit sein, sich vollkommen aufzuopfern für das richtige) (größtenteils sicher) </td> </tr>\n",
       "<tr style=\"background-color:#555500;color:#aaaaff;\"> <td style=\"background-color:#000000;color:#ffffff;\"> 10 </td> <td> 77 </td> <td> (klar auf den Punkt gebracht) „Xenophilie als Absicht“. Alles das fremd ist auf dem Planeten (verschiedenstartige höhere Lebewesen und Menschen) und sich wegen fehlendem Wissen, fehlender Information, Intelligenz oder Geist voneinander entfernt ist, mit Wissen, Information, Intelligenz und Geist füllen (größtenteils sicher) Das Gute und die Richtungsweisung möglichst fremder Lebewesens annehmen und ausprobieren wollen (sicher) </td> </tr>\n",
       "<tr style=\"background-color:#ffff66;color:#000099;\"> <td style=\"background-color:#ffffff;color:#000000;\"> 11 </td> <td> 84 </td> <td> (klar auf den Punkt gebracht) „Leitbilder für alle vorgeben wollen“ (sicher) - Etwas zustande bringen wollen, dass ersichtlich gemacht wird, welche gutwilligen Eigenschaften eine Person besitzt, in welche abstrakte Richtung eine Person geht, indem sie sich nicht offenbaren können, sondern sie offenbart bzw. „gelesen“ werden (halb sicher bis sicher) </td> </tr>\n",
       "<tr style=\"background-color:#555500;color:#aaaaff;\"> <td style=\"background-color:#ffffff;color:#000000;\"> 11 </td> <td> 91 </td> <td> (klar auf den Punkt gebracht) „Sich für gute Lebewesen und gute Menschen aufopfern wollen“ (=Helfen+Selbstlosigkeit in einem). (größtenteils sicher) In allen Denkansätzen der gutartigen Richtungsweisung von Anführern denken. Den Guten und Anführern helfen. Den Helfern Gutes tun. Es nicht nur dabei zu belassen auf seinen Nachwuchs und seine Lebensgrundlage zu achten. In jedem beliebigen Moment die Richtung als Anführer bestimmen können, nicht nur durch Fähigkeit (2), sondern durch alle Denkansätze (13) (Das ist viel potenter!). (sicher) </td> </tr>\n",
       "<tr style=\"background-color:#ffff66;color:#000099;\"> <td style=\"background-color:#ffffff;color:#000000;\"> 11 </td> <td> 98 </td> <td> (klar auf den Punkt gebracht) “Insofern ein Held sein zu wollen, der den verzweifelten guten Menschen ihre hochgradig schwerwiegenden und gerfährlichen Probleme mutig löst, damit diese nicht mehr verzagen müssen.“ (größtenteils sicher) </td> </tr>\n",
       "<tr style=\"background-color:#555500;color:#aaaaff;\"> <td style=\"background-color:#000000;color:#ffffff;\"> 12 </td> <td> 105 </td> <td> (klar auf den Punkt gebracht) Menschen mit einem erbärmlichen Leben zu Erhabenheit hoch heben wollen (sehr sicher). Diese Verfahrensweise bewirkt, dass die Hingabe und Widmung (21) der Anführer und Aufteiler gültig (5) ist (5*21=105) und der Effekt dieser Verfahrensweise wird genutzt, dass für die Beteiligten das gilt, was für andere gilt, wodurch man wie Robin Hood verfährt und umverteilt. (halb sicher) </td> </tr>\n",
       "<tr style=\"background-color:#ffff66;color:#000099;\"> <td style=\"background-color:#000000;color:#ffffff;\"> 12 </td> <td> 112 </td> <td> (klar auf den Punkt gebracht) „Fragen der Welt und Gesellschaft auf ihre Wurzeln zurückführen wollen, welche oft bei der Fortpflanzung liegen“ - Was die Rahmenbedingungen dafür schafft, die realen tiefgreifenden gesellschaftlichen Probleme des Galaxiereiches zu begreifen, und mit dieser Methode Personen erschaffen und verändern wollen, die Lebensratgeber für ihre Mitmenschen sind. Diese Tätigkeit erzeugt zusätzlich den dauerhaften Zustand der Problemlösung für das Galaxiereich und beabsichtigt, dieses Galaxiereich in Richtung des Guten zu transformieren. (größtenteils sicher) </td> </tr>\n",
       "<tr style=\"background-color:#555500;color:#aaaaff;\"> <td style=\"background-color:#000000;color:#ffffff;\"> 12 </td> <td> 119 </td> <td> ? </td> </tr>\n",
       "<tr style=\"background-color:#9999ff;color:#202000;\"> <td style=\"background-color:#ffffff;color:#000000;\"> 17 </td> <td> 196 </td> <td> Selbstaufgabe, sich selbst aufgeben; im selbst-schädigendem Sinn: Selbstvergessenheit (im positiven Sinn ist es eine ganz andere Zahl) </td> </tr>\n",
       "<tr style=\"background-color:#000099;color:#ffff66;\"> <td style=\"background-color:#000000;color:#ffffff;\"> 24 </td> <td> 343 </td> <td> Selbstsabotage für ein höheres Ziel, pro jemanden anderes </td> </tr>\n",
       "<tr style=\"background-color:#000099;color:#ffff66;\"> <td style=\"background-color:#ffffff;color:#000000;\"> 27 </td> <td> 441 </td> <td> irgend ein Mond 21*21 </td> </tr>\n",
       "<tr style=\"background-color:#9999ff;color:#202000;\"> <td style=\"background-color:#ffffff;color:#000000;\"> 35 </td> <td> 784 </td> <td> irgend ein Mond 28*28 </td> </tr>\n",
       "</table>\n"
      ],
      "text/plain": [
       "<IPython.core.display.HTML object>"
      ]
     },
     "execution_count": 49,
     "metadata": {},
     "output_type": "execute_result"
    }
   ],
   "source": [
    "# fehler\n",
    "HTML(teste(\"a v 7/1\"))\n"
   ]
  },
  {
   "cell_type": "code",
   "execution_count": 50,
   "id": "045b45fe",
   "metadata": {},
   "outputs": [
    {
     "data": {
      "text/html": [
       "reta -zeilen --vorhervonausschnitt=0  -spalten --menschliches=motivation --breite=78 -ausgabe --spaltenreihenfolgeundnurdiese=3  -spalten --breite=0 -ausgabe --art=html --onetable\n",
       "reta -zeilen --vorhervonausschnitt=2,3,4 -spalten --gebrochengalaxie=2 --breite=78 -kombination -ausgabe --spaltenreihenfolgeundnurdiese=2  -spalten --breite=0 -ausgabe --art=html --onetable\n",
       "<table border=0 id=\"bigtable\">\n",
       "<tr style=\"background-color:#ff2222;color:#002222;\"> <td class=\"z_0 r_0 p1_zaehlung, p2_p3_0_, p4_\" style=\"background-color:#ffffff;color:#000000;\"> </td> <td class=\"z_0 r_1 p1_nummerierung, p2_p3_0_, p4_\"> </td> <td class=\"z_0 r_2 p1_gebrochengalaxie, p2_p3_0_2, p4_0,1,3,6\"> 2/n Galaxie </td> </tr>\n",
       "<tr style=\"background-color:#66ff66;color:#000000;\"> <td style=\"background-color:#ffffff;color:#000000;\"> 1 </td> <td> 2 </td> <td> die Methode des Wie; fachliche Spezialisierung (2/2), wählerisch sein (3/3) (halb bis größtenteils sicher); Das hier alles ist wahrscheinlich falsch: Erschaffen, zustande bringen (4/4); genügen (5/5); veranschlagen oder Effizienz und Effektivität (6/6); korrespondieren (7/7); Gerechtigkeit bestimmen (8/8); Zweckmäßigkeit (9/9); Tragweite bestimmen (10/10) </td> </tr>\n",
       "<tr style=\"background-color:#009900;color:#ffffff;\"> <td style=\"background-color:#ffffff;color:#000000;\"> 1 </td> <td> 3 </td> <td> Brauchbarkeit, brauchen (2/[1/3] und 2/3) (größtenteils sicher); Zeugnis abgeben [4/(1/6)]; der Wirkstoff [6/(1/9)]; sich einer Rechtssprechungsart unterwerfen [8/(1/12)] </td> </tr>\n",
       "<tr style=\"background-color:#9999ff;color:#202000;\"> <td style=\"background-color:#ffffff;color:#000000;\"> 1 </td> <td> 4 </td> <td> möglich, Gelegenheiten ergreifen, andere befähigen, Talent (haben wollen) (größtenteils sicher) </td> </tr>\n",
       "</table>\n",
       "reta -zeilen --vorhervonausschnitt=2,3,4,-3 -spalten --gebrochengalaxie=3 --breite=78 -kombination -ausgabe --spaltenreihenfolgeundnurdiese=2  -spalten --breite=0 -ausgabe --art=html --onetable\n",
       "<table border=0 id=\"bigtable\">\n",
       "<tr style=\"background-color:#ff2222;color:#002222;\"> <td class=\"z_0 r_0 p1_zaehlung, p2_p3_0_, p4_\" style=\"background-color:#ffffff;color:#000000;\"> </td> <td class=\"z_0 r_1 p1_nummerierung, p2_p3_0_, p4_\"> </td> <td class=\"z_0 r_2 p1_gebrochengalaxie, p2_p3_0_3, p4_0,1,3,6\"> 3/n Galaxie </td> </tr>\n",
       "<tr style=\"background-color:#66ff66;color:#000000;\"> <td style=\"background-color:#ffffff;color:#000000;\"> 1 </td> <td> 2 </td> <td> Verwenden (3/2) (größtenteils sicher); griffbereit [3*(1/2)] (größtenteils sicher); investieren [6/(1/4)]; Investitionssumme bestimmen [9/(1/6)]; die Anordnung oder der Erlass [12/(1/8)] </td> </tr>\n",
       "<tr style=\"background-color:#9999ff;color:#202000;\"> <td style=\"background-color:#ffffff;color:#000000;\"> 1 </td> <td> 4 </td> <td> entwickeln, sich heranbilden, herausbilden, sich bilden (sicher) (3/4), Wenn ich etwas benötigen sollte, kann damit überhaupt etwas erreichen? ([1/4]/[1/3]), Selbstkritik und respektvoll sein (6/8) und Frage nach Wucher oder Schnäppchen (6/8), Zusammenhänge real, irreal, möglich, unmöglich (9/12), Rechtmäßigkeit und Musterung (1/8)/(1/6) (ich bin mir sehr sicher); Subsidiarität (12/16); Zuständigkeit oder auch investigativ sein [(1/16)/(1/12)] </td> </tr>\n",
       "</table>\n",
       "reta -zeilen --vorhervonausschnitt=2,3,4 -spalten --gebrochengalaxie=4 --breite=78 -kombination -ausgabe --spaltenreihenfolgeundnurdiese=2  -spalten --breite=0 -ausgabe --art=html --onetable\n",
       "<table border=0 id=\"bigtable\">\n",
       "<tr style=\"background-color:#ff2222;color:#002222;\"> <td class=\"z_0 r_0 p1_zaehlung, p2_p3_0_, p4_\" style=\"background-color:#ffffff;color:#000000;\"> </td> <td class=\"z_0 r_1 p1_nummerierung, p2_p3_0_, p4_\"> </td> <td class=\"z_0 r_2 p1_gebrochengalaxie, p2_p3_0_4, p4_0,1,3,6\"> 4/n Galaxie </td> </tr>\n",
       "<tr style=\"background-color:#66ff66;color:#000000;\"> <td style=\"background-color:#ffffff;color:#000000;\"> 1 </td> <td> 2 </td> <td> „Können“ (bzw,. „Können wollen“ 2*1) (Allein die Fähigkeit besitzen wollen [1], sich fortpflanzen zu können [2] [1*2=2]) </td> </tr>\n",
       "<tr style=\"background-color:#009900;color:#ffffff;\"> <td style=\"background-color:#ffffff;color:#000000;\"> 1 </td> <td> 3 </td> <td> erschaffen, Schöpfen (sicher) (4/3); Verliehen oder gestohlen oder Eigentum im Besitz (8/6) Respekt bekommen (ist hier eigentlich nur ein Aspekt) (8/6); Ordnungsmittel [12/(1/9)] </td> </tr>\n",
       "<tr style=\"background-color:#9999ff;color:#202000;\"> <td style=\"background-color:#ffffff;color:#000000;\"> 1 </td> <td> 4 </td> <td> die Methode des Wie; fachliche Spezialisierung (2/2), wählerisch sein (3/3) (halb bis größtenteils sicher); Das hier alles ist wahrscheinlich falsch: Erschaffen, zustande bringen (4/4); genügen (5/5); veranschlagen oder Effizienz und Effektivität (6/6); korrespondieren (7/7); Gerechtigkeit bestimmen (8/8); Zweckmäßigkeit (9/9); Tragweite bestimmen (10/10) </td> </tr>\n",
       "</table>\n"
      ],
      "text/plain": [
       "<IPython.core.display.HTML object>"
      ]
     },
     "execution_count": 50,
     "metadata": {},
     "output_type": "execute_result"
    }
   ],
   "source": [
    "# Design-Problem\n",
    "HTML(teste(\"a 2/2-4/4,-3/3\"))"
   ]
  },
  {
   "cell_type": "code",
   "execution_count": 41,
   "id": "9fb72b3d",
   "metadata": {},
   "outputs": [
    {
     "data": {
      "text/html": [
       "<table border=0 id=\"bigtable\">\n",
       "<tr style=\"background-color:#ff2222;color:#002222;\"> <td class=\"z_0 r_0 p1_zaehlung, p2_p3_0_, p4_\" style=\"background-color:#ffffff;color:#000000;\"> </td> <td class=\"z_0 r_1 p1_nummerierung, p2_p3_0_, p4_\"> </td> <td class=\"z_0 r_2 p1_gebrochengalaxie, p2_p3_0_2, p4_0,1,3,6\"> 2/n Galaxie </td> </tr>\n",
       "<tr style=\"background-color:#66ff66;color:#000000;\"> <td style=\"background-color:#ffffff;color:#000000;\"> 1 </td> <td> 2 </td> <td> die Methode des Wie; fachliche Spezialisierung (2/2), wählerisch sein (3/3) (halb bis größtenteils sicher); Das hier alles ist wahrscheinlich falsch: Erschaffen, zustande bringen (4/4); genügen (5/5); veranschlagen oder Effizienz und Effektivität (6/6); korrespondieren (7/7); Gerechtigkeit bestimmen (8/8); Zweckmäßigkeit (9/9); Tragweite bestimmen (10/10) </td> </tr>\n",
       "<tr style=\"background-color:#009900;color:#ffffff;\"> <td style=\"background-color:#ffffff;color:#000000;\"> 1 </td> <td> 3 </td> <td> Brauchbarkeit, brauchen (2/[1/3] und 2/3) (größtenteils sicher); Zeugnis abgeben [4/(1/6)]; der Wirkstoff [6/(1/9)]; sich einer Rechtssprechungsart unterwerfen [8/(1/12)] </td> </tr>\n",
       "<tr style=\"background-color:#9999ff;color:#202000;\"> <td style=\"background-color:#ffffff;color:#000000;\"> 1 </td> <td> 4 </td> <td> möglich, Gelegenheiten ergreifen, andere befähigen, Talent (haben wollen) (größtenteils sicher) </td> </tr>\n",
       "</table>\n",
       "<table border=0 id=\"bigtable\">\n",
       "<tr style=\"background-color:#ff2222;color:#002222;\"> <td class=\"z_0 r_0 p1_zaehlung, p2_p3_0_, p4_\" style=\"background-color:#ffffff;color:#000000;\"> </td> <td class=\"z_0 r_1 p1_nummerierung, p2_p3_0_, p4_\"> </td> <td class=\"z_0 r_2 p1_gebrochengalaxie, p2_p3_0_3, p4_0,1,3,6\"> 3/n Galaxie </td> </tr>\n",
       "<tr style=\"background-color:#66ff66;color:#000000;\"> <td style=\"background-color:#ffffff;color:#000000;\"> 1 </td> <td> 2 </td> <td> Verwenden (3/2) (größtenteils sicher); griffbereit [3*(1/2)] (größtenteils sicher); investieren [6/(1/4)]; Investitionssumme bestimmen [9/(1/6)]; die Anordnung oder der Erlass [12/(1/8)] </td> </tr>\n",
       "<tr style=\"background-color:#9999ff;color:#202000;\"> <td style=\"background-color:#ffffff;color:#000000;\"> 1 </td> <td> 4 </td> <td> entwickeln, sich heranbilden, herausbilden, sich bilden (sicher) (3/4), Wenn ich etwas benötigen sollte, kann damit überhaupt etwas erreichen? ([1/4]/[1/3]), Selbstkritik und respektvoll sein (6/8) und Frage nach Wucher oder Schnäppchen (6/8), Zusammenhänge real, irreal, möglich, unmöglich (9/12), Rechtmäßigkeit und Musterung (1/8)/(1/6) (ich bin mir sehr sicher); Subsidiarität (12/16); Zuständigkeit oder auch investigativ sein [(1/16)/(1/12)] </td> </tr>\n",
       "</table>\n",
       "<table border=0 id=\"bigtable\">\n",
       "<tr style=\"background-color:#ff2222;color:#002222;\"> <td class=\"z_0 r_0 p1_zaehlung, p2_p3_0_, p4_\" style=\"background-color:#ffffff;color:#000000;\"> </td> <td class=\"z_0 r_1 p1_nummerierung, p2_p3_0_, p4_\"> </td> <td class=\"z_0 r_2 p1_gebrochengalaxie, p2_p3_0_4, p4_0,1,3,6\"> 4/n Galaxie </td> </tr>\n",
       "<tr style=\"background-color:#66ff66;color:#000000;\"> <td style=\"background-color:#ffffff;color:#000000;\"> 1 </td> <td> 2 </td> <td> „Können“ (bzw,. „Können wollen“ 2*1) (Allein die Fähigkeit besitzen wollen [1], sich fortpflanzen zu können [2] [1*2=2]) </td> </tr>\n",
       "<tr style=\"background-color:#009900;color:#ffffff;\"> <td style=\"background-color:#ffffff;color:#000000;\"> 1 </td> <td> 3 </td> <td> erschaffen, Schöpfen (sicher) (4/3); Verliehen oder gestohlen oder Eigentum im Besitz (8/6) Respekt bekommen (ist hier eigentlich nur ein Aspekt) (8/6); Ordnungsmittel [12/(1/9)] </td> </tr>\n",
       "<tr style=\"background-color:#9999ff;color:#202000;\"> <td style=\"background-color:#ffffff;color:#000000;\"> 1 </td> <td> 4 </td> <td> die Methode des Wie; fachliche Spezialisierung (2/2), wählerisch sein (3/3) (halb bis größtenteils sicher); Das hier alles ist wahrscheinlich falsch: Erschaffen, zustande bringen (4/4); genügen (5/5); veranschlagen oder Effizienz und Effektivität (6/6); korrespondieren (7/7); Gerechtigkeit bestimmen (8/8); Zweckmäßigkeit (9/9); Tragweite bestimmen (10/10) </td> </tr>\n",
       "</table>\n"
      ],
      "text/plain": [
       "<IPython.core.display.HTML object>"
      ]
     },
     "execution_count": 41,
     "metadata": {},
     "output_type": "execute_result"
    }
   ],
   "source": [
    "HTML(teste(\"a e 2/2-4/4,-3/3\"))"
   ]
  },
  {
   "cell_type": "code",
   "execution_count": 38,
   "id": "538ee273",
   "metadata": {},
   "outputs": [
    {
     "data": {
      "text/html": [
       "<table border=0 id=\"bigtable\">\n",
       "<tr style=\"background-color:#ff2222;color:#002222;\"> <td class=\"z_0 r_0 p1_zaehlung, p2_p3_0_, p4_\" style=\"background-color:#ffffff;color:#000000;\"> </td> <td class=\"z_0 r_1 p1_nummerierung, p2_p3_0_, p4_\"> </td> <td class=\"z_0 r_2 p1_Grundstrukturen,Menschliches,Wichtigstes_zum_verstehen, p2_p3_0_Paradigmen_sind_Absichten_(13),p3_1_Motive,p3_2_Wichtigste,p3_3_, p4_0,3\"> Intrinsische (nicht extrinsische) (intrinsisch = es direkt wollen und nicht indirekt) emotionale Intentionen bzw. Motive für Sternpolygone, Paradigmen (u.a. 13, Paradigmen sind nicht nur Typ 13, weil vermenschlicht) (Ein beliebiges Motiv zu haben ist Typ 1) (Jedes einzelne Motiv ergibt sich auch daraus, aus welchen Paradigmen und Meta-Paradigmen der Mensch besteht, ist also immer eine Zusammensetzung) Absichten (13) als Form des Geistes (15) </td> </tr>\n",
       "<tr style=\"background-color:#555500;color:#aaaaff;\"> <td style=\"background-color:#ffffff;color:#000000;\"> 1 </td> <td> 1 </td> <td> „Absicht“ (jegliche beliebige Absichten) (und alles weitere, das alle Paradigmen haben: einen „Denkansatz“) </td> </tr>\n",
       "<tr style=\"background-color:#66ff66;color:#000000;\"> <td style=\"background-color:#ffffff;color:#000000;\"> 1 </td> <td> 2 </td> <td> „Können“ (bzw,. „Können wollen“ 2*1) (Allein die Fähigkeit besitzen wollen [1], sich fortpflanzen zu können [2] [1*2=2]) </td> </tr>\n",
       "<tr style=\"background-color:#009900;color:#ffffff;\"> <td style=\"background-color:#ffffff;color:#000000;\"> 1 </td> <td> 3 </td> <td> ‚Nutzen‘ (altes Testament und Mensch); wahrscheinlich: „ ‚Beißen‘ als zentrales Konzept; ‚Mimese‘ und ‚Mimikry‘ (3 mit wahrscheinlich auch 2)“; Rüssel eines Elefanten und Tentakel nutzen als weitere Formen </td> </tr>\n",
       "</table>\n",
       "<table border=0 id=\"bigtable\">\n",
       "<tr style=\"background-color:#ff2222;color:#002222;\"> <td class=\"z_0 r_0 p1_zaehlung, p2_p3_0_, p4_\" style=\"background-color:#ffffff;color:#000000;\"> </td> <td class=\"z_0 r_1 p1_nummerierung, p2_p3_0_, p4_\"> </td> <td class=\"z_0 r_2 p1_Grundstrukturen,Menschliches,Wichtigstes_zum_verstehen, p2_p3_0_Paradigmen_sind_Absichten_(13),p3_1_Motive,p3_2_Wichtigste,p3_3_, p4_0,3\"> Extrinsische (= es indirekt wollen und nicht direkt zu wollen) (ggf. rationale) Motive für gleichförmige Polygone, Paradigmen, Reziproke 1/n (13 und oder 14) </td> </tr>\n",
       "<tr style=\"background-color:#555500;color:#aaaaff;\"> <td style=\"background-color:#ffffff;color:#000000;\"> 1 </td> <td> 1 </td> <td> die Methode des Wie; fachliche Spezialisierung (2/2), wählerisch sein (3/3) (halb bis größtenteils sicher); Das hier alles ist wahrscheinlich falsch: Erschaffen, zustande bringen (4/4); genügen (5/5); veranschlagen oder Effizienz und Effektivität (6/6); korrespondieren (7/7); Gerechtigkeit bestimmen (8/8); Zweckmäßigkeit (9/9); Tragweite bestimmen (10/10) </td> </tr>\n",
       "<tr style=\"background-color:#9999ff;color:#202000;\"> <td style=\"background-color:#ffffff;color:#000000;\"> 1 </td> <td> 4 </td> <td> andere etwas machen lassen zu veranlassen, fangen, fotografieren, flüchtiges fest werden lassen </td> </tr>\n",
       "</table>\n",
       "<table border=0 id=\"bigtable\">\n",
       "<tr style=\"background-color:#ff2222;color:#002222;\"> <td class=\"z_0 r_0 p1_zaehlung, p2_p3_0_, p4_\" style=\"background-color:#ffffff;color:#000000;\"> </td> <td class=\"z_0 r_1 p1_nummerierung, p2_p3_0_, p4_\"> </td> <td class=\"z_0 r_2 p1_gebrochengalaxie, p2_p3_0_2, p4_0,1,3,6\"> 2/n Galaxie </td> </tr>\n",
       "<tr style=\"background-color:#9999ff;color:#202000;\"> <td style=\"background-color:#ffffff;color:#000000;\"> 1 </td> <td> 4 </td> <td> möglich, Gelegenheiten ergreifen, andere befähigen, Talent (haben wollen) (größtenteils sicher) </td> </tr>\n",
       "</table>\n",
       "<table border=0 id=\"bigtable\">\n",
       "<tr style=\"background-color:#ff2222;color:#002222;\"> <td class=\"z_0 r_0 p1_zaehlung, p2_p3_0_, p4_\" style=\"background-color:#ffffff;color:#000000;\"> </td> <td class=\"z_0 r_1 p1_nummerierung, p2_p3_0_, p4_\"> </td> <td class=\"z_0 r_2 p1_gebrochengalaxie, p2_p3_0_3, p4_0,1,3,6\"> 3/n Galaxie </td> </tr>\n",
       "<tr style=\"background-color:#66ff66;color:#000000;\"> <td style=\"background-color:#ffffff;color:#000000;\"> 1 </td> <td> 2 </td> <td> Verwenden (3/2) (größtenteils sicher); griffbereit [3*(1/2)] (größtenteils sicher); investieren [6/(1/4)]; Investitionssumme bestimmen [9/(1/6)]; die Anordnung oder der Erlass [12/(1/8)] </td> </tr>\n",
       "<tr style=\"background-color:#009900;color:#ffffff;\"> <td style=\"background-color:#ffffff;color:#000000;\"> 1 </td> <td> 3 </td> <td> die Methode des Wie; fachliche Spezialisierung (2/2), wählerisch sein (3/3) (halb bis größtenteils sicher); Das hier alles ist wahrscheinlich falsch: Erschaffen, zustande bringen (4/4); genügen (5/5); veranschlagen oder Effizienz und Effektivität (6/6); korrespondieren (7/7); Gerechtigkeit bestimmen (8/8); Zweckmäßigkeit (9/9); Tragweite bestimmen (10/10) </td> </tr>\n",
       "<tr style=\"background-color:#9999ff;color:#202000;\"> <td style=\"background-color:#ffffff;color:#000000;\"> 1 </td> <td> 4 </td> <td> entwickeln, sich heranbilden, herausbilden, sich bilden (sicher) (3/4), Wenn ich etwas benötigen sollte, kann damit überhaupt etwas erreichen? ([1/4]/[1/3]), Selbstkritik und respektvoll sein (6/8) und Frage nach Wucher oder Schnäppchen (6/8), Zusammenhänge real, irreal, möglich, unmöglich (9/12), Rechtmäßigkeit und Musterung (1/8)/(1/6) (ich bin mir sehr sicher); Subsidiarität (12/16); Zuständigkeit oder auch investigativ sein [(1/16)/(1/12)] </td> </tr>\n",
       "</table>\n"
      ],
      "text/plain": [
       "<IPython.core.display.HTML object>"
      ]
     },
     "execution_count": 38,
     "metadata": {},
     "output_type": "execute_result"
    }
   ],
   "source": [
    "HTML(teste(\"a e 1/1-3/4,-1/2-2/3\"))"
   ]
  },
  {
   "cell_type": "code",
   "execution_count": 52,
   "id": "c6f950b8",
   "metadata": {},
   "outputs": [
    {
     "data": {
      "text/html": [
       "Wenn im Zähler oder Nenner eine 1 ist, so werden davon oft (nicht immer) keine Vielfacher gebildet.\n",
       "Für Brüche \"n/1=ganze Zahl\" gibt es die gewöhnlichen Befehle für ganze Zahlen.\n",
       "Das ist eine Design-Entscheidung, die getroffen worden ist.\n",
       "'-befehl absicht vielfache 1/10-1/11+0/1+1/2 1/15 -spalten --breite=0 -ausgabe --art=html --onetable -vi' ergibt sich aus '-befehl a av1/10-1/11+0/1+1/2 1/15 -spalten --breite=0 -ausgabe --art=html --onetable -vi' und ergibt danach reta-Befehl:\n",
       "reta -zeilen --vielfachevonzahlen=15  -spalten --menschliches=motivation --breite=78 -ausgabe --spaltenreihenfolgeundnurdiese=3  -spalten --breite=0 -ausgabe --art=html --onetable\n",
       "<table border=0 id=\"bigtable\">\n",
       "<tr style=\"background-color:#ff2222;color:#002222;\"> <td class=\"z_0 r_0 p1_zaehlung, p2_p3_0_, p4_\" style=\"background-color:#ffffff;color:#000000;\"> </td> <td class=\"z_0 r_1 p1_nummerierung, p2_p3_0_, p4_\"> </td> <td class=\"z_0 r_2 p1_Grundstrukturen,Menschliches,Wichtigstes_zum_verstehen, p2_p3_0_Paradigmen_sind_Absichten_(13),p3_1_Motive,p3_2_Wichtigste,p3_3_, p4_0,3\"> Extrinsische (= es indirekt wollen und nicht direkt zu wollen) (ggf. rationale) Motive für gleichförmige Polygone, Paradigmen, Reziproke 1/n (13 und oder 14) </td> </tr>\n",
       "<tr style=\"background-color:#555500;color:#aaaaff;\"> <td style=\"background-color:#ffffff;color:#000000;\"> 3 </td> <td> 15 </td> <td> Respekt in anderen sehen, sich durch andere selbst reflektieren wollen (d.h. umgekehrter Selbstrespekt) (größtenteils sicher) </td> </tr>\n",
       "<tr style=\"background-color:#ffff66;color:#000099;\"> <td style=\"background-color:#000000;color:#ffffff;\"> 6 </td> <td> 30 </td> <td> Erkennen zu wollen, wie andere erkennen (z.B. philosophische Erkenntnis-Theorie betreiben wollen) (halb bis größtenteils sicher) </td> </tr>\n",
       "<tr style=\"background-color:#555500;color:#aaaaff;\"> <td style=\"background-color:#000000;color:#ffffff;\"> 8 </td> <td> 45 </td> <td> befruchtet werden wollen bzw. als Mann zu wollen, dass die Frau Aktion ergreift, dass sie befruchtet wird, während der Mann passiv ist, also eher wie bei künstlicher Befruchtung (größtenteils sicher) </td> </tr>\n",
       "<tr style=\"background-color:#ffff66;color:#000099;\"> <td style=\"background-color:#ffffff;color:#000000;\"> 9 </td> <td> 60 </td> <td> ? </td> </tr>\n",
       "<tr style=\"background-color:#555500;color:#aaaaff;\"> <td style=\"background-color:#000000;color:#ffffff;\"> 10 </td> <td> 75 </td> <td> ? </td> </tr>\n",
       "<tr style=\"background-color:#ffff66;color:#000099;\"> <td style=\"background-color:#ffffff;color:#000000;\"> 11 </td> <td> 90 </td> <td> ? </td> </tr>\n",
       "<tr style=\"background-color:#555500;color:#aaaaff;\"> <td style=\"background-color:#000000;color:#ffffff;\"> 12 </td> <td> 105 </td> <td> ? </td> </tr>\n",
       "<tr style=\"background-color:#ffff66;color:#000099;\"> <td style=\"background-color:#000000;color:#ffffff;\"> 12 </td> <td> 120 </td> <td> ? </td> </tr>\n",
       "</table>\n"
      ],
      "text/plain": [
       "<IPython.core.display.HTML object>"
      ]
     },
     "execution_count": 52,
     "metadata": {},
     "output_type": "execute_result"
    }
   ],
   "source": [
    "# jetzt geht das auf einmal nicht\n",
    "HTML(teste(\"av1/10-1/11+0/1+1/2 1/15\"))"
   ]
  },
  {
   "cell_type": "code",
   "execution_count": 53,
   "id": "1061484a",
   "metadata": {},
   "outputs": [
    {
     "data": {
      "text/html": [
       "'-befehl absicht vielfache 1/10-1/11+0/1+1/2 -spalten --breite=0 -ausgabe --art=html --onetable -vi' ergibt sich aus '-befehl a av1/10-1/11+0/1+1/2 -spalten --breite=0 -ausgabe --art=html --onetable -vi' und ergibt danach reta-Befehl:\n",
       "reta -zeilen --vorhervonausschnitt=2,4,6,8,10,12,14,16,18 -spalten --gebrochengalaxie=11 --breite=78 -kombination -ausgabe --spaltenreihenfolgeundnurdiese=1  -spalten --breite=0 -ausgabe --art=html --onetable\n",
       "<table border=0 id=\"bigtable\">\n",
       "<tr style=\"background-color:#ff2222;color:#002222;\"> <td class=\"z_0 r_0 p1_zaehlung, p2_p3_0_, p4_\" style=\"background-color:#ffffff;color:#000000;\"> </td> <td class=\"z_0 r_1 p1_nummerierung, p2_p3_0_, p4_\"> </td> <td class=\"z_0 r_2 p1_gebrochengalaxie, p2_p3_0_11, p4_0,1,3,6\"> n/11 Galaxie </td> </tr>\n",
       "</table>\n",
       "reta -zeilen --vorhervonausschnitt=2,4,6,8,10,12,14,16,18 -spalten --gebrochengalaxie=9 --breite=78 -kombination -ausgabe --spaltenreihenfolgeundnurdiese=1  -spalten --breite=0 -ausgabe --art=html --onetable\n",
       "<table border=0 id=\"bigtable\">\n",
       "<tr style=\"background-color:#ff2222;color:#002222;\"> <td class=\"z_0 r_0 p1_zaehlung, p2_p3_0_, p4_\" style=\"background-color:#ffffff;color:#000000;\"> </td> <td class=\"z_0 r_1 p1_nummerierung, p2_p3_0_, p4_\"> </td> <td class=\"z_0 r_2 p1_gebrochengalaxie, p2_p3_0_9, p4_0,1,3,6\"> n/9 Galaxie </td> </tr>\n",
       "<tr style=\"background-color:#66ff66;color:#000000;\"> <td style=\"background-color:#ffffff;color:#000000;\"> 1 </td> <td> 2 </td> <td> Kompetenz (2/9 und 2/[1/9]); schlichten oder als Mediator tätig sein (4/18) </td> </tr>\n",
       "<tr style=\"background-color:#9999ff;color:#202000;\"> <td style=\"background-color:#ffffff;color:#000000;\"> 1 </td> <td> 4 </td> <td> beispielsweise ein Schwert oder Werkzeuge schmieden: „Sich Mittel machen“ (4/9) </td> </tr>\n",
       "<tr style=\"background-color:#ffff66;color:#000099;\"> <td style=\"background-color:#000000;color:#ffffff;\"> 2 </td> <td> 6 </td> <td> Brauchbarkeit, brauchen (2/[1/3] und 2/3) (größtenteils sicher); Zeugnis abgeben [4/(1/6)]; der Wirkstoff [6/(1/9)]; sich einer Rechtssprechungsart unterwerfen [8/(1/12)] </td> </tr>\n",
       "<tr style=\"background-color:#ffff66;color:#000099;\"> <td style=\"background-color:#ffffff;color:#000000;\"> 3 </td> <td> 12 </td> <td> erschaffen, Schöpfen (sicher) (4/3); Verliehen oder gestohlen oder Eigentum im Besitz (8/6) Respekt bekommen (ist hier eigentlich nur ein Aspekt) (8/6); Ordnungsmittel [12/(1/9)] </td> </tr>\n",
       "<tr style=\"background-color:#ffff66;color:#000099;\"> <td style=\"background-color:#000000;color:#ffffff;\"> 4 </td> <td> 18 </td> <td> „Können“ (bzw,. „Können wollen“ 2*1) (Allein die Fähigkeit besitzen wollen [1], sich fortpflanzen zu können [2] [1*2=2]) </td> </tr>\n",
       "</table>\n",
       "reta -zeilen --vorhervonausschnitt=2,4,6,8,10,12,14,16,18 -spalten --gebrochengalaxie=18 --breite=78 -kombination -ausgabe --spaltenreihenfolgeundnurdiese=1  -spalten --breite=0 -ausgabe --art=html --onetable\n",
       "<table border=0 id=\"bigtable\">\n",
       "<tr style=\"background-color:#ff2222;color:#002222;\"> <td class=\"z_0 r_0 p1_zaehlung, p2_p3_0_, p4_\" style=\"background-color:#ffffff;color:#000000;\"> </td> <td class=\"z_0 r_1 p1_nummerierung, p2_p3_0_, p4_\"> </td> <td class=\"z_0 r_2 p1_gebrochengalaxie, p2_p3_0_18, p4_0,1,3,6\"> n/18 Galaxie </td> </tr>\n",
       "<tr style=\"background-color:#66ff66;color:#000000;\"> <td style=\"background-color:#ffffff;color:#000000;\"> 1 </td> <td> 2 </td> <td> die potenziellen Mittel haben wollen (größtenteils sicher) </td> </tr>\n",
       "<tr style=\"background-color:#9999ff;color:#202000;\"> <td style=\"background-color:#ffffff;color:#000000;\"> 1 </td> <td> 4 </td> <td> Kompetenz (2/9 und 2/[1/9]); schlichten oder als Mediator tätig sein (4/18) </td> </tr>\n",
       "<tr style=\"background-color:#ffff66;color:#000099;\"> <td style=\"background-color:#000000;color:#ffffff;\"> 2 </td> <td> 6 </td> <td> Pragmatismus, pragmatisch sein (größtenteils sicher) (1/3), formen, wandeln (3/9) </td> </tr>\n",
       "<tr style=\"background-color:#9999ff;color:#202000;\"> <td style=\"background-color:#000000;color:#ffffff;\"> 2 </td> <td> 8 </td> <td> beispielsweise ein Schwert oder Werkzeuge schmieden: „Sich Mittel machen“ (4/9) </td> </tr>\n",
       "<tr style=\"background-color:#ffff66;color:#000099;\"> <td style=\"background-color:#ffffff;color:#000000;\"> 3 </td> <td> 12 </td> <td> Brauchbarkeit, brauchen (2/[1/3] und 2/3) (größtenteils sicher); Zeugnis abgeben [4/(1/6)]; der Wirkstoff [6/(1/9)]; sich einer Rechtssprechungsart unterwerfen [8/(1/12)] </td> </tr>\n",
       "<tr style=\"background-color:#ffff66;color:#000099;\"> <td style=\"background-color:#000000;color:#ffffff;\"> 4 </td> <td> 18 </td> <td> die Methode des Wie; fachliche Spezialisierung (2/2), wählerisch sein (3/3) (halb bis größtenteils sicher); Das hier alles ist wahrscheinlich falsch: Erschaffen, zustande bringen (4/4); genügen (5/5); veranschlagen oder Effizienz und Effektivität (6/6); korrespondieren (7/7); Gerechtigkeit bestimmen (8/8); Zweckmäßigkeit (9/9); Tragweite bestimmen (10/10) </td> </tr>\n",
       "</table>\n",
       "reta -zeilen --vorhervonausschnitt=2,4,6,8,10,12,14,16,18 -spalten --gebrochengalaxie=12 --breite=78 -kombination -ausgabe --spaltenreihenfolgeundnurdiese=1  -spalten --breite=0 -ausgabe --art=html --onetable\n",
       "<table border=0 id=\"bigtable\">\n",
       "<tr style=\"background-color:#ff2222;color:#002222;\"> <td class=\"z_0 r_0 p1_zaehlung, p2_p3_0_, p4_\" style=\"background-color:#ffffff;color:#000000;\"> </td> <td class=\"z_0 r_1 p1_nummerierung, p2_p3_0_, p4_\"> </td> <td class=\"z_0 r_2 p1_gebrochengalaxie, p2_p3_0_12, p4_0,1,3,6\"> n/12 Galaxie </td> </tr>\n",
       "<tr style=\"background-color:#66ff66;color:#000000;\"> <td style=\"background-color:#ffffff;color:#000000;\"> 1 </td> <td> 2 </td> <td> einschätzen, bewerten, Klarheit oder Ethik wollen, gesellschaftliche Werte wollen (sicher) </td> </tr>\n",
       "<tr style=\"background-color:#9999ff;color:#202000;\"> <td style=\"background-color:#ffffff;color:#000000;\"> 1 </td> <td> 4 </td> <td> Pragmatismus, pragmatisch sein (größtenteils sicher) (1/3), formen, wandeln (3/9) </td> </tr>\n",
       "<tr style=\"background-color:#ffff66;color:#000099;\"> <td style=\"background-color:#000000;color:#ffffff;\"> 2 </td> <td> 6 </td> <td> möglich, Gelegenheiten ergreifen, andere befähigen, Talent (haben wollen) (größtenteils sicher) </td> </tr>\n",
       "<tr style=\"background-color:#9999ff;color:#202000;\"> <td style=\"background-color:#000000;color:#ffffff;\"> 2 </td> <td> 8 </td> <td> Brauchbarkeit, brauchen (2/[1/3] und 2/3) (größtenteils sicher); Zeugnis abgeben [4/(1/6)]; der Wirkstoff [6/(1/9)]; sich einer Rechtssprechungsart unterwerfen [8/(1/12)] </td> </tr>\n",
       "<tr style=\"background-color:#ffff66;color:#000099;\"> <td style=\"background-color:#ffffff;color:#000000;\"> 3 </td> <td> 10 </td> <td> jemanden oder etwas begehren (5/6) </td> </tr>\n",
       "<tr style=\"background-color:#ffff66;color:#000099;\"> <td style=\"background-color:#ffffff;color:#000000;\"> 3 </td> <td> 12 </td> <td> die Methode des Wie; fachliche Spezialisierung (2/2), wählerisch sein (3/3) (halb bis größtenteils sicher); Das hier alles ist wahrscheinlich falsch: Erschaffen, zustande bringen (4/4); genügen (5/5); veranschlagen oder Effizienz und Effektivität (6/6); korrespondieren (7/7); Gerechtigkeit bestimmen (8/8); Zweckmäßigkeit (9/9); Tragweite bestimmen (10/10) </td> </tr>\n",
       "<tr style=\"background-color:#ffff66;color:#000099;\"> <td style=\"background-color:#ffffff;color:#000000;\"> 3 </td> <td> 14 </td> <td> Geben (das bringt es auf den Punkt.); (wo ich noch am Denken war:) Anführen, wenn Menschen Vorteile daraus gewinnen, entweder mehr Führung und weniger Vorteile (= Bürokratie) oder mehr Vorteile und weniger Führung (= Liberalismus) (7/6); (herum-) Knobeln (=Probleme lösen, entweder mal sich einer Ordnung zu unterwefen oder pro sich zu sortieren) (14/12); jemanden (in z.B. Meinungsverschiedenheiten oder Konflikten) taktisch entgegenkommen und taktisch nachzugeben (21/18); </td> </tr>\n",
       "<tr style=\"background-color:#9999ff;color:#202000;\"> <td style=\"background-color:#ffffff;color:#000000;\"> 3 </td> <td> 16 </td> <td> erschaffen, Schöpfen (sicher) (4/3); Verliehen oder gestohlen oder Eigentum im Besitz (8/6) Respekt bekommen (ist hier eigentlich nur ein Aspekt) (8/6); Ordnungsmittel [12/(1/9)] </td> </tr>\n",
       "<tr style=\"background-color:#ffff66;color:#000099;\"> <td style=\"background-color:#000000;color:#ffffff;\"> 4 </td> <td> 18 </td> <td> Verwenden (3/2) (größtenteils sicher); griffbereit [3*(1/2)] (größtenteils sicher); investieren [6/(1/4)]; Investitionssumme bestimmen [9/(1/6)]; die Anordnung oder der Erlass [12/(1/8)] </td> </tr>\n",
       "</table>\n",
       "reta -zeilen --vorhervonausschnitt=2,4,6,8,10,12,14,16,18 -spalten --gebrochengalaxie=8 --breite=78 -kombination -ausgabe --spaltenreihenfolgeundnurdiese=1  -spalten --breite=0 -ausgabe --art=html --onetable\n",
       "<table border=0 id=\"bigtable\">\n",
       "<tr style=\"background-color:#ff2222;color:#002222;\"> <td class=\"z_0 r_0 p1_zaehlung, p2_p3_0_, p4_\" style=\"background-color:#ffffff;color:#000000;\"> </td> <td class=\"z_0 r_1 p1_nummerierung, p2_p3_0_, p4_\"> </td> <td class=\"z_0 r_2 p1_gebrochengalaxie, p2_p3_0_8, p4_0,1,3,6\"> n/8 Galaxie </td> </tr>\n",
       "<tr style=\"background-color:#66ff66;color:#000000;\"> <td style=\"background-color:#ffffff;color:#000000;\"> 1 </td> <td> 2 </td> <td> andere etwas machen lassen zu veranlassen, fangen, fotografieren, flüchtiges fest werden lassen </td> </tr>\n",
       "<tr style=\"background-color:#9999ff;color:#202000;\"> <td style=\"background-color:#ffffff;color:#000000;\"> 1 </td> <td> 4 </td> <td> möglich, Gelegenheiten ergreifen, andere befähigen, Talent (haben wollen) (größtenteils sicher) </td> </tr>\n",
       "<tr style=\"background-color:#ffff66;color:#000099;\"> <td style=\"background-color:#000000;color:#ffffff;\"> 2 </td> <td> 6 </td> <td> entwickeln, sich heranbilden, herausbilden, sich bilden (sicher) (3/4), Wenn ich etwas benötigen sollte, kann damit überhaupt etwas erreichen? ([1/4]/[1/3]), Selbstkritik und respektvoll sein (6/8) und Frage nach Wucher oder Schnäppchen (6/8), Zusammenhänge real, irreal, möglich, unmöglich (9/12), Rechtmäßigkeit und Musterung (1/8)/(1/6) (ich bin mir sehr sicher); Subsidiarität (12/16); Zuständigkeit oder auch investigativ sein [(1/16)/(1/12)] </td> </tr>\n",
       "<tr style=\"background-color:#9999ff;color:#202000;\"> <td style=\"background-color:#000000;color:#ffffff;\"> 2 </td> <td> 8 </td> <td> die Methode des Wie; fachliche Spezialisierung (2/2), wählerisch sein (3/3) (halb bis größtenteils sicher); Das hier alles ist wahrscheinlich falsch: Erschaffen, zustande bringen (4/4); genügen (5/5); veranschlagen oder Effizienz und Effektivität (6/6); korrespondieren (7/7); Gerechtigkeit bestimmen (8/8); Zweckmäßigkeit (9/9); Tragweite bestimmen (10/10) </td> </tr>\n",
       "<tr style=\"background-color:#ffff66;color:#000099;\"> <td style=\"background-color:#ffffff;color:#000000;\"> 3 </td> <td> 10 </td> <td> Anstellung erhalten wollen bzw. genauer, infrage gekommen sein (5/[1/4] und 5/4) (größtenteils sicher); eine Verordnung oder Rechtsnorm, verordnen wollen (10/8) </td> </tr>\n",
       "<tr style=\"background-color:#ffff66;color:#000099;\"> <td style=\"background-color:#ffffff;color:#000000;\"> 3 </td> <td> 12 </td> <td> Verwenden (3/2) (größtenteils sicher); griffbereit [3*(1/2)] (größtenteils sicher); investieren [6/(1/4)]; Investitionssumme bestimmen [9/(1/6)]; die Anordnung oder der Erlass [12/(1/8)] </td> </tr>\n",
       "<tr style=\"background-color:#ffff66;color:#000099;\"> <td style=\"background-color:#ffffff;color:#000000;\"> 3 </td> <td> 14 </td> <td> Güte oder zweckgerichtet gutmütig sein (7/4) </td> </tr>\n",
       "<tr style=\"background-color:#9999ff;color:#202000;\"> <td style=\"background-color:#ffffff;color:#000000;\"> 3 </td> <td> 16 </td> <td> „Können“ (bzw,. „Können wollen“ 2*1) (Allein die Fähigkeit besitzen wollen [1], sich fortpflanzen zu können [2] [1*2=2]) </td> </tr>\n",
       "<tr style=\"background-color:#ffff66;color:#000099;\"> <td style=\"background-color:#000000;color:#ffffff;\"> 4 </td> <td> 18 </td> <td> überhaupt etwas erreichen wollen (9/4) </td> </tr>\n",
       "</table>\n",
       "reta -zeilen --vorhervonausschnitt=2,4,6,8,10,12,14,16,18 -spalten --gebrochengalaxie=16 --breite=78 -kombination -ausgabe --spaltenreihenfolgeundnurdiese=1  -spalten --breite=0 -ausgabe --art=html --onetable\n",
       "<table border=0 id=\"bigtable\">\n",
       "<tr style=\"background-color:#ff2222;color:#002222;\"> <td class=\"z_0 r_0 p1_zaehlung, p2_p3_0_, p4_\" style=\"background-color:#ffffff;color:#000000;\"> </td> <td class=\"z_0 r_1 p1_nummerierung, p2_p3_0_, p4_\"> </td> <td class=\"z_0 r_2 p1_gebrochengalaxie, p2_p3_0_16, p4_0,1,3,6\"> n/16 Galaxie </td> </tr>\n",
       "<tr style=\"background-color:#66ff66;color:#000000;\"> <td style=\"background-color:#ffffff;color:#000000;\"> 1 </td> <td> 2 </td> <td> beurteilen (Taoismus: Harmonie, Konfuzianismus: Reputation, Shinto: Korrektheit, Ying Yang: Dualismus) (sicher) </td> </tr>\n",
       "<tr style=\"background-color:#9999ff;color:#202000;\"> <td style=\"background-color:#ffffff;color:#000000;\"> 1 </td> <td> 4 </td> <td> andere etwas machen lassen zu veranlassen, fangen, fotografieren, flüchtiges fest werden lassen </td> </tr>\n",
       "<tr style=\"background-color:#ffff66;color:#000099;\"> <td style=\"background-color:#000000;color:#ffffff;\"> 2 </td> <td> 6 </td> <td> Beweismittel heranziehen (3/8) </td> </tr>\n",
       "<tr style=\"background-color:#9999ff;color:#202000;\"> <td style=\"background-color:#000000;color:#ffffff;\"> 2 </td> <td> 8 </td> <td> möglich, Gelegenheiten ergreifen, andere befähigen, Talent (haben wollen) (größtenteils sicher) </td> </tr>\n",
       "<tr style=\"background-color:#ffff66;color:#000099;\"> <td style=\"background-color:#ffffff;color:#000000;\"> 3 </td> <td> 10 </td> <td> vorurteilhaft sein, mit Vorurteilen behaftet sein (d.h. beim Urteilen nur an sich denken) (5/8) </td> </tr>\n",
       "<tr style=\"background-color:#ffff66;color:#000099;\"> <td style=\"background-color:#ffffff;color:#000000;\"> 3 </td> <td> 12 </td> <td> entwickeln, sich heranbilden, herausbilden, sich bilden (sicher) (3/4), Wenn ich etwas benötigen sollte, kann damit überhaupt etwas erreichen? ([1/4]/[1/3]), Selbstkritik und respektvoll sein (6/8) und Frage nach Wucher oder Schnäppchen (6/8), Zusammenhänge real, irreal, möglich, unmöglich (9/12), Rechtmäßigkeit und Musterung (1/8)/(1/6) (ich bin mir sehr sicher); Subsidiarität (12/16); Zuständigkeit oder auch investigativ sein [(1/16)/(1/12)] </td> </tr>\n",
       "<tr style=\"background-color:#ffff66;color:#000099;\"> <td style=\"background-color:#ffffff;color:#000000;\"> 3 </td> <td> 14 </td> <td> unbefangen sein (d.h. selbstlos beurteilen) (7/8) </td> </tr>\n",
       "<tr style=\"background-color:#9999ff;color:#202000;\"> <td style=\"background-color:#ffffff;color:#000000;\"> 3 </td> <td> 16 </td> <td> die Methode des Wie; fachliche Spezialisierung (2/2), wählerisch sein (3/3) (halb bis größtenteils sicher); Das hier alles ist wahrscheinlich falsch: Erschaffen, zustande bringen (4/4); genügen (5/5); veranschlagen oder Effizienz und Effektivität (6/6); korrespondieren (7/7); Gerechtigkeit bestimmen (8/8); Zweckmäßigkeit (9/9); Tragweite bestimmen (10/10) </td> </tr>\n",
       "</table>\n",
       "reta -zeilen --vorhervonausschnitt=2,4,6,8,10,12,14,16,18 -spalten --gebrochengalaxie=10 --breite=78 -kombination -ausgabe --spaltenreihenfolgeundnurdiese=1  -spalten --breite=0 -ausgabe --art=html --onetable\n",
       "<table border=0 id=\"bigtable\">\n",
       "<tr style=\"background-color:#ff2222;color:#002222;\"> <td class=\"z_0 r_0 p1_zaehlung, p2_p3_0_, p4_\" style=\"background-color:#ffffff;color:#000000;\"> </td> <td class=\"z_0 r_1 p1_nummerierung, p2_p3_0_, p4_\"> </td> <td class=\"z_0 r_2 p1_gebrochengalaxie, p2_p3_0_10, p4_0,1,3,6\"> n/10 Galaxie </td> </tr>\n",
       "<tr style=\"background-color:#66ff66;color:#000000;\"> <td style=\"background-color:#ffffff;color:#000000;\"> 1 </td> <td> 2 </td> <td> taugen, streben (sicher) </td> </tr>\n",
       "<tr style=\"background-color:#9999ff;color:#202000;\"> <td style=\"background-color:#ffffff;color:#000000;\"> 1 </td> <td> 4 </td> <td> zu etwas passen wollen, passend sein wollen (2/5) (sicher); Erstellung [4/(1/10)] </td> </tr>\n",
       "<tr style=\"background-color:#ffff66;color:#000099;\"> <td style=\"background-color:#000000;color:#ffffff;\"> 2 </td> <td> 6 </td> <td> Verwendbarkeit (3/5 und 3/[1/5]) (größtenteils sicher); das Privileg (6/10); Gegebenheit (9/15) </td> </tr>\n",
       "<tr style=\"background-color:#9999ff;color:#202000;\"> <td style=\"background-color:#000000;color:#ffffff;\"> 2 </td> <td> 8 </td> <td> Testen (4/5 und 4/[1/5]); Autonomie wollen (8/10) </td> </tr>\n",
       "<tr style=\"background-color:#ffff66;color:#000099;\"> <td style=\"background-color:#ffffff;color:#000000;\"> 3 </td> <td> 10 </td> <td> die Methode des Wie; fachliche Spezialisierung (2/2), wählerisch sein (3/3) (halb bis größtenteils sicher); Das hier alles ist wahrscheinlich falsch: Erschaffen, zustande bringen (4/4); genügen (5/5); veranschlagen oder Effizienz und Effektivität (6/6); korrespondieren (7/7); Gerechtigkeit bestimmen (8/8); Zweckmäßigkeit (9/9); Tragweite bestimmen (10/10) </td> </tr>\n",
       "<tr style=\"background-color:#ffff66;color:#000099;\"> <td style=\"background-color:#ffffff;color:#000000;\"> 3 </td> <td> 12 </td> <td> ausbeuten wollen (sowohl im guten, als auch im nicht so guten Sinn, d.h. zunächst neutral) (6/5) </td> </tr>\n",
       "<tr style=\"background-color:#ffff66;color:#000099;\"> <td style=\"background-color:#ffffff;color:#000000;\"> 3 </td> <td> 14 </td> <td> großzügig sein (7/5) </td> </tr>\n",
       "<tr style=\"background-color:#9999ff;color:#202000;\"> <td style=\"background-color:#ffffff;color:#000000;\"> 3 </td> <td> 16 </td> <td> Unrecht erkennen wollen (8/5) </td> </tr>\n",
       "</table>\n",
       "reta -zeilen --vorhervonausschnitt=2,4,6,8,10,12,14,16,18 -spalten --gebrochengalaxie=13 --breite=78 -kombination -ausgabe --spaltenreihenfolgeundnurdiese=1  -spalten --breite=0 -ausgabe --art=html --onetable\n",
       "<table border=0 id=\"bigtable\">\n",
       "<tr style=\"background-color:#ff2222;color:#002222;\"> <td class=\"z_0 r_0 p1_zaehlung, p2_p3_0_, p4_\" style=\"background-color:#ffffff;color:#000000;\"> </td> <td class=\"z_0 r_1 p1_nummerierung, p2_p3_0_, p4_\"> </td> <td class=\"z_0 r_2 p1_gebrochengalaxie, p2_p3_0_13, p4_0,1,3,6\"> n/13 Galaxie </td> </tr>\n",
       "</table>\n"
      ],
      "text/plain": [
       "<IPython.core.display.HTML object>"
      ]
     },
     "execution_count": 53,
     "metadata": {},
     "output_type": "execute_result"
    }
   ],
   "source": [
    "# das ist Richtig\n",
    "HTML(teste(\"av1/10-1/11+0/1+1/2\"))"
   ]
  },
  {
   "cell_type": "code",
   "execution_count": null,
   "id": "1171a357",
   "metadata": {},
   "outputs": [],
   "source": []
  }
 ],
 "metadata": {
  "kernelspec": {
   "display_name": "PyPy3",
   "language": "python",
   "name": "pypy3"
  },
  "language_info": {
   "codemirror_mode": {
    "name": "ipython",
    "version": 3
   },
   "file_extension": ".py",
   "mimetype": "text/x-python",
   "name": "python",
   "nbconvert_exporter": "python",
   "pygments_lexer": "ipython3",
   "version": "3.9.16"
  }
 },
 "nbformat": 4,
 "nbformat_minor": 5
}
