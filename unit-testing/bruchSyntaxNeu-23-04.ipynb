{
 "cells": [
  {
   "cell_type": "code",
   "execution_count": 1,
   "id": "fc0e2954",
   "metadata": {},
   "outputs": [
    {
     "data": {
      "text/html": [
       "<!DOCTYPE HTML PUBLIC \"-//W3C//DTD HTML 4.01 Transitional//EN\" \"http://www.w3.org/TR/html4/loose.dtd\">\n",
       "<html>\n",
       "<head>\n",
       "<meta http-equiv=\"Content-Type\" content=\"text/html; charset=utf-8\">\n",
       "<title></title>\n",
       "<style type=\"text/css\">\n",
       ".ansi2html-content { display: inline; white-space: pre-wrap; word-wrap: break-word; }\n",
       ".body_foreground { color: #AAAAAA; }\n",
       ".body_background { background-color: #000000; }\n",
       ".inv_foreground { color: #000000; }\n",
       ".inv_background { background-color: #AAAAAA; }\n",
       ".ansi4 { text-decoration: underline; }\n",
       ".ansi30 { color: #000316; }\n",
       ".ansi37 { color: #F5F1DE; }\n",
       ".ansi41 { background-color: #aa0000; }\n",
       ".ansi100 { background-color: #7f7f7f; }\n",
       "</style>\n",
       "</head>\n",
       "<body class=\"body_foreground body_background\" style=\"font-size: normal;\" >\n",
       "<pre class=\"ansi2html-content\">\n",
       "   <span class=\"ansi41\"></span><span class=\"ansi30 ansi41\"></span><span class=\"ansi4 ansi30 ansi41\">Intrinsische (nicht extrinsische) (intrinsisch = es direkt wollen und -  </span> \n",
       "   <span class=\"ansi41\"></span><span class=\"ansi30 ansi41\"></span><span class=\"ansi4 ansi30 ansi41\">nicht indirekt) emotionale Intentionen bzw. Motive für Sternpolygone, Pa-</span> \n",
       "   <span class=\"ansi41\"></span><span class=\"ansi30 ansi41\"></span><span class=\"ansi4 ansi30 ansi41\">radigmen (u.a. 13, Paradigmen sind nicht nur Typ 13, weil vermensch-     </span> \n",
       "   <span class=\"ansi41\"></span><span class=\"ansi30 ansi41\"></span><span class=\"ansi4 ansi30 ansi41\">licht) (Ein beliebiges Motiv zu haben ist Typ 1) (Jedes einzelne Moti-   </span> \n",
       "   <span class=\"ansi41\"></span><span class=\"ansi30 ansi41\"></span><span class=\"ansi4 ansi30 ansi41\">v ergibt sich auch daraus, aus welchen Paradigmen und Meta-Paradigmen -  </span> \n",
       "   <span class=\"ansi41\"></span><span class=\"ansi30 ansi41\"></span><span class=\"ansi4 ansi30 ansi41\">der Mensch besteht, ist also immer eine Zusammensetzung) Absich-         </span> \n",
       "   <span class=\"ansi41\"></span><span class=\"ansi30 ansi41\"></span><span class=\"ansi4 ansi30 ansi41\">ten (13) als Form des Geistes (15)                                       </span> \n",
       " 1 <span class=\"ansi100\"></span><span class=\"ansi37 ansi100\">„Absicht“ (jegliche beliebige Absichten) (und alles weitere, das alle Pa-</span> \n",
       "   <span class=\"ansi100\"></span><span class=\"ansi37 ansi100\">radigmen haben: einen „Denkansatz“)                                      </span> \n",
       "   <span class=\"ansi41\"></span><span class=\"ansi30 ansi41\"></span><span class=\"ansi4 ansi30 ansi41\">Transzendentalien, -alien, universelle Strukturalien, Meta-Paradig-      </span> \n",
       "   <span class=\"ansi41\"></span><span class=\"ansi30 ansi41\"></span><span class=\"ansi4 ansi30 ansi41\">men (15) Transzendentalien (15 oder u.a. 15) sind die menschliche Sicht -</span> \n",
       "   <span class=\"ansi41\"></span><span class=\"ansi30 ansi41\"></span><span class=\"ansi4 ansi30 ansi41\">der Strukturalien (ausschließlich Typ 15) (In Lebewesen ist es Bewusst-  </span> \n",
       "   <span class=\"ansi41\"></span><span class=\"ansi30 ansi41\"></span><span class=\"ansi4 ansi30 ansi41\">sein.).                                                                  </span> \n",
       " 1 <span class=\"ansi100\"></span><span class=\"ansi37 ansi100\">Identität, z.B. mathematisch (1)                                         </span> \n",
       "   <span class=\"ansi41\"></span><span class=\"ansi30 ansi41\"></span><span class=\"ansi4 ansi30 ansi41\">Informatiksicht       </span> \n",
       " 1 <span class=\"ansi100\"></span><span class=\"ansi37 ansi100\">Objekte identifizieren</span> \n",
       "   <span class=\"ansi41\"></span><span class=\"ansi30 ansi41\"></span><span class=\"ansi4 ansi30 ansi41\">model of hierarchical complexity (adapted from Commons, Crone-Tod-       </span> \n",
       "   <span class=\"ansi41\"></span><span class=\"ansi30 ansi41\"></span><span class=\"ansi4 ansi30 ansi41\">d, &amp; Chen, 2014)  [bis zu 15, danach ich Jupiter 3.0], Meta-Paradig-     </span> \n",
       "   <span class=\"ansi41\"></span><span class=\"ansi30 ansi41\"></span><span class=\"ansi4 ansi30 ansi41\">men (15) (Diese Spalte von u.a. Michael Commons ist wohl eher vermensch- </span> \n",
       "   <span class=\"ansi41\"></span><span class=\"ansi30 ansi41\"></span><span class=\"ansi4 ansi30 ansi41\">licht, durch die Paradigmen [13] [3,8,10,17] und Metaparadig-            </span> \n",
       "   <span class=\"ansi41\"></span><span class=\"ansi30 ansi41\"></span><span class=\"ansi4 ansi30 ansi41\">men [15] [2|1/3|2/3|3/2|6|1/10|13|14|1/16|(16) ], aus denen der Mensch - </span> \n",
       "   <span class=\"ansi41\"></span><span class=\"ansi30 ansi41\"></span><span class=\"ansi4 ansi30 ansi41\">besteht. D.h. diese Zahlenkombinationen müsste man herausrechnen [Mindes-</span> \n",
       "   <span class=\"ansi41\"></span><span class=\"ansi30 ansi41\"></span><span class=\"ansi4 ansi30 ansi41\">tens Typ 14 ist hier in dieser Spalte immer mit kombiniert.] und wür-    </span> \n",
       "   <span class=\"ansi41\"></span><span class=\"ansi30 ansi41\"></span><span class=\"ansi4 ansi30 ansi41\">de dann auf die Strukturalien und Transzendentalien kommen!)             </span> \n",
       " 1 <span class=\"ansi100\"></span><span class=\"ansi37 ansi100\">Calculatory                                                              </span> \n",
       "\n",
       "</pre>\n",
       "</body>\n",
       "\n",
       "</html>\n"
      ],
      "text/plain": [
       "<IPython.core.display.HTML object>"
      ]
     },
     "metadata": {},
     "output_type": "display_data"
    }
   ],
   "source": [
    "from ansi2html import Ansi2HTMLConverter\n",
    "import sys\n",
    "sys.path.insert(1, '/home/alex/myRepos/reta')\n",
    "import subprocess\n",
    "from IPython.core.display import HTML\n",
    "# Erstellen Sie einen neuen Konverter mit Standardoptionen\n",
    "converter = Ansi2HTMLConverter()\n",
    "\n",
    "def externCommand(cmd: str, parameter: list[str]):\n",
    "    #return subprocess.check_output([cmd, *parameter], stderr=subprocess.STDOUT, universal_newlines=True)\n",
    "    p = subprocess.Popen([cmd, *parameter], stdout=subprocess.PIPE, stderr=subprocess.PIPE, universal_newlines=True)\n",
    "    output, err = p.communicate()\n",
    "    return output\n",
    "\n",
    "befehl = \"a u e 1\".split()\n",
    "html_output = converter.convert(externCommand(\"/home/alex/myRepos/reta/rp\",[\"-befehl\",*befehl]))\n",
    "\n",
    "# Geben Sie das HTML in einer Jupyter-Notebook-Zelle aus\n",
    "from IPython.core.display import HTML\n",
    "display(HTML(html_output))"
   ]
  },
  {
   "cell_type": "code",
   "execution_count": 1,
   "id": "d76b0bc0",
   "metadata": {},
   "outputs": [
    {
     "data": {
      "text/html": [
       "<table border=0 id=\"bigtable\">\n",
       "<tr style=\"background-color:#ff2222;color:#002222;\"> <td class=\"z_0 r_0 p1_zaehlung, p2_p3_0_, p4_\" style=\"background-color:#ffffff;color:#000000;\"> </td> <td class=\"z_0 r_1 p1_nummerierung, p2_p3_0_, p4_\"> </td> <td class=\"z_0 r_2 p1_Grundstrukturen,Menschliches,Wichtigstes_zum_verstehen, p2_p3_0_Paradigmen_sind_Absichten_(13),p3_1_Motive,p3_2_Wichtigste,p3_3_, p4_0,3\"> Intrinsische (nicht extrinsische) (intrinsisch = es direkt wollen und nicht indirekt) emotionale Intentionen bzw. Motive für Sternpolygone, Paradigmen (u.a. 13, Paradigmen sind nicht nur Typ 13, weil vermenschlicht) (Ein beliebiges Motiv zu haben ist Typ 1) (Jedes einzelne Motiv ergibt sich auch daraus, aus welchen Paradigmen und Meta-Paradigmen der Mensch besteht, ist also immer eine Zusammensetzung) Absichten (13) als Form des Geistes (15) </td> </tr>\n",
       "<tr style=\"background-color:#555500;color:#aaaaff;\"> <td style=\"background-color:#ffffff;color:#000000;\"> 1 </td> <td> 1 </td> <td> „Absicht“ (jegliche beliebige Absichten) (und alles weitere, das alle Paradigmen haben: einen „Denkansatz“) </td> </tr>\n",
       "</table>\n",
       "<table border=0 id=\"bigtable\">\n",
       "<tr style=\"background-color:#ff2222;color:#002222;\"> <td class=\"z_0 r_0 p1_zaehlung, p2_p3_0_, p4_\" style=\"background-color:#ffffff;color:#000000;\"> </td> <td class=\"z_0 r_1 p1_nummerierung, p2_p3_0_, p4_\"> </td> <td class=\"z_0 r_2 p1_Grundstrukturen,Inkrementieren,Inkrementieren,Universum,Universum,Universum,Wichtigstes_zum_verstehen, p2_p3_0_Strukturalien_bzw_Meta-Paradigmen_bzw_Transzendentalien_(15),p3_1_warum_Transzendentalie_=_Komplexität_von_Michael_Commons,p3_2_warum_Transzendentalie_=_Strukturgroesse_=_Charakter,p3_3_Transzendentalien,p3_4_warum_Transzendentalie_=_Komplexität_von_Michael_Commons,p3_5_warum_Transzendentalie_=_Strukturgroesse_=_Charakter,p3_6_Wichtigste,p3_7_, p4_0,4\"> Transzendentalien, -alien, universelle Strukturalien, Meta-Paradigmen (15) Transzendentalien (15 oder u.a. 15) sind die menschliche Sicht der Strukturalien (ausschließlich Typ 15) (In Lebewesen ist es Bewusstsein.). </td> <td class=\"z_0 r_3 p1_Größenordnung,Inkrementieren,Inkrementieren,Universum,Universum, p2_p3_0_Strukturgrösse,p3_1_,p3_2_warum_Transzendentalie_=_Strukturgroesse_=_Charakter,p3_3_Transzendentalien,p3_4_warum_Transzendentalie_=_Strukturgroesse_=_Charakter,p3_5_, p4_0,3\"> Informatiksicht </td> <td class=\"z_0 r_4 p1_Universum, p2_p3_0_Transzendentalien,p3_1_, p4_0,3\"> model of hierarchical complexity (adapted from Commons, Crone-Todd, &amp; Chen, 2014) [bis zu 15, danach ich Jupiter 3.0], Meta-Paradigmen (15) (Diese Spalte von u.a. Michael Commons ist wohl eher vermenschlicht, durch die Paradigmen [13] [3,8,10,17] und Metaparadigmen [15] [2|1/3|2/3|3/2|6|1/10|13|14|1/16|(16) ], aus denen der Mensch besteht. D.h. diese Zahlenkombinationen müsste man herausrechnen [Mindestens Typ 14 ist hier in dieser Spalte immer mit kombiniert.] und würde dann auf die Strukturalien und Transzendentalien kommen!) </td> </tr>\n",
       "<tr style=\"background-color:#555500;color:#aaaaff;\"> <td style=\"background-color:#ffffff;color:#000000;\"> 1 </td> <td> 1 </td> <td> Identität, z.B. mathematisch (1) </td> <td> Objekte identifizieren </td> <td> Calculatory </td> </tr>\n",
       "</table>\n"
      ],
      "text/plain": [
       "<IPython.core.display.HTML object>"
      ]
     },
     "execution_count": 1,
     "metadata": {},
     "output_type": "execute_result"
    }
   ],
   "source": [
    "from IPython.display import HTML\n",
    "import sys\n",
    "sys.path.insert(1, '/home/alex/myRepos/reta')\n",
    "import subprocess\n",
    "from IPython.core.display import HTML\n",
    "# Erstellen Sie einen neuen Konverter mit Standardoptionen\n",
    "\n",
    "def externCommand(cmd: str, parameter: list[str]):\n",
    "    #return subprocess.check_output([cmd, *parameter], stderr=subprocess.STDOUT, universal_newlines=True)\n",
    "    p = subprocess.Popen([cmd, *parameter], stdout=subprocess.PIPE, stderr=subprocess.PIPE, universal_newlines=True)\n",
    "    output, err = p.communicate()\n",
    "    return output\n",
    "\n",
    "befehl = \"a u e 1 -spalten --breite=0 -ausgabe --art=html --onetable\".split()\n",
    "htmlAusgabe = externCommand(\"/home/alex/myRepos/reta/rp\",[\"-befehl\",*befehl])\n",
    "\n",
    "# Geben Sie das HTML in einer Jupyter-Notebook-Zelle aus\n",
    "HTML(htmlAusgabe)"
   ]
  },
  {
   "cell_type": "code",
   "execution_count": 5,
   "id": "39084c82",
   "metadata": {},
   "outputs": [
    {
     "data": {
      "text/html": [
       "<table border=0 id=\"bigtable\">\n",
       "<tr style=\"background-color:#ff2222;color:#002222;\"> <td class=\"z_0 r_0 p1_zaehlung, p2_p3_0_, p4_\" style=\"background-color:#ffffff;color:#000000;\"> </td> <td class=\"z_0 r_1 p1_nummerierung, p2_p3_0_, p4_\"> </td> <td class=\"z_0 r_2 p1_Grundstrukturen,Menschliches,Wichtigstes_zum_verstehen, p2_p3_0_Paradigmen_sind_Absichten_(13),p3_1_Motive,p3_2_Wichtigste,p3_3_, p4_0,3\"> Extrinsische (= es indirekt wollen und nicht direkt zu wollen) (ggf. rationale) Motive für gleichförmige Polygone, Paradigmen, Reziproke 1/n (13 und oder 14) </td> </tr>\n",
       "<tr style=\"background-color:#009900;color:#ffffff;\"> <td style=\"background-color:#000000;color:#ffffff;\"> 2 </td> <td> 5 </td> <td> taugen, streben (sicher) </td> </tr>\n",
       "<tr style=\"background-color:#ffff66;color:#000099;\"> <td style=\"background-color:#000000;color:#ffffff;\"> 2 </td> <td> 6 </td> <td> einschätzen, bewerten, Klarheit oder Ethik wollen, gesellschaftliche Werte wollen (sicher) </td> </tr>\n",
       "<tr style=\"background-color:#555500;color:#aaaaff;\"> <td style=\"background-color:#ffffff;color:#000000;\"> 3 </td> <td> 15 </td> <td> Respekt in anderen sehen, sich durch andere selbst reflektieren wollen (d.h. umgekehrter Selbstrespekt) (größtenteils sicher) </td> </tr>\n",
       "<tr style=\"background-color:#000099;color:#ffff66;\"> <td style=\"background-color:#000000;color:#ffffff;\"> 4 </td> <td> 25 </td> <td> für Freizeitangebote sorgen wollen (halb bis größtenteils sicher) </td> </tr>\n",
       "<tr style=\"background-color:#009900;color:#ffffff;\"> <td style=\"background-color:#000000;color:#ffffff;\"> 6 </td> <td> 31 </td> <td> Konsumieren wollen von Feinsinniger Hochkultur, wie z.B. Oper (halb bis größtenteils sicher) </td> </tr>\n",
       "<tr style=\"background-color:#9999ff;color:#202000;\"> <td style=\"background-color:#000000;color:#ffffff;\"> 6 </td> <td> 32 </td> <td> arrangieren und organisieren und auch verherrlichen (halb bis größtenteils sicher) </td> </tr>\n",
       "<tr style=\"background-color:#555500;color:#aaaaff;\"> <td style=\"background-color:#000000;color:#ffffff;\"> 8 </td> <td> 45 </td> <td> befruchtet werden wollen bzw. als Mann zu wollen, dass die Frau Aktion ergreift, dass sie befruchtet wird, während der Mann passiv ist, also eher wie bei künstlicher Befruchtung (größtenteils sicher) </td> </tr>\n",
       "<tr style=\"background-color:#9999ff;color:#202000;\"> <td style=\"background-color:#ffffff;color:#000000;\"> 9 </td> <td> 64 </td> <td> Jemanden mental sozusagen hinterher rennen (halb sicher); andere Menschen zu delegieren (halb sicher) </td> </tr>\n",
       "</table>\n"
      ],
      "text/plain": [
       "<IPython.core.display.HTML object>"
      ]
     },
     "execution_count": 5,
     "metadata": {},
     "output_type": "execute_result"
    }
   ],
   "source": [
    "befehl = \"a v e 1/5-1/6,-1/10-1/12,-1/18,1/31-1/32 -spalten --breite=0 -ausgabe --art=html --onetable\".split()\n",
    "htmlAusgabe = externCommand(\"/home/alex/myRepos/reta/rp\",[\"-befehl\",*befehl])\n",
    "\n",
    "# Geben Sie das HTML in einer Jupyter-Notebook-Zelle aus\n",
    "HTML(htmlAusgabe)"
   ]
  },
  {
   "cell_type": "code",
   "execution_count": 2,
   "id": "bb2500da",
   "metadata": {},
   "outputs": [
    {
     "data": {
      "text/html": [
       "<table border=0 id=\"bigtable\">\n",
       "<tr style=\"background-color:#ff2222;color:#002222;\"> <td class=\"z_0 r_0 p1_zaehlung, p2_p3_0_, p4_\" style=\"background-color:#ffffff;color:#000000;\"> </td> <td class=\"z_0 r_1 p1_nummerierung, p2_p3_0_, p4_\"> </td> <td class=\"z_0 r_2 p1_Grundstrukturen,Menschliches,Wichtigstes_zum_verstehen, p2_p3_0_Paradigmen_sind_Absichten_(13),p3_1_Motive,p3_2_Wichtigste,p3_3_, p4_0,3\"> Extrinsische (= es indirekt wollen und nicht direkt zu wollen) (ggf. rationale) Motive für gleichförmige Polygone, Paradigmen, Reziproke 1/n (13 und oder 14) </td> </tr>\n",
       "<tr style=\"background-color:#009900;color:#ffffff;\"> <td style=\"background-color:#ffffff;color:#000000;\"> 3 </td> <td> 13 </td> <td> Dinge umsetzen wollen und dazu ggf. Hilfe benötigen (größtenteils sicher bis sicher) unterweisen, unterrichten, anweisen, das Sollen, wie es sein sollte, instruction, should be </td> </tr>\n",
       "<tr style=\"background-color:#9999ff;color:#202000;\"> <td style=\"background-color:#ffffff;color:#000000;\"> 3 </td> <td> 16 </td> <td> eine Rolle einnehmen (oder spielen) (größtenteils sicher); zuweisen, wer wie oder was okay ist (halb sicher) </td> </tr>\n",
       "<tr style=\"background-color:#ffff66;color:#000099;\"> <td style=\"background-color:#ffffff;color:#000000;\"> 5 </td> <td> 26 </td> <td> umsorgt sein wollen, wie speziell Flugzeugpassagiere oder Patienten von speziell Notärzten (halb bis größtenteils sicher) </td> </tr>\n",
       "<tr style=\"background-color:#ffff66;color:#000099;\"> <td style=\"background-color:#000000;color:#ffffff;\"> 6 </td> <td> 30 </td> <td> Erkennen zu wollen, wie andere erkennen (z.B. philosophische Erkenntnis-Theorie betreiben wollen) (halb bis größtenteils sicher) </td> </tr>\n",
       "<tr style=\"background-color:#ffff66;color:#000099;\"> <td style=\"background-color:#000000;color:#ffffff;\"> 8 </td> <td> 48 </td> <td> (klar auf den Punkt gebracht) „einen (ausführlichen) Audit durchführen wollen“: sich um Lebens-Umstände kümmern, wie bei Qualitätssicherung, z.B. die Theorie der Arbeit analog wie Karl Marx, oder als Meta-Thema von Netzwerken, oder Planung der Herrichtung einer Ordnung (dabei auf urteilende Art einschätzen und auf einschätzende Art urteilen [wenn man aus diesen 2 Wortkombinationen ein Wort bekommt, dann wäre es endlich klar auf den Punkt gebracht]); Kümmern um die Lebensbedingungen, dass Menschen ihre Rolle in der Gesellschaft einnehmen (größtenteils sicher) </td> </tr>\n",
       "<tr style=\"background-color:#ffff66;color:#000099;\"> <td style=\"background-color:#000000;color:#ffffff;\"> 10 </td> <td> 80 </td> <td> Projekte starten und am Laufen halten wollen. (halb sicher) </td> </tr>\n",
       "</table>\n"
      ],
      "text/plain": [
       "<IPython.core.display.HTML object>"
      ]
     },
     "execution_count": 2,
     "metadata": {},
     "output_type": "execute_result"
    }
   ],
   "source": [
    "def teste(kurzbefehl: str):    \n",
    "    befehl = (\"a e \"+kurzbefehl+\" -spalten --breite=0 -ausgabe --art=html --onetable\").split()\n",
    "    return externCommand(\"/home/alex/myRepos/reta/rp\",[\"-befehl\",*befehl])\n",
    "\n",
    "HTML(teste(\"v 1/14-1/15+1/1+0/0,-1/14-1/15,-1/32,1/30\"))"
   ]
  },
  {
   "cell_type": "code",
   "execution_count": 18,
   "id": "e10729b4",
   "metadata": {},
   "outputs": [
    {
     "data": {
      "text/html": [
       "<table border=0 id=\"bigtable\">\n",
       "<tr style=\"background-color:#ff2222;color:#002222;\"> <td class=\"z_0 r_0 p1_zaehlung, p2_p3_0_, p4_\" style=\"background-color:#ffffff;color:#000000;\"> </td> <td class=\"z_0 r_1 p1_nummerierung, p2_p3_0_, p4_\"> </td> <td class=\"z_0 r_2 p1_Grundstrukturen,Menschliches,Wichtigstes_zum_verstehen, p2_p3_0_Paradigmen_sind_Absichten_(13),p3_1_Motive,p3_2_Wichtigste,p3_3_, p4_0,3\"> Extrinsische (= es indirekt wollen und nicht direkt zu wollen) (ggf. rationale) Motive für gleichförmige Polygone, Paradigmen, Reziproke 1/n (13 und oder 14) </td> </tr>\n",
       "<tr style=\"background-color:#009900;color:#ffffff;\"> <td style=\"background-color:#ffffff;color:#000000;\"> 3 </td> <td> 11 </td> <td> zu unterscheiden (tun), unterhalten werden wollen – z.B. als Zuschauer (halb bis größtenteils sicher) </td> </tr>\n",
       "<tr style=\"background-color:#ffff66;color:#000099;\"> <td style=\"background-color:#ffffff;color:#000000;\"> 3 </td> <td> 12 </td> <td> Kartieren wollen, z.B. als technischer Zeichner, alles als etwas eine „Ordnung zu geben“ (u.a. in seinem eigenen Gehirn) (1/12) statt umgekehrt die „Ordnung in der Welt zu suchen“ (12) (sicher); sich einer Ordnung unterwerfen (größtenteils sicher) </td> </tr>\n",
       "<tr style=\"background-color:#ffff66;color:#000099;\"> <td style=\"background-color:#ffffff;color:#000000;\"> 3 </td> <td> 14 </td> <td> analysieren (sicher) </td> </tr>\n",
       "<tr style=\"background-color:#555500;color:#aaaaff;\"> <td style=\"background-color:#ffffff;color:#000000;\"> 3 </td> <td> 15 </td> <td> Respekt in anderen sehen, sich durch andere selbst reflektieren wollen (d.h. umgekehrter Selbstrespekt) (größtenteils sicher) </td> </tr>\n",
       "<tr style=\"background-color:#ffff66;color:#000099;\"> <td style=\"background-color:#000000;color:#ffffff;\"> 4 </td> <td> 22 </td> <td> Wissenschaft als Konsument oder Journalist nachvollziehen wollen oder Humanistisch über Bildung und Wissenschaft die Welt sehen zu wollen oder Vererbungs-Dinge, wie Evolution, nachvollziehen wollen (halb bis größtenteils sicher) </td> </tr>\n",
       "<tr style=\"background-color:#ffff66;color:#000099;\"> <td style=\"background-color:#000000;color:#ffffff;\"> 4 </td> <td> 24 </td> <td> Motiv Moderation, Motiv Netzwerkevaluation, Protokollführung, Integritäts-Unversehrtheits-Überwachung, Motiv konsumieren vom Netzwerk (wo sogenannte Netzwerkeffekte auftreffen), die Netzwerkeigenschaften welche orthogonal vom Netzwerk vorliegen – davon dessen abgeleitete Motive dieser Eigenschaften (halb bis größtenteils sicher) </td> </tr>\n",
       "</table>\n"
      ],
      "text/plain": [
       "<IPython.core.display.HTML object>"
      ]
     },
     "execution_count": 18,
     "metadata": {},
     "output_type": "execute_result"
    }
   ],
   "source": [
    "HTML(teste(\"1/14-1/15,v1/11-1/12,-1/44-1/48\"))"
   ]
  },
  {
   "cell_type": "code",
   "execution_count": 8,
   "id": "80ed6ce6",
   "metadata": {},
   "outputs": [
    {
     "data": {
      "text/html": [
       "<table border=0 id=\"bigtable\">\n",
       "<tr style=\"background-color:#ff2222;color:#002222;\"> <td class=\"z_0 r_0 p1_zaehlung, p2_p3_0_, p4_\" style=\"background-color:#ffffff;color:#000000;\"> </td> <td class=\"z_0 r_1 p1_nummerierung, p2_p3_0_, p4_\"> </td> <td class=\"z_0 r_2 p1_Grundstrukturen,Menschliches,Wichtigstes_zum_verstehen, p2_p3_0_Paradigmen_sind_Absichten_(13),p3_1_Motive,p3_2_Wichtigste,p3_3_, p4_0,3\"> Extrinsische (= es indirekt wollen und nicht direkt zu wollen) (ggf. rationale) Motive für gleichförmige Polygone, Paradigmen, Reziproke 1/n (13 und oder 14) </td> </tr>\n",
       "<tr style=\"background-color:#009900;color:#ffffff;\"> <td style=\"background-color:#ffffff;color:#000000;\"> 3 </td> <td> 11 </td> <td> zu unterscheiden (tun), unterhalten werden wollen – z.B. als Zuschauer (halb bis größtenteils sicher) </td> </tr>\n",
       "<tr style=\"background-color:#ffff66;color:#000099;\"> <td style=\"background-color:#ffffff;color:#000000;\"> 3 </td> <td> 12 </td> <td> Kartieren wollen, z.B. als technischer Zeichner, alles als etwas eine „Ordnung zu geben“ (u.a. in seinem eigenen Gehirn) (1/12) statt umgekehrt die „Ordnung in der Welt zu suchen“ (12) (sicher); sich einer Ordnung unterwerfen (größtenteils sicher) </td> </tr>\n",
       "<tr style=\"background-color:#ffff66;color:#000099;\"> <td style=\"background-color:#ffffff;color:#000000;\"> 3 </td> <td> 14 </td> <td> analysieren (sicher) </td> </tr>\n",
       "<tr style=\"background-color:#555500;color:#aaaaff;\"> <td style=\"background-color:#ffffff;color:#000000;\"> 3 </td> <td> 15 </td> <td> Respekt in anderen sehen, sich durch andere selbst reflektieren wollen (d.h. umgekehrter Selbstrespekt) (größtenteils sicher) </td> </tr>\n",
       "<tr style=\"background-color:#ffff66;color:#000099;\"> <td style=\"background-color:#000000;color:#ffffff;\"> 4 </td> <td> 22 </td> <td> Wissenschaft als Konsument oder Journalist nachvollziehen wollen oder Humanistisch über Bildung und Wissenschaft die Welt sehen zu wollen oder Vererbungs-Dinge, wie Evolution, nachvollziehen wollen (halb bis größtenteils sicher) </td> </tr>\n",
       "<tr style=\"background-color:#ffff66;color:#000099;\"> <td style=\"background-color:#000000;color:#ffffff;\"> 4 </td> <td> 24 </td> <td> Motiv Moderation, Motiv Netzwerkevaluation, Protokollführung, Integritäts-Unversehrtheits-Überwachung, Motiv konsumieren vom Netzwerk (wo sogenannte Netzwerkeffekte auftreffen), die Netzwerkeigenschaften welche orthogonal vom Netzwerk vorliegen – davon dessen abgeleitete Motive dieser Eigenschaften (halb bis größtenteils sicher) </td> </tr>\n",
       "<tr style=\"background-color:#ffff66;color:#000099;\"> <td style=\"background-color:#000000;color:#ffffff;\"> 6 </td> <td> 28 </td> <td> konsumieren wollen von Lebenshilfe-Ratgebern und davon profitieren wollen, seine Lebensführung zu verbessern (halb bis größtenteils sicher) </td> </tr>\n",
       "<tr style=\"background-color:#ffff66;color:#000099;\"> <td style=\"background-color:#000000;color:#ffffff;\"> 6 </td> <td> 30 </td> <td> Erkennen zu wollen, wie andere erkennen (z.B. philosophische Erkenntnis-Theorie betreiben wollen) (halb bis größtenteils sicher) </td> </tr>\n",
       "</table>\n"
      ],
      "text/plain": [
       "<IPython.core.display.HTML object>"
      ]
     },
     "execution_count": 8,
     "metadata": {},
     "output_type": "execute_result"
    }
   ],
   "source": [
    "HTML(teste(\"v 1/14-1/15,v1/11-1/12,-1/44-1/48\"))"
   ]
  },
  {
   "cell_type": "code",
   "execution_count": 20,
   "id": "09dd55f4",
   "metadata": {},
   "outputs": [
    {
     "data": {
      "text/html": [
       "<table border=0 id=\"bigtable\">\n",
       "<tr style=\"background-color:#ff2222;color:#002222;\"> <td class=\"z_0 r_0 p1_zaehlung, p2_p3_0_, p4_\" style=\"background-color:#ffffff;color:#000000;\"> </td> <td class=\"z_0 r_1 p1_nummerierung, p2_p3_0_, p4_\"> </td> <td class=\"z_0 r_2 p1_gebrochengalaxie, p2_p3_0_2, p4_0,1,3,6\"> n/2 Galaxie </td> </tr>\n",
       "<tr style=\"background-color:#ffff66;color:#000099;\"> <td style=\"background-color:#ffffff;color:#000000;\"> 3 </td> <td> 14 </td> <td> Selbstlosigkeit (als Liebe oder ohne) (Wölfe, Hunde) (dein Selbst von anderen abhängig machen, anderen zu überlassen, geben) oder „friedfertige Gutmütigkeit und Positivität zu anderen“ (Kühe [Meta-Paradigma 7]), vielleicht etc. (das sind schon 3 Arten des Guten); Dazu bereit sein, Teil von Synergieeffekten zu werden </td> </tr>\n",
       "</table>\n"
      ],
      "text/plain": [
       "<IPython.core.display.HTML object>"
      ]
     },
     "execution_count": 20,
     "metadata": {},
     "output_type": "execute_result"
    }
   ],
   "source": [
    "HTML(teste(\"2/14-2/15\"))"
   ]
  },
  {
   "cell_type": "code",
   "execution_count": 6,
   "id": "a4a4114b",
   "metadata": {},
   "outputs": [
    {
     "data": {
      "text/html": [
       "0.2222222222222222\n",
       "<table border=0 id=\"bigtable\">\n",
       "<tr style=\"background-color:#ff2222;color:#002222;\"> <td class=\"z_0 r_0 p1_zaehlung, p2_p3_0_, p4_\" style=\"background-color:#ffffff;color:#000000;\"> </td> <td class=\"z_0 r_1 p1_nummerierung, p2_p3_0_, p4_\"> </td> <td class=\"z_0 r_2 p1_gebrochengalaxie, p2_p3_0_14, p4_0,1,3,6\"> 14/n Galaxie </td> </tr>\n",
       "<tr style=\"background-color:#66ff66;color:#000000;\"> <td style=\"background-color:#ffffff;color:#000000;\"> 1 </td> <td> 2 </td> <td> Selbstlosigkeit (als Liebe oder ohne) (Wölfe, Hunde) (dein Selbst von anderen abhängig machen, anderen zu überlassen, geben) oder „friedfertige Gutmütigkeit und Positivität zu anderen“ (Kühe [Meta-Paradigma 7]), vielleicht etc. (das sind schon 3 Arten des Guten); Dazu bereit sein, Teil von Synergieeffekten zu werden </td> </tr>\n",
       "<tr style=\"background-color:#9999ff;color:#202000;\"> <td style=\"background-color:#ffffff;color:#000000;\"> 1 </td> <td> 4 </td> <td> die positive Zugewandtheit einer Person gegenüber einer anderen (7/2); die Problemlösung, bzw. die Invariante (1 / 4) des Problemlösens (14/4) </td> </tr>\n",
       "<tr style=\"background-color:#ffff66;color:#000099;\"> <td style=\"background-color:#000000;color:#ffffff;\"> 2 </td> <td> 6 </td> <td> Alle Fälle, in denen Selbstlosigkeit benötigt und gebraucht wird, nicht nur Gemeinwohl oder Ehrenamt oder Feuerwehr (7*[1/3]) </td> </tr>\n",
       "<tr style=\"background-color:#9999ff;color:#202000;\"> <td style=\"background-color:#000000;color:#ffffff;\"> 2 </td> <td> 8 </td> <td> Güte oder zweckgerichtet gutmütig sein (7/4) </td> </tr>\n",
       "<tr style=\"background-color:#ffff66;color:#000099;\"> <td style=\"background-color:#ffffff;color:#000000;\"> 3 </td> <td> 10 </td> <td> großzügig sein (7/5) </td> </tr>\n",
       "<tr style=\"background-color:#ffff66;color:#000099;\"> <td style=\"background-color:#ffffff;color:#000000;\"> 3 </td> <td> 12 </td> <td> Geben (das bringt es auf den Punkt.); (wo ich noch am Denken war:) Anführen, wenn Menschen Vorteile daraus gewinnen, entweder mehr Führung und weniger Vorteile (= Bürokratie) oder mehr Vorteile und weniger Führung (= Liberalismus) (7/6); (herum-) Knobeln (=Probleme lösen, entweder mal sich einer Ordnung zu unterwefen oder pro sich zu sortieren) (14/12); jemanden (in z.B. Meinungsverschiedenheiten oder Konflikten) taktisch entgegenkommen und taktisch nachzugeben (21/18); </td> </tr>\n",
       "<tr style=\"background-color:#ffff66;color:#000099;\"> <td style=\"background-color:#ffffff;color:#000000;\"> 3 </td> <td> 14 </td> <td> die Methode des Wie; fachliche Spezialisierung (2/2), wählerisch sein (3/3) (halb bis größtenteils sicher); Das hier alles ist wahrscheinlich falsch: Erschaffen, zustande bringen (4/4); genügen (5/5); veranschlagen oder Effizienz und Effektivität (6/6); korrespondieren (7/7); Gerechtigkeit bestimmen (8/8); Zweckmäßigkeit (9/9); Tragweite bestimmen (10/10) </td> </tr>\n",
       "<tr style=\"background-color:#9999ff;color:#202000;\"> <td style=\"background-color:#ffffff;color:#000000;\"> 3 </td> <td> 16 </td> <td> unbefangen sein (d.h. selbstlos beurteilen) (7/8) </td> </tr>\n",
       "</table>\n",
       "<table border=0 id=\"bigtable\">\n",
       "<tr style=\"background-color:#ff2222;color:#002222;\"> <td class=\"z_0 r_0 p1_zaehlung, p2_p3_0_, p4_\" style=\"background-color:#ffffff;color:#000000;\"> </td> <td class=\"z_0 r_1 p1_nummerierung, p2_p3_0_, p4_\"> </td> <td class=\"z_0 r_2 p1_gebrochengalaxie, p2_p3_0_15, p4_0,1,3,6\"> 15/n Galaxie </td> </tr>\n",
       "<tr style=\"background-color:#ffff66;color:#000099;\"> <td style=\"background-color:#000000;color:#ffffff;\"> 2 </td> <td> 6 </td> <td> anerkennend annehmen wollen (5/2) (sicher); Verwirklichung und Vollbringung (10/4); intuitiv sein [15/(1/8)] </td> </tr>\n",
       "<tr style=\"background-color:#ffff66;color:#000099;\"> <td style=\"background-color:#ffffff;color:#000000;\"> 3 </td> <td> 10 </td> <td> Verwenden (3/2) (größtenteils sicher); griffbereit [3*(1/2)] (größtenteils sicher); investieren [6/(1/4)]; Investitionssumme bestimmen [9/(1/6)]; die Anordnung oder der Erlass [12/(1/8)] </td> </tr>\n",
       "<tr style=\"background-color:#ffff66;color:#000099;\"> <td style=\"background-color:#ffffff;color:#000000;\"> 3 </td> <td> 12 </td> <td> Anstellung erhalten wollen bzw. genauer, infrage gekommen sein (5/[1/4] und 5/4) (größtenteils sicher); eine Verordnung oder Rechtsnorm, verordnen wollen (10/8) </td> </tr>\n",
       "<tr style=\"background-color:#ffff66;color:#000099;\"> <td style=\"background-color:#000000;color:#ffffff;\"> 4 </td> <td> 18 </td> <td> jemanden oder etwas begehren (5/6) </td> </tr>\n",
       "</table>\n"
      ],
      "text/plain": [
       "<IPython.core.display.HTML object>"
      ]
     },
     "execution_count": 6,
     "metadata": {},
     "output_type": "execute_result"
    }
   ],
   "source": [
    "HTML(teste(\"v 2/14-2/15\"))"
   ]
  },
  {
   "cell_type": "code",
   "execution_count": 13,
   "id": "065d90c3",
   "metadata": {},
   "outputs": [
    {
     "data": {
      "text/html": [
       "<table border=0 id=\"bigtable\">\n",
       "<tr style=\"background-color:#ff2222;color:#002222;\"> <td class=\"z_0 r_0 p1_zaehlung, p2_p3_0_, p4_\" style=\"background-color:#ffffff;color:#000000;\"> </td> <td class=\"z_0 r_1 p1_nummerierung, p2_p3_0_, p4_\"> </td> <td class=\"z_0 r_2 p1_gebrochengalaxie, p2_p3_0_2, p4_0,1,3,6\"> n/2 Galaxie </td> </tr>\n",
       "<tr style=\"background-color:#009900;color:#ffffff;\"> <td style=\"background-color:#ffffff;color:#000000;\"> 1 </td> <td> 3 </td> <td> Verwenden (3/2) (größtenteils sicher); griffbereit [3*(1/2)] (größtenteils sicher); investieren [6/(1/4)]; Investitionssumme bestimmen [9/(1/6)]; die Anordnung oder der Erlass [12/(1/8)] </td> </tr>\n",
       "<tr style=\"background-color:#9999ff;color:#202000;\"> <td style=\"background-color:#ffffff;color:#000000;\"> 1 </td> <td> 4 </td> <td> „Können“ (bzw,. „Können wollen“ 2*1) (Allein die Fähigkeit besitzen wollen [1], sich fortpflanzen zu können [2] [1*2=2]) </td> </tr>\n",
       "<tr style=\"background-color:#009900;color:#ffffff;\"> <td style=\"background-color:#000000;color:#ffffff;\"> 2 </td> <td> 5 </td> <td> anerkennend annehmen wollen (5/2) (sicher); Verwirklichung und Vollbringung (10/4); intuitiv sein [15/(1/8)] </td> </tr>\n",
       "<tr style=\"background-color:#ffff66;color:#000099;\"> <td style=\"background-color:#000000;color:#ffffff;\"> 2 </td> <td> 6 </td> <td> ‚Nutzen‘ (altes Testament und Mensch); wahrscheinlich: „ ‚Beißen‘ als zentrales Konzept; ‚Mimese‘ und ‚Mimikry‘ (3 mit wahrscheinlich auch 2)“; Rüssel eines Elefanten und Tentakel nutzen als weitere Formen </td> </tr>\n",
       "<tr style=\"background-color:#ffff66;color:#000099;\"> <td style=\"background-color:#ffffff;color:#000000;\"> 3 </td> <td> 10 </td> <td> „Selbstsucht“ (nicht Egoismus) oder auch (nur!) „infrage kommen“ oder „Ich-bezogenheit“ </td> </tr>\n",
       "<tr style=\"background-color:#ffff66;color:#000099;\"> <td style=\"background-color:#ffffff;color:#000000;\"> 3 </td> <td> 12 </td> <td> „Vorteil“ (oder auch „Einfluss“ oder „Gewaltverfügung“ wie ein Richter) oder „nur „kein Nachteil“, statt Egoismus </td> </tr>\n",
       "<tr style=\"background-color:#ffff66;color:#000099;\"> <td style=\"background-color:#000000;color:#ffffff;\"> 4 </td> <td> 18 </td> <td> „Zweck“ oder auch „sich vereinen wollen“ </td> </tr>\n",
       "<tr style=\"background-color:#ffff66;color:#000099;\"> <td style=\"background-color:#000000;color:#ffffff;\"> 4 </td> <td> 20 </td> <td> Bedeutung [Verstand, verstehen (-10 durch 8 typisiert) (Mensch); Vernunft, rationalisieren (+10 durch 12 typisiert) (Mensch); Erkenntnis gewinnen wollen (10 durch 10 typisiert) Religion 10, Wille vieler Philosophen, Greifvogel wie Adler; Pferd (10 durch 7 typisiert)] </td> </tr>\n",
       "<tr style=\"background-color:#ffff66;color:#000099;\"> <td style=\"background-color:#000000;color:#ffffff;\"> 4 </td> <td> 24 </td> <td> (sich) sortieren; Sachlichkeit und Ordnung herrichten wollen; die abstrakten Eigenschaften von Individuen verinnerlichen wollen; den Wesenskern herauskristalisieren wollen </td> </tr>\n",
       "<tr style=\"background-color:#ffff66;color:#000099;\"> <td style=\"background-color:#000000;color:#ffffff;\"> 6 </td> <td> 30 </td> <td> Selbstrespekt (Ich-Vollheit), nachhaltigen Nutzen generieren wollen (,aber erst mit Typ 30 können), Weltverständnis durch mentales Wiederholen von Dingen. Der Grundgedanke ist die gegenseitige Geltung (5). </td> </tr>\n",
       "<tr style=\"background-color:#9999ff;color:#202000;\"> <td style=\"background-color:#ffffff;color:#000000;\"> 7 </td> <td> 36 </td> <td> Zuneigung (sich zu anderen Menschen „relaten“ zu können), jemanden mögen wollen </td> </tr>\n",
       "<tr style=\"background-color:#ffff66;color:#000099;\"> <td style=\"background-color:#000000;color:#ffffff;\"> 8 </td> <td> 40 </td> <td> (klar auf den Punkt gebracht) Familienliebe oder Familienrespekt oder beides und mehr, nicht zu Einzelpersonen (ich bin mir sicher) </td> </tr>\n",
       "<tr style=\"background-color:#ffff66;color:#000099;\"> <td style=\"background-color:#000000;color:#ffffff;\"> 8 </td> <td> 42 </td> <td> (klar auf den Punkt gebracht) Über-ich-losigkeit, Leidenschaft zu einer Aufgabe, Beruf, Hobby, zu Fortpflanzung, sein Überich durch andere Menschen definieren zu lassen (100% sicher); (größere Gefahr beraubt zu werden, als wäre man ein Egoist, da sich Egoisten aus Egoismus mehr absichern) Vermutlich ist der Grundgedanke die gegenseitige Selbstlosigkeit. </td> </tr>\n",
       "<tr style=\"background-color:#ffff66;color:#000099;\"> <td style=\"background-color:#000000;color:#ffffff;\"> 8 </td> <td> 48 </td> <td> (klar auf den Punkt gebracht) „ein Netzwerker sein wollen“. Gegenseitiger Wille sich richtig zueinander anzuordnen; Durch Netzwerke aus Menschen abstrakte Eigenschaften von Konkretem und von Fähigkeiten verinnerlichen wollen (sicher) </td> </tr>\n",
       "<tr style=\"background-color:#ffff66;color:#000099;\"> <td style=\"background-color:#ffffff;color:#000000;\"> 9 </td> <td> 50 </td> <td> (klar auf den Punkt gebracht) „gesellschaftskonform sein wollen“ dazu gehören wollen, mit dem Strom schwimmen wollen;Freundeskreiszugehörigkeit, statt Freundschaft (nicht Geschwisterliebe, laut anderer [ggf. mühevolleren] Thomas-Evangelium-Übersetzung) (hier bin ich mir sehr sicher) </td> </tr>\n",
       "<tr style=\"background-color:#ffff66;color:#000099;\"> <td style=\"background-color:#ffffff;color:#000000;\"> 9 </td> <td> 54 </td> <td> (klar auf den Punkt gebracht) „Urlaub machen wollen“. Konfliktunfähigkeit als taktischer geordneter Rückzug, Auflösung von Deadlocks und Livelocks in Bidirektionalität (das stimmt sehr wahrscheinlich) </td> </tr>\n",
       "<tr style=\"background-color:#ffff66;color:#000099;\"> <td style=\"background-color:#ffffff;color:#000000;\"> 9 </td> <td> 60 </td> <td> (klar auf den Punkt gebracht) etwas großartiges zustande-bringen wollen, wie ein Genie oder Gott oder Prophet (größtenteils sicher bis sicher) Deine bewusste Energie auf etwas bringen. </td> </tr>\n",
       "<tr style=\"background-color:#ffff66;color:#000099;\"> <td style=\"background-color:#000000;color:#ffffff;\"> 10 </td> <td> 66 </td> <td> (klar auf den Punkt gebracht) „automatisieren wollen“ Der Grundgedanke ist der gegenseitige Nutzen. Freier Austausch von Technik-Wissen. Den Nutzen alles Fremden annehmen und ausprobieren wollen, bzw. alles Fremdardtige ausprobieren wollen, das maximal andersartig ist, aber nicht direkt dann letztlich unbedingt benutzen, sondern beim Ausprobieren bleiben; gemeinsam mit allen Lebewesen zusammen leuchten wollen, was ein maximales Gesamtlicht ergibt. (sicher) </td> </tr>\n",
       "<tr style=\"background-color:#ffff66;color:#000099;\"> <td style=\"background-color:#000000;color:#ffffff;\"> 10 </td> <td> 70 </td> <td> (klar auf den Punkt gebracht) philanthropisch tätig sein wollen (ggf. nicht nur auf Menschen beschränkt, sondern pro ggf. weiteren Lebewesen). Für dich gilt, was für andere gilt (größtenteils sicher) und deshalb etwa Robin Hood spielen (d.h. von Reich nach Arm umverteilen) </td> </tr>\n",
       "<tr style=\"background-color:#ffff66;color:#000099;\"> <td style=\"background-color:#000000;color:#ffffff;\"> 10 </td> <td> 72 </td> <td> (klar auf den Punkt gebracht) Von Almosen und Spenden leben wollen, ggf. Entsagung, Askese: Nachteil-Suchender; Die vorhandene wesentliche Gesellschaftsordnung nutzen. Den Gesellschaftsnutzen ordnen. (sicher) (sehr gutes Beispiel :die ganzen Spendenorganisationen, welche Spenden empfangen) </td> </tr>\n",
       "<tr style=\"background-color:#ffff66;color:#000099;\"> <td style=\"background-color:#000000;color:#ffffff;\"> 10 </td> <td> 78 </td> <td> (klar auf den Punkt gebracht) „Maßnahmen unternehmen wollen“, u.a. zur Hilfe (13) des Überlebens (3) (3*13) (wie die extremen baulichen Maßnahmen in Japan gegen Umweltkatastrophen). Der Grundgedanke ist die gegenseitige Hilfe. Hilfsmittel verwenden (größtenteils sicher); Jemanden helfen (13), zu greifen oder zu benutzen (3) (3*19=39), gemeinsam sich beim Greifen oder Benutzen helfen. Es ist wie bei Fortpflanzung ohne Liebe, jedoch basierend auf Liebe vom Typ 39. dabei: Tarnung und Isolation verwenden und strebsam Informationen für das Gedeihen verbergen (und zu wollen, dass alle das auch so wollen) (sicher); Die Denkansätze (13) des Greifens (3) und Benutzens (3) verinnerlichen wollen, was zur Hilfe (13) zum Benutzen (3) anderer nützt (sicher) </td> </tr>\n",
       "<tr style=\"background-color:#ffff66;color:#000099;\"> <td style=\"background-color:#000000;color:#ffffff;\"> 10 </td> <td> 80 </td> <td> (klar auf den Punkt gebracht) „(eine) Garantie wollen“ (kausales [5] Recht [8]), „Prävention vor Gefahren“, Naturrecht (5*8) „sich in Acht nehmen“ (2*20 und 4*10). (Dafür sogen, dass seine eigene Familie so aufwächst, dass sogar entfernte Verwandte in der Nähe aufwachsen oder aber voneinander weit entfernt werden, so dass große Familienclans und Sippen und kleine Familien gebildet werden können; zu wollen, dass das so für alle auf der Erde oder dem Mond gelten soll. Es gibt sehr enge Familienstrukturen. Familienmitglieder, die sich absondern, sollen sich besonders entwurzeln. Das könnte bedeuten, dass sie die Nationalität ändern müssen. Etc. Dies schafft nicht einfach betrachtet bessere Bedingungen für Familien, sondern vorrangig geht es darum, dass die besseren Rahmenbedingungen geschaffen werden sollen, dass die Familienliebe bestens gestaltet ist, nicht einfach dass die Familie besser Familie sein kann. (sicher). </td> </tr>\n",
       "<tr style=\"background-color:#ffff66;color:#000099;\"> <td style=\"background-color:#ffffff;color:#000000;\"> 11 </td> <td> 84 </td> <td> (klar auf den Punkt gebracht) die intrinsische „Widmung“ als grundlegendes Motiv. Für Widmung gilt ansonsten: Intrinsisch einen hoch qualitativen Lebenspartner wollen (wie Milliardäre), wodurch man ggf. etwas aufbauen kann. (ich bin mir sicher) Die 42 ist wie ein Anführer die Richtung basierend auf Werten bestimmen und ob diese wertvoll genug sind, basierend auf ihrer Richtungsbestimmung. Das, was für dich wertvoll ist, definiert sich daraus, was für andere wertvoll ist. (=Wertüberzeugungs-Losigkeit) (ich bin mir sicher) Die Widmung (42) ist die konkret (2) gewordene Hingabe (21) (2*21=42). Hier vereinen sich grundsätzliche Gedanken des Christentums und Judentums. </td> </tr>\n",
       "<tr style=\"background-color:#ffff66;color:#000099;\"> <td style=\"background-color:#ffffff;color:#000000;\"> 11 </td> <td> 90 </td> <td> (klar auf den Punkt gebracht) befruchten wollen (sehr viel allgemeiner als nur allein bezüglich Fortpflanzung) (sicher); gegen Störer der Einheit des selben Himmelskörpers vorgehen, gegen niederträchtige verbitterte Personen und Familien (sicher). Dieser Typ 45 ist sozusagen ein positiv gesinnter Mensch (aber 13*n ist das Positive eigentlich und das hier eigentlich daher nicht.), der die Einheit des Himmelskörpers durchsetzen will. Das bedeutet Typ 46 und 44 sind wahrscheinlich negativer (genauer: unfruchtbarer) in ihrer Lebenssicht. </td> </tr>\n",
       "<tr style=\"background-color:#ffff66;color:#000099;\"> <td style=\"background-color:#ffffff;color:#000000;\"> 11 </td> <td> 96 </td> <td> (klar auf den Punkt gebracht) intrinsisch etwas oder jemanden assimilieren wollen (halb sicher bis größtenteils sicher), ggf. erzwungen: auf die Art, dass man sich mit allen oder vielen wirklich vernetzen kann, d.h. mehr oder weniger lückenlos. Man kann auf diese Art (beidseitig?) Informationen aus dem (jeweils?) anderen sozusagen heraus quetschen, wenn man das wollen würde. Damit: Abstrakte Eigenschaften von Veränderung aneignen wollen. (größtenteils sicher bis sicher) </td> </tr>\n",
       "<tr style=\"background-color:#9999ff;color:#202000;\"> <td style=\"background-color:#ffffff;color:#000000;\"> 11 </td> <td> 100 </td> <td> (klar auf den Punkt gebracht) Etwas erwirken oder verwirklichen wollen (Wirklichkeit erwirken): In die Wirklichkeit eingreifen wollen und in den Freundeskreis eingreifen wollen (z.B. Konfliktmanagement), so dass es förderlich für den Freundeskreis ist. „etwas auf die Beine stellen“ (z.B. Party für Freundeskreis) (größtenteils sicher), Vergewisserung (sicher): Um sich Hoffnung sicher zu sein, Gewissheit anstreben, aber eigentlich Hoffnung wollen (sehr sicher) Es geht um solche Dinge, wie Spielarten des Sinns des Lebens. </td> </tr>\n",
       "<tr style=\"background-color:#ffff66;color:#000099;\"> <td style=\"background-color:#000000;color:#ffffff;\"> 12 </td> <td> 102 </td> <td> (klar auf den Punkt gebracht) Sich fern halten wollen von allen Dingen, die ungewiss schlecht sind. Bangen, sich sorgen, angewidert sein – eine Erkenntnisform, durch die man Anlässe (zu Sorge und Ekels, zum Wandel der Zeit, der Zeitepochen und anderem) geistig sehen kann und vermitteln kann; Anlässe sind dadurch nicht nur als Vorwand zu sehen, sondern diese höhere Erkenntnisform ermöglicht das Wissen darum, so dass nichts mehr bloß ein Vorwand ist. Die meisten Vorwände sind damit also als Anlässe durchschaubar. (größtenteil sicher); Emotional meist verbunden mit dem Gefühl angewidert zu sein. Angewidert sein (51:=17*3) ist hier also eine Steigerung von Abneigung (17*1). D.h. dass bei 17*n bei jeweils höherem n eine Steigerung von dem Gefühl der Abneigung kommt. (größtenteils sicher) (Der Grundgedanke ist die gegenseitige Bestimmung der Meinung und Position. ) </td> </tr>\n",
       "<tr style=\"background-color:#ffff66;color:#000099;\"> <td style=\"background-color:#000000;color:#ffffff;\"> 12 </td> <td> 108 </td> <td> (klar auf den Punkt gebracht) Für einen gemeinsamen Geist sorgen wollen, durch den wir uns mehr verbinden wollen und der uns so bereichert, dass wir uns vereint zurück-lehnen können (größtenteils sicher bis sicher) </td> </tr>\n",
       "<tr style=\"background-color:#ffff66;color:#000099;\"> <td style=\"background-color:#000000;color:#ffffff;\"> 12 </td> <td> 110 </td> <td> (klar auf den Punkt gebracht) (z.B. surreal) Wirkungen verfremden oder Verhalten (11) kausal (5) umlenken. Alles was fremd und anders ist, gilt mehr als das gewohnte. Das reicht so weit, dass je näher, verwandter und bekannter Lebewesen sind, desto mehr Hass oder Abneigung ist vorhanden. (größtenteils sicher bis sicher) Das ist der Menschentyp, der autonome sogenannte große künstliche Intelligenz verwaltet. (größtenteils sicher) </td> </tr>\n",
       "<tr style=\"background-color:#ffff66;color:#000099;\"> <td style=\"background-color:#000000;color:#ffffff;\"> 12 </td> <td> 114 </td> <td> (klar auf den Punkt gebracht) „Menschen oder Lebewesen einen sehr gewaltigen Vortritt, vor allen anderen Menschen oder Lebewesen, gewähren, die für aller unsere Ziele nützlich sind“, bishin dass deren Fortpflanzung sehr besonders wichtiger ist, als die von sehr vielen anderen. (Vermutlich ist der Grundgedanke, den gegenseitigen Nutzen von Motivation zu erhalten.) (sicher) Andere zu ihrer Nützlichkeit und Existenz motivieren, durch: Womöglich für die langfristige Existenz (3) ausgewählter Menschen sorgen (die, die sich nützlich [3] machen, wie Nutzpflanzen) bzw. ganzer langfristiger Familienstammbäume, was dazu führt oder führen kann, dass andere nicht weiter existieren sollen, die unnütze, wie Unkraut sind. (halb sicher bis sicher) </td> </tr>\n",
       "<tr style=\"background-color:#ffff66;color:#000099;\"> <td style=\"background-color:#000000;color:#ffffff;\"> 12 </td> <td> 120 </td> <td> (klar auf den Punkt gebracht) „etwas beleuchten wollen“ Die mentalen geistigen Abgründe anderer sehen und diese damit zu bezwingen und damit eine Ordnung (12) kausal (5) zu erwirken (5) und sich damit Erhabenheit (15*n) oder Selbstrespekt (15*n) erschaffen (4) (größtenteils sicher); Sich Abstraktes und Eigenschaften von allem Elementarem aneignen und sich mit Universaltität beschäftigen. (sicher) </td> </tr>\n",
       "<tr style=\"background-color:#ffff66;color:#000099;\"> <td style=\"background-color:#000000;color:#ffffff;\"> 14 </td> <td> 126 </td> <td> (klar auf den Punkt gebracht) „Hingebung“ (zu allem erdenklichen: Folgen einer Leidenschaft, zu einer Aufgabe, zu Personen) (Steigerung von Leidenschaft). Den guten Zweck als oberstes Ziel (für Unternehmensgründung, Hobbies, etc.) (größtenteils sicher) </td> </tr>\n",
       "<tr style=\"background-color:#ffff66;color:#000099;\"> <td style=\"background-color:#ffffff;color:#000000;\"> 15 </td> <td> 130 </td> <td> (klar auf den Punkt gebracht) „Gründe für Absichten in anderen erschaffen“ „sich für andere einsetzen“ , d.h. „Den Bedürftigen (von Hilfe) zu Geltung verhelfen“. (sehr sicher) (naja, daher-geredet: Bei diesem Prozess ist man der Gefahr ausgesetzt, die bei diesem Punkt im Thomasevanglium beschrieben wird, so wie man bei Typ 21 der Gefahr ausgesetzt ist, die Thomas 21 beschreibt. 21 und 65 sind Vielfacher von Pro-Außenprimzahlen und Thomas 21 und 65 hat Ähnlichkeiten. (sicher); Dabei will man das: Die Denkansätze (13) der Kausalverursachung (5) und des Elementaren (5) verinnerlichen wollen (sicher). Der Weinberg mit seinen Umständen symbolisiert einen Zusammenhang aus der Fortpflanzung. (sicher) </td> </tr>\n",
       "<tr style=\"background-color:#ffff66;color:#000099;\"> <td style=\"background-color:#ffffff;color:#000000;\"> 15 </td> <td> 132 </td> <td> (klar auf den Punkt gebracht) „Das Exotische wollen“ (Luxus in der Fremde), „verfremden“. In fremden Lebewesen oder Dingen einen Wert erkennen wollen, diesen Annehmen und gedanklich für sich ausprobieren wollen (größtenteils sicher) </td> </tr>\n",
       "<tr style=\"background-color:#ffff66;color:#000099;\"> <td style=\"background-color:#ffffff;color:#000000;\"> 15 </td> <td> 138 </td> <td> (klar auf den Punkt gebracht) „In die Welt eingreifen, um Vertraulichkeit sicherzustellen“ (Der Grundgedanke ist bei sich gegenseitig sozusagen hineinzuschauen.) Andere Menschen emotional hart prüfen und testen (lassen) wollen, ob sie deiner Zuwendung würdig sind. Das geht so weit, dass man diese sehr bekämpft, ggf. feindselig zu dir macht, um zu sehen, ob sie dabei dennoch dir zugewandt sind und dir dennoch treu ergeben bleiben. Die von dieser Prüfung betroffenen bestehen die Prüfung viel eher, wenn sie von dieser Art der Fortpflanzung sehr bedürftig und abhängig sind. Die emotional Bedürftigen gewinnen hier also. (größtenteils sicher) </td> </tr>\n",
       "<tr style=\"background-color:#ffff66;color:#000099;\"> <td style=\"background-color:#ffffff;color:#000000;\"> 15 </td> <td> 140 </td> <td> (klar auf den Punkt gebracht) Probleme der Welt an der Wurzel anpacken wollen, statt mit Philanthropie an den Symptomen zu arbeiten. (für dich ist wirklich und wahr, was für andere wirklich und wahr ist) (Problemlösungen erwirken wollen) (bereit sein, sich vollkommen aufzuopfern für das richtige) (größtenteils sicher) </td> </tr>\n",
       "<tr style=\"background-color:#9999ff;color:#202000;\"> <td style=\"background-color:#ffffff;color:#000000;\"> 15 </td> <td> 144 </td> <td> (fast klar auf den Punkt gebracht) Lebewesen verkuppeln, Zuneigung herstellen. Das wird genutzt als Hebelwirkung zum Vernetzen. Diese Vernetzung durch Herstellung von Zuneigung durch Verkuppeln führt zur Rahmenbedingung, Almosen erhalten zu können. (Durch andere Lebewesen und ihre Wechselwirkungen zu dir oder zueinander: 1. „abstrakte Eigenschaften von allem wertvollem und den Wert aller abstrakten Eigenschaften“ verinnerlichen wollen, ergründen wollen (sicher) 2. Diese Wechselwirkungen nutzen zum vernetzen. 3. Diese Wechselwirkungen durchführen zum Erschaffen von Zuneigung. 4. Durch dieses Wechselspiel sich im Zustand der Einheit befinden. 4. Durch dieses Wechselspiel die Rahmenbedingungen haben, ein Leben aus Entsagen leben zu können, sofern man das überhaupt wollen würde. 5. Durch dieses Wechselspiel im Vorteil einer Ordnung sein.) (sehr sicher) </td> </tr>\n",
       "<tr style=\"background-color:#ffff66;color:#000099;\"> <td style=\"background-color:#000000;color:#ffffff;\"> 16 </td> <td> 150 </td> <td> (klar auf den Punkt gebracht) Monogamie nutzen, um in der Gesellschaft akzeptiert zu sein (größtenteils sicher) </td> </tr>\n",
       "<tr style=\"background-color:#ffff66;color:#000099;\"> <td style=\"background-color:#000000;color:#ffffff;\"> 16 </td> <td> 156 </td> <td> (klar auf den Punkt gebracht) „Gegenseitige Förderung als Absicht“ - Dem Egoismus (6) anderer helfen (13), diese mental nachzuvollziehen. „Hart im Nehmen“ (=mit Gewalt umgehen können) sein wollen. (halb sicher bis sicher) Dadurch: Den Denkansatz von Vorteilerzielungsabsichten verinnerlichen wollen, von Überlebensfähigkeiten verinnerlichen können, was für Bidirektionalität (Kooperation) genutzt wird. (sicher) </td> </tr>\n",
       "<tr style=\"background-color:#ffff66;color:#000099;\"> <td style=\"background-color:#000000;color:#ffffff;\"> 16 </td> <td> 160 </td> <td> (klar auf den Punkt gebracht) „Wirklichkeitsebenen meistern wollen.“ (Beispiele Sinne, Gesellschaft, Matrix, Gefühle, Fachgebiet, Familie) Den Teil der Kausalität und Wirklichkeit und des Seins so zu durchschauen, dass man erkennen kann, für was Garantien vorherschen können, wodurch man ein Hilfreicher (13) Nutzen (3) für den Planeten sein kann (2) (13*3*2+2=80), besser als viele andere. Ggf. Deeskalieren. (größteneils sicher) </td> </tr>\n",
       "<tr style=\"background-color:#ffff66;color:#000099;\"> <td style=\"background-color:#000000;color:#ffffff;\"> 16 </td> <td> 162 </td> <td> (klar auf den Punkt gebracht) Eskalieren (z.B. zu körperlicher Nähe), Zuspitzung von (u.a. und nicht nur) Problemen zulassen oder verstärken (damit ein anderer sie endlich löst) (sicher) </td> </tr>\n",
       "<tr style=\"background-color:#ffff66;color:#000099;\"> <td style=\"background-color:#000000;color:#ffffff;\"> 16 </td> <td> 168 </td> <td> (klar auf den Punkt gebracht) „Leitbilder für alle vorgeben wollen“ (sicher) - Etwas zustande bringen wollen, dass ersichtlich gemacht wird, welche gutwilligen Eigenschaften eine Person besitzt, in welche abstrakte Richtung eine Person geht, indem sie sich nicht offenbaren können, sondern sie offenbart bzw. „gelesen“ werden (halb sicher bis sicher) </td> </tr>\n",
       "<tr style=\"background-color:#ffff66;color:#000099;\"> <td style=\"background-color:#ffffff;color:#000000;\"> 17 </td> <td> 170 </td> <td> (klar auf den Punkt gebracht) „Gesinnungen (mentale grundsätzliche Haltungen) bei sich und anderen erwirken wollen“ (aufgrund etwas drastischeres als Abneigung und zwar andere Menschen als traumatisch, dich traumatisierend zu erleben) (größtenteils sicher) Die Kausalitätsabfolgen von Menschen und anderen Spezies mit ihren Unwägbarkeiten (= das Unbekannte dabei) bewirken wollen) und in diese agierend, statt reagiernd, eingreifen wollen. (größtenteils sicher) </td> </tr>\n",
       "<tr style=\"background-color:#ffff66;color:#000099;\"> <td style=\"background-color:#ffffff;color:#000000;\"> 17 </td> <td> 174 </td> <td> (klar auf den Punkt gebracht) „ausbeuten und ausschöpfen von geistigem Gedankengut“ (in der Galaxie um schwarze Löcher) - Abkehr von körperlicher Liebe und Abkehr von anderen, die sich körperlich lieben und dies zu verdammen (wenn andere sich körperlich lieben), insofern: sich vom Materiellen lösen wollen, das dem Geistigen im Weg steht und von Personen, die dich am Materiellen halten lassen, wo du zu dem höheren Geistigen willst (größtenteils sicher) </td> </tr>\n",
       "<tr style=\"background-color:#ffff66;color:#000099;\"> <td style=\"background-color:#ffffff;color:#000000;\"> 17 </td> <td> 180 </td> <td> (klar auf den Punkt gebracht) „Bindung als Verkettung, Kopplung und Verhakung, wie mit Widerhaken, als kausale Ursache für Verbundenheit erwirken“, „Gründe für Verbundenheiten in anderen erwirken“ (größtenteils sicher) Das hat zur Folge: Durch Traversierung (15) Vorteile (6) bewirken, so dass Zuneigung (18) gilt (5) und so dass Störer und Streitsüchtige der Einheit ruhig gestellt werden können. Dafür sorgen, dass andere sich selbst akzeptieren. All dies ist nützlich für die Gemeinschaft der Götter unter sich. (größtenteils sicher) </td> </tr>\n",
       "<tr style=\"background-color:#ffff66;color:#000099;\"> <td style=\"background-color:#ffffff;color:#000000;\"> 17 </td> <td> 186 </td> <td> (klar auf den Punkt gebracht) „sehr gegen Borniertheit und Grobschlächtigkeit insofern vorgehen wollen, dass Fingerspitzengefühl und Feingefühl gewährleistet werden kann.“ (größtenteils sicher) Genauer aus dem Thomasevangelium: Um Menschen die emotional-sensorische Erfahrung mit dessen emotionaler Informationsaufnahme maximal zu verbessern: dafür zu sorgen (es zu nutzen [3]), zu befehlen, dass Unschuldige und Schwangere von schadhaften Einflüssen, wie Hass gegen Naivität (Hunde) oder sexuelles Cuckolding zum Schaden von Schwangeren und deren Männer (Schweine), fern gehalten werden sollen! (größtenteils sicher) </td> </tr>\n",
       "<tr style=\"background-color:#ffff66;color:#000099;\"> <td style=\"background-color:#ffffff;color:#000000;\"> 17 </td> <td> 190 </td> <td> (klar auf den Punkt gebracht) „Gründe für Ziele in anderen erschaffen“ „den Entmutigten, d.h. Demotivierten, zu Geltung und Ganzheit anspornen, dass deren Entmutigung und Demotivierung vollständig nicht mehr vorhanden ist. Deren Motivierung Aufpeppeln.“ (größtenteils sicher) - Jemanden besonders glänzen lassen wollen und hervortreten lassen wollen, zu einem Star, (oder anderen Typ 5 [Geltung]) machen wollen; in die (glamoureuse) Karriere einer Einzelperson investieren, wie Lotto, nur besser (größtenteils sicher) </td> </tr>\n",
       "<tr style=\"background-color:#ffff66;color:#000099;\"> <td style=\"background-color:#ffffff;color:#000000;\"> 17 </td> <td> 192 </td> <td> (klar auf den Punkt gebracht) „Selektieren, wer zu deiner Ingroup und wer zu deiner Outgroup gehört, und die Hierarchie organisieren und deine Ingroup gestalten“ (größtenteils sicher); Abstrakte Eigenschaften der Zustände verinnerlichen wollen und die der Veränderung verinnerlichen können und die Zustände der abstrakten Eigenschaften verinnerlichen wollen und die des Wertes verinnlichen können. Das hat die Funktion seinen Wert zu steigern. Das verändert oder erschafft das Netzwerk aus Menschen um dich herum, nutzt deiner Selbstherrlichkeit und gibt dir die Fähigkeit andere zu assimilieren. (größtenteils sicher) </td> </tr>\n",
       "<tr style=\"background-color:#ffff66;color:#000099;\"> <td style=\"background-color:#000000;color:#ffffff;\"> 18 </td> <td> 198 </td> <td> (klar auf den Punkt gebracht) „alle Andersartigen vereinen wollen“ (größtenteils sicher) Die Einheit der nicht normalen Lebewesen, der besonders andersartigen, z.B. die der Außenseiter. In allen möglichst fremden Lebensformen das gedanklich annehmen ausprobieren wollen, das zur einer Einheit führen würde (sicher); andere einbeziehen wollen, gesellschaftlich vermitteln wollen, aber dabei ggf. gegen seine eigenen Leute zu sein. Es ist wie die Einheit der besonders Andersartigen und Ausgestoßenen. (größtenteils sicher) </td> </tr>\n",
       "<tr style=\"background-color:#ffff66;color:#000099;\"> <td style=\"background-color:#000000;color:#ffffff;\"> 18 </td> <td> 200 </td> <td> (klar auf den Punkt gebracht) Unterordnung, Elternhörigkeit, Liebe zu Eltern (größtenteils sicher bis sehr sicher) </td> </tr>\n",
       "</table>\n"
      ],
      "text/plain": [
       "<IPython.core.display.HTML object>"
      ]
     },
     "execution_count": 13,
     "metadata": {},
     "output_type": "execute_result"
    }
   ],
   "source": [
    "# funktioniert falsch\n",
    "HTML(teste(\"a 2/3-2/4,v2/5-2/6\"))"
   ]
  },
  {
   "cell_type": "code",
   "execution_count": 14,
   "id": "038755cd",
   "metadata": {},
   "outputs": [
    {
     "data": {
      "text/html": [
       "<table border=0 id=\"bigtable\">\n",
       "<tr style=\"background-color:#ff2222;color:#002222;\"> <td class=\"z_0 r_0 p1_zaehlung, p2_p3_0_, p4_\" style=\"background-color:#ffffff;color:#000000;\"> </td> <td class=\"z_0 r_1 p1_nummerierung, p2_p3_0_, p4_\"> </td> <td class=\"z_0 r_2 p1_gebrochengalaxie, p2_p3_0_2, p4_0,1,3,6\"> n/2 Galaxie </td> </tr>\n",
       "<tr style=\"background-color:#009900;color:#ffffff;\"> <td style=\"background-color:#ffffff;color:#000000;\"> 1 </td> <td> 3 </td> <td> Verwenden (3/2) (größtenteils sicher); griffbereit [3*(1/2)] (größtenteils sicher); investieren [6/(1/4)]; Investitionssumme bestimmen [9/(1/6)]; die Anordnung oder der Erlass [12/(1/8)] </td> </tr>\n",
       "<tr style=\"background-color:#9999ff;color:#202000;\"> <td style=\"background-color:#ffffff;color:#000000;\"> 1 </td> <td> 4 </td> <td> „Können“ (bzw,. „Können wollen“ 2*1) (Allein die Fähigkeit besitzen wollen [1], sich fortpflanzen zu können [2] [1*2=2]) </td> </tr>\n",
       "<tr style=\"background-color:#009900;color:#ffffff;\"> <td style=\"background-color:#000000;color:#ffffff;\"> 2 </td> <td> 5 </td> <td> anerkennend annehmen wollen (5/2) (sicher); Verwirklichung und Vollbringung (10/4); intuitiv sein [15/(1/8)] </td> </tr>\n",
       "<tr style=\"background-color:#ffff66;color:#000099;\"> <td style=\"background-color:#000000;color:#ffffff;\"> 2 </td> <td> 6 </td> <td> ‚Nutzen‘ (altes Testament und Mensch); wahrscheinlich: „ ‚Beißen‘ als zentrales Konzept; ‚Mimese‘ und ‚Mimikry‘ (3 mit wahrscheinlich auch 2)“; Rüssel eines Elefanten und Tentakel nutzen als weitere Formen </td> </tr>\n",
       "<tr style=\"background-color:#ffff66;color:#000099;\"> <td style=\"background-color:#000000;color:#ffffff;\"> 4 </td> <td> 18 </td> <td> „Zweck“ oder auch „sich vereinen wollen“ </td> </tr>\n",
       "<tr style=\"background-color:#ffff66;color:#000099;\"> <td style=\"background-color:#000000;color:#ffffff;\"> 8 </td> <td> 42 </td> <td> (klar auf den Punkt gebracht) Über-ich-losigkeit, Leidenschaft zu einer Aufgabe, Beruf, Hobby, zu Fortpflanzung, sein Überich durch andere Menschen definieren zu lassen (100% sicher); (größere Gefahr beraubt zu werden, als wäre man ein Egoist, da sich Egoisten aus Egoismus mehr absichern) Vermutlich ist der Grundgedanke die gegenseitige Selbstlosigkeit. </td> </tr>\n",
       "<tr style=\"background-color:#ffff66;color:#000099;\"> <td style=\"background-color:#ffffff;color:#000000;\"> 9 </td> <td> 54 </td> <td> (klar auf den Punkt gebracht) „Urlaub machen wollen“. Konfliktunfähigkeit als taktischer geordneter Rückzug, Auflösung von Deadlocks und Livelocks in Bidirektionalität (das stimmt sehr wahrscheinlich) </td> </tr>\n",
       "<tr style=\"background-color:#ffff66;color:#000099;\"> <td style=\"background-color:#000000;color:#ffffff;\"> 10 </td> <td> 78 </td> <td> (klar auf den Punkt gebracht) „Maßnahmen unternehmen wollen“, u.a. zur Hilfe (13) des Überlebens (3) (3*13) (wie die extremen baulichen Maßnahmen in Japan gegen Umweltkatastrophen). Der Grundgedanke ist die gegenseitige Hilfe. Hilfsmittel verwenden (größtenteils sicher); Jemanden helfen (13), zu greifen oder zu benutzen (3) (3*19=39), gemeinsam sich beim Greifen oder Benutzen helfen. Es ist wie bei Fortpflanzung ohne Liebe, jedoch basierend auf Liebe vom Typ 39. dabei: Tarnung und Isolation verwenden und strebsam Informationen für das Gedeihen verbergen (und zu wollen, dass alle das auch so wollen) (sicher); Die Denkansätze (13) des Greifens (3) und Benutzens (3) verinnerlichen wollen, was zur Hilfe (13) zum Benutzen (3) anderer nützt (sicher) </td> </tr>\n",
       "<tr style=\"background-color:#ffff66;color:#000099;\"> <td style=\"background-color:#000000;color:#ffffff;\"> 12 </td> <td> 102 </td> <td> (klar auf den Punkt gebracht) Sich fern halten wollen von allen Dingen, die ungewiss schlecht sind. Bangen, sich sorgen, angewidert sein – eine Erkenntnisform, durch die man Anlässe (zu Sorge und Ekels, zum Wandel der Zeit, der Zeitepochen und anderem) geistig sehen kann und vermitteln kann; Anlässe sind dadurch nicht nur als Vorwand zu sehen, sondern diese höhere Erkenntnisform ermöglicht das Wissen darum, so dass nichts mehr bloß ein Vorwand ist. Die meisten Vorwände sind damit also als Anlässe durchschaubar. (größtenteil sicher); Emotional meist verbunden mit dem Gefühl angewidert zu sein. Angewidert sein (51:=17*3) ist hier also eine Steigerung von Abneigung (17*1). D.h. dass bei 17*n bei jeweils höherem n eine Steigerung von dem Gefühl der Abneigung kommt. (größtenteils sicher) (Der Grundgedanke ist die gegenseitige Bestimmung der Meinung und Position. ) </td> </tr>\n",
       "<tr style=\"background-color:#ffff66;color:#000099;\"> <td style=\"background-color:#000000;color:#ffffff;\"> 12 </td> <td> 114 </td> <td> (klar auf den Punkt gebracht) „Menschen oder Lebewesen einen sehr gewaltigen Vortritt, vor allen anderen Menschen oder Lebewesen, gewähren, die für aller unsere Ziele nützlich sind“, bishin dass deren Fortpflanzung sehr besonders wichtiger ist, als die von sehr vielen anderen. (Vermutlich ist der Grundgedanke, den gegenseitigen Nutzen von Motivation zu erhalten.) (sicher) Andere zu ihrer Nützlichkeit und Existenz motivieren, durch: Womöglich für die langfristige Existenz (3) ausgewählter Menschen sorgen (die, die sich nützlich [3] machen, wie Nutzpflanzen) bzw. ganzer langfristiger Familienstammbäume, was dazu führt oder führen kann, dass andere nicht weiter existieren sollen, die unnütze, wie Unkraut sind. (halb sicher bis sicher) </td> </tr>\n",
       "<tr style=\"background-color:#ffff66;color:#000099;\"> <td style=\"background-color:#000000;color:#ffffff;\"> 14 </td> <td> 126 </td> <td> (klar auf den Punkt gebracht) „Hingebung“ (zu allem erdenklichen: Folgen einer Leidenschaft, zu einer Aufgabe, zu Personen) (Steigerung von Leidenschaft). Den guten Zweck als oberstes Ziel (für Unternehmensgründung, Hobbies, etc.) (größtenteils sicher) </td> </tr>\n",
       "<tr style=\"background-color:#ffff66;color:#000099;\"> <td style=\"background-color:#ffffff;color:#000000;\"> 15 </td> <td> 138 </td> <td> (klar auf den Punkt gebracht) „In die Welt eingreifen, um Vertraulichkeit sicherzustellen“ (Der Grundgedanke ist bei sich gegenseitig sozusagen hineinzuschauen.) Andere Menschen emotional hart prüfen und testen (lassen) wollen, ob sie deiner Zuwendung würdig sind. Das geht so weit, dass man diese sehr bekämpft, ggf. feindselig zu dir macht, um zu sehen, ob sie dabei dennoch dir zugewandt sind und dir dennoch treu ergeben bleiben. Die von dieser Prüfung betroffenen bestehen die Prüfung viel eher, wenn sie von dieser Art der Fortpflanzung sehr bedürftig und abhängig sind. Die emotional Bedürftigen gewinnen hier also. (größtenteils sicher) </td> </tr>\n",
       "<tr style=\"background-color:#ffff66;color:#000099;\"> <td style=\"background-color:#000000;color:#ffffff;\"> 16 </td> <td> 162 </td> <td> (klar auf den Punkt gebracht) Eskalieren (z.B. zu körperlicher Nähe), Zuspitzung von (u.a. und nicht nur) Problemen zulassen oder verstärken (damit ein anderer sie endlich löst) (sicher) </td> </tr>\n",
       "<tr style=\"background-color:#ffff66;color:#000099;\"> <td style=\"background-color:#ffffff;color:#000000;\"> 17 </td> <td> 174 </td> <td> (klar auf den Punkt gebracht) „ausbeuten und ausschöpfen von geistigem Gedankengut“ (in der Galaxie um schwarze Löcher) - Abkehr von körperlicher Liebe und Abkehr von anderen, die sich körperlich lieben und dies zu verdammen (wenn andere sich körperlich lieben), insofern: sich vom Materiellen lösen wollen, das dem Geistigen im Weg steht und von Personen, die dich am Materiellen halten lassen, wo du zu dem höheren Geistigen willst (größtenteils sicher) </td> </tr>\n",
       "<tr style=\"background-color:#ffff66;color:#000099;\"> <td style=\"background-color:#ffffff;color:#000000;\"> 17 </td> <td> 186 </td> <td> (klar auf den Punkt gebracht) „sehr gegen Borniertheit und Grobschlächtigkeit insofern vorgehen wollen, dass Fingerspitzengefühl und Feingefühl gewährleistet werden kann.“ (größtenteils sicher) Genauer aus dem Thomasevangelium: Um Menschen die emotional-sensorische Erfahrung mit dessen emotionaler Informationsaufnahme maximal zu verbessern: dafür zu sorgen (es zu nutzen [3]), zu befehlen, dass Unschuldige und Schwangere von schadhaften Einflüssen, wie Hass gegen Naivität (Hunde) oder sexuelles Cuckolding zum Schaden von Schwangeren und deren Männer (Schweine), fern gehalten werden sollen! (größtenteils sicher) </td> </tr>\n",
       "</table>\n"
      ],
      "text/plain": [
       "<IPython.core.display.HTML object>"
      ]
     },
     "execution_count": 14,
     "metadata": {},
     "output_type": "execute_result"
    }
   ],
   "source": [
    "HTML(teste(\"a 2/3-2/4,v2/5-2/6,v-2/10-2/12\"))"
   ]
  },
  {
   "cell_type": "code",
   "execution_count": 15,
   "id": "89e6730b",
   "metadata": {},
   "outputs": [
    {
     "data": {
      "text/html": [
       "<table border=0 id=\"bigtable\">\n",
       "<tr style=\"background-color:#ff2222;color:#002222;\"> <td class=\"z_0 r_0 p1_zaehlung, p2_p3_0_, p4_\" style=\"background-color:#ffffff;color:#000000;\"> </td> <td class=\"z_0 r_1 p1_nummerierung, p2_p3_0_, p4_\"> </td> <td class=\"z_0 r_2 p1_Grundstrukturen,Menschliches,Wichtigstes_zum_verstehen, p2_p3_0_Paradigmen_sind_Absichten_(13),p3_1_Motive,p3_2_Wichtigste,p3_3_, p4_0,3\"> Extrinsische (= es indirekt wollen und nicht direkt zu wollen) (ggf. rationale) Motive für gleichförmige Polygone, Paradigmen, Reziproke 1/n (13 und oder 14) </td> </tr>\n",
       "<tr style=\"background-color:#009900;color:#ffffff;\"> <td style=\"background-color:#ffffff;color:#000000;\"> 1 </td> <td> 3 </td> <td> Pragmatismus, pragmatisch sein (größtenteils sicher) (1/3), formen, wandeln (3/9) </td> </tr>\n",
       "<tr style=\"background-color:#009900;color:#ffffff;\"> <td style=\"background-color:#000000;color:#ffffff;\"> 2 </td> <td> 5 </td> <td> taugen, streben (sicher) </td> </tr>\n",
       "<tr style=\"background-color:#ffff66;color:#000099;\"> <td style=\"background-color:#000000;color:#ffffff;\"> 2 </td> <td> 6 </td> <td> einschätzen, bewerten, Klarheit oder Ethik wollen, gesellschaftliche Werte wollen (sicher) </td> </tr>\n",
       "<tr style=\"background-color:#555500;color:#aaaaff;\"> <td style=\"background-color:#ffffff;color:#000000;\"> 3 </td> <td> 15 </td> <td> Respekt in anderen sehen, sich durch andere selbst reflektieren wollen (d.h. umgekehrter Selbstrespekt) (größtenteils sicher) </td> </tr>\n",
       "<tr style=\"background-color:#ffff66;color:#000099;\"> <td style=\"background-color:#000000;color:#ffffff;\"> 4 </td> <td> 18 </td> <td> durch einen anderen Menschen vollständig oder komplett sein wollen (größtenteils sicher) </td> </tr>\n",
       "<tr style=\"background-color:#000099;color:#ffff66;\"> <td style=\"background-color:#000000;color:#ffffff;\"> 4 </td> <td> 25 </td> <td> für Freizeitangebote sorgen wollen (halb bis größtenteils sicher) </td> </tr>\n",
       "<tr style=\"background-color:#555500;color:#aaaaff;\"> <td style=\"background-color:#000000;color:#ffffff;\"> 8 </td> <td> 45 </td> <td> befruchtet werden wollen bzw. als Mann zu wollen, dass die Frau Aktion ergreift, dass sie befruchtet wird, während der Mann passiv ist, also eher wie bei künstlicher Befruchtung (größtenteils sicher) </td> </tr>\n",
       "</table>\n",
       "<table border=0 id=\"bigtable\">\n",
       "<tr style=\"background-color:#ff2222;color:#002222;\"> <td class=\"z_0 r_0 p1_zaehlung, p2_p3_0_, p4_\" style=\"background-color:#ffffff;color:#000000;\"> </td> <td class=\"z_0 r_1 p1_nummerierung, p2_p3_0_, p4_\"> </td> <td class=\"z_0 r_2 p1_gebrochengalaxie, p2_p3_0_2, p4_0,1,3,6\"> n/2 Galaxie </td> </tr>\n",
       "<tr style=\"background-color:#009900;color:#ffffff;\"> <td style=\"background-color:#ffffff;color:#000000;\"> 1 </td> <td> 3 </td> <td> Verwenden (3/2) (größtenteils sicher); griffbereit [3*(1/2)] (größtenteils sicher); investieren [6/(1/4)]; Investitionssumme bestimmen [9/(1/6)]; die Anordnung oder der Erlass [12/(1/8)] </td> </tr>\n",
       "<tr style=\"background-color:#009900;color:#ffffff;\"> <td style=\"background-color:#000000;color:#ffffff;\"> 2 </td> <td> 5 </td> <td> anerkennend annehmen wollen (5/2) (sicher); Verwirklichung und Vollbringung (10/4); intuitiv sein [15/(1/8)] </td> </tr>\n",
       "<tr style=\"background-color:#ffff66;color:#000099;\"> <td style=\"background-color:#000000;color:#ffffff;\"> 2 </td> <td> 6 </td> <td> ‚Nutzen‘ (altes Testament und Mensch); wahrscheinlich: „ ‚Beißen‘ als zentrales Konzept; ‚Mimese‘ und ‚Mimikry‘ (3 mit wahrscheinlich auch 2)“; Rüssel eines Elefanten und Tentakel nutzen als weitere Formen </td> </tr>\n",
       "<tr style=\"background-color:#ffff66;color:#000099;\"> <td style=\"background-color:#000000;color:#ffffff;\"> 4 </td> <td> 18 </td> <td> „Zweck“ oder auch „sich vereinen wollen“ </td> </tr>\n",
       "<tr style=\"background-color:#ffff66;color:#000099;\"> <td style=\"background-color:#000000;color:#ffffff;\"> 8 </td> <td> 42 </td> <td> (klar auf den Punkt gebracht) Über-ich-losigkeit, Leidenschaft zu einer Aufgabe, Beruf, Hobby, zu Fortpflanzung, sein Überich durch andere Menschen definieren zu lassen (100% sicher); (größere Gefahr beraubt zu werden, als wäre man ein Egoist, da sich Egoisten aus Egoismus mehr absichern) Vermutlich ist der Grundgedanke die gegenseitige Selbstlosigkeit. </td> </tr>\n",
       "<tr style=\"background-color:#ffff66;color:#000099;\"> <td style=\"background-color:#ffffff;color:#000000;\"> 9 </td> <td> 54 </td> <td> (klar auf den Punkt gebracht) „Urlaub machen wollen“. Konfliktunfähigkeit als taktischer geordneter Rückzug, Auflösung von Deadlocks und Livelocks in Bidirektionalität (das stimmt sehr wahrscheinlich) </td> </tr>\n",
       "<tr style=\"background-color:#ffff66;color:#000099;\"> <td style=\"background-color:#000000;color:#ffffff;\"> 10 </td> <td> 78 </td> <td> (klar auf den Punkt gebracht) „Maßnahmen unternehmen wollen“, u.a. zur Hilfe (13) des Überlebens (3) (3*13) (wie die extremen baulichen Maßnahmen in Japan gegen Umweltkatastrophen). Der Grundgedanke ist die gegenseitige Hilfe. Hilfsmittel verwenden (größtenteils sicher); Jemanden helfen (13), zu greifen oder zu benutzen (3) (3*19=39), gemeinsam sich beim Greifen oder Benutzen helfen. Es ist wie bei Fortpflanzung ohne Liebe, jedoch basierend auf Liebe vom Typ 39. dabei: Tarnung und Isolation verwenden und strebsam Informationen für das Gedeihen verbergen (und zu wollen, dass alle das auch so wollen) (sicher); Die Denkansätze (13) des Greifens (3) und Benutzens (3) verinnerlichen wollen, was zur Hilfe (13) zum Benutzen (3) anderer nützt (sicher) </td> </tr>\n",
       "<tr style=\"background-color:#ffff66;color:#000099;\"> <td style=\"background-color:#000000;color:#ffffff;\"> 12 </td> <td> 102 </td> <td> (klar auf den Punkt gebracht) Sich fern halten wollen von allen Dingen, die ungewiss schlecht sind. Bangen, sich sorgen, angewidert sein – eine Erkenntnisform, durch die man Anlässe (zu Sorge und Ekels, zum Wandel der Zeit, der Zeitepochen und anderem) geistig sehen kann und vermitteln kann; Anlässe sind dadurch nicht nur als Vorwand zu sehen, sondern diese höhere Erkenntnisform ermöglicht das Wissen darum, so dass nichts mehr bloß ein Vorwand ist. Die meisten Vorwände sind damit also als Anlässe durchschaubar. (größtenteil sicher); Emotional meist verbunden mit dem Gefühl angewidert zu sein. Angewidert sein (51:=17*3) ist hier also eine Steigerung von Abneigung (17*1). D.h. dass bei 17*n bei jeweils höherem n eine Steigerung von dem Gefühl der Abneigung kommt. (größtenteils sicher) (Der Grundgedanke ist die gegenseitige Bestimmung der Meinung und Position. ) </td> </tr>\n",
       "<tr style=\"background-color:#ffff66;color:#000099;\"> <td style=\"background-color:#000000;color:#ffffff;\"> 12 </td> <td> 114 </td> <td> (klar auf den Punkt gebracht) „Menschen oder Lebewesen einen sehr gewaltigen Vortritt, vor allen anderen Menschen oder Lebewesen, gewähren, die für aller unsere Ziele nützlich sind“, bishin dass deren Fortpflanzung sehr besonders wichtiger ist, als die von sehr vielen anderen. (Vermutlich ist der Grundgedanke, den gegenseitigen Nutzen von Motivation zu erhalten.) (sicher) Andere zu ihrer Nützlichkeit und Existenz motivieren, durch: Womöglich für die langfristige Existenz (3) ausgewählter Menschen sorgen (die, die sich nützlich [3] machen, wie Nutzpflanzen) bzw. ganzer langfristiger Familienstammbäume, was dazu führt oder führen kann, dass andere nicht weiter existieren sollen, die unnütze, wie Unkraut sind. (halb sicher bis sicher) </td> </tr>\n",
       "<tr style=\"background-color:#ffff66;color:#000099;\"> <td style=\"background-color:#000000;color:#ffffff;\"> 14 </td> <td> 126 </td> <td> (klar auf den Punkt gebracht) „Hingebung“ (zu allem erdenklichen: Folgen einer Leidenschaft, zu einer Aufgabe, zu Personen) (Steigerung von Leidenschaft). Den guten Zweck als oberstes Ziel (für Unternehmensgründung, Hobbies, etc.) (größtenteils sicher) </td> </tr>\n",
       "<tr style=\"background-color:#ffff66;color:#000099;\"> <td style=\"background-color:#ffffff;color:#000000;\"> 15 </td> <td> 138 </td> <td> (klar auf den Punkt gebracht) „In die Welt eingreifen, um Vertraulichkeit sicherzustellen“ (Der Grundgedanke ist bei sich gegenseitig sozusagen hineinzuschauen.) Andere Menschen emotional hart prüfen und testen (lassen) wollen, ob sie deiner Zuwendung würdig sind. Das geht so weit, dass man diese sehr bekämpft, ggf. feindselig zu dir macht, um zu sehen, ob sie dabei dennoch dir zugewandt sind und dir dennoch treu ergeben bleiben. Die von dieser Prüfung betroffenen bestehen die Prüfung viel eher, wenn sie von dieser Art der Fortpflanzung sehr bedürftig und abhängig sind. Die emotional Bedürftigen gewinnen hier also. (größtenteils sicher) </td> </tr>\n",
       "<tr style=\"background-color:#ffff66;color:#000099;\"> <td style=\"background-color:#000000;color:#ffffff;\"> 16 </td> <td> 162 </td> <td> (klar auf den Punkt gebracht) Eskalieren (z.B. zu körperlicher Nähe), Zuspitzung von (u.a. und nicht nur) Problemen zulassen oder verstärken (damit ein anderer sie endlich löst) (sicher) </td> </tr>\n",
       "<tr style=\"background-color:#ffff66;color:#000099;\"> <td style=\"background-color:#ffffff;color:#000000;\"> 17 </td> <td> 174 </td> <td> (klar auf den Punkt gebracht) „ausbeuten und ausschöpfen von geistigem Gedankengut“ (in der Galaxie um schwarze Löcher) - Abkehr von körperlicher Liebe und Abkehr von anderen, die sich körperlich lieben und dies zu verdammen (wenn andere sich körperlich lieben), insofern: sich vom Materiellen lösen wollen, das dem Geistigen im Weg steht und von Personen, die dich am Materiellen halten lassen, wo du zu dem höheren Geistigen willst (größtenteils sicher) </td> </tr>\n",
       "<tr style=\"background-color:#ffff66;color:#000099;\"> <td style=\"background-color:#ffffff;color:#000000;\"> 17 </td> <td> 186 </td> <td> (klar auf den Punkt gebracht) „sehr gegen Borniertheit und Grobschlächtigkeit insofern vorgehen wollen, dass Fingerspitzengefühl und Feingefühl gewährleistet werden kann.“ (größtenteils sicher) Genauer aus dem Thomasevangelium: Um Menschen die emotional-sensorische Erfahrung mit dessen emotionaler Informationsaufnahme maximal zu verbessern: dafür zu sorgen (es zu nutzen [3]), zu befehlen, dass Unschuldige und Schwangere von schadhaften Einflüssen, wie Hass gegen Naivität (Hunde) oder sexuelles Cuckolding zum Schaden von Schwangeren und deren Männer (Schweine), fern gehalten werden sollen! (größtenteils sicher) </td> </tr>\n",
       "</table>\n"
      ],
      "text/plain": [
       "<IPython.core.display.HTML object>"
      ]
     },
     "execution_count": 15,
     "metadata": {},
     "output_type": "execute_result"
    }
   ],
   "source": [
    "HTML(teste(\"a 1/3-2/4,v1/5-2/6,v-1/10-2/12,-1/4-2/4\"))"
   ]
  },
  {
   "cell_type": "code",
   "execution_count": null,
   "id": "37c36df2",
   "metadata": {},
   "outputs": [],
   "source": []
  }
 ],
 "metadata": {
  "kernelspec": {
   "display_name": "PyPy3",
   "language": "python",
   "name": "pypy3"
  },
  "language_info": {
   "codemirror_mode": {
    "name": "ipython",
    "version": 3
   },
   "file_extension": ".py",
   "mimetype": "text/x-python",
   "name": "python",
   "nbconvert_exporter": "python",
   "pygments_lexer": "ipython3",
   "version": "3.9.16"
  }
 },
 "nbformat": 4,
 "nbformat_minor": 5
}
