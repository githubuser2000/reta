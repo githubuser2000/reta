{
 "cells": [
  {
   "cell_type": "code",
   "execution_count": 2,
   "id": "178c34de",
   "metadata": {},
   "outputs": [
    {
     "data": {
      "text/html": [
       "<!DOCTYPE HTML PUBLIC \"-//W3C//DTD HTML 4.01 Transitional//EN\" \"http://www.w3.org/TR/html4/loose.dtd\">\n",
       "<html>\n",
       "<head>\n",
       "<meta http-equiv=\"Content-Type\" content=\"text/html; charset=utf-8\">\n",
       "<title></title>\n",
       "<style type=\"text/css\">\n",
       ".ansi2html-content { display: inline; white-space: pre-wrap; word-wrap: break-word; }\n",
       ".body_foreground { color: #AAAAAA; }\n",
       ".body_background { background-color: #000000; }\n",
       ".inv_foreground { color: #000000; }\n",
       ".inv_background { background-color: #AAAAAA; }\n",
       ".ansi4 { text-decoration: underline; }\n",
       ".ansi30 { color: #000316; }\n",
       ".ansi37 { color: #F5F1DE; }\n",
       ".ansi41 { background-color: #aa0000; }\n",
       ".ansi100 { background-color: #7f7f7f; }\n",
       "</style>\n",
       "</head>\n",
       "<body class=\"body_foreground body_background\" style=\"font-size: normal;\" >\n",
       "<pre class=\"ansi2html-content\">\n",
       "   <span class=\"ansi41\"></span><span class=\"ansi30 ansi41\"></span><span class=\"ansi4 ansi30 ansi41\">Intrinsische (nicht extrinsische) (intrinsisch = es direkt wollen und    </span> \n",
       "   <span class=\"ansi41\"></span><span class=\"ansi30 ansi41\"></span><span class=\"ansi4 ansi30 ansi41\">nicht indirekt) emotionale Intentionen bzw. Motive für Sternpolygone,    </span> \n",
       "   <span class=\"ansi41\"></span><span class=\"ansi30 ansi41\"></span><span class=\"ansi4 ansi30 ansi41\">Paradigmen (u.a. 13, Paradigmen sind nicht nur Typ 13, weil              </span> \n",
       "   <span class=\"ansi41\"></span><span class=\"ansi30 ansi41\"></span><span class=\"ansi4 ansi30 ansi41\">vermenschlicht) (Ein beliebiges Motiv zu haben ist Typ 1) (Jedes einzelne</span> \n",
       "   <span class=\"ansi41\"></span><span class=\"ansi30 ansi41\"></span><span class=\"ansi4 ansi30 ansi41\">Motiv ergibt sich auch daraus, aus welchen Paradigmen und Meta-Paradigmen</span> \n",
       "   <span class=\"ansi41\"></span><span class=\"ansi30 ansi41\"></span><span class=\"ansi4 ansi30 ansi41\">der Mensch besteht, ist also immer eine Zusammensetzung) Absichten (13)  </span> \n",
       "   <span class=\"ansi41\"></span><span class=\"ansi30 ansi41\"></span><span class=\"ansi4 ansi30 ansi41\">als Form des Geistes (15)                                                </span> \n",
       " 1 <span class=\"ansi100\"></span><span class=\"ansi37 ansi100\">„Absicht“ (jegliche beliebige Absichten) (und alles weitere, das alle    </span> \n",
       "   <span class=\"ansi100\"></span><span class=\"ansi37 ansi100\">Paradigmen haben: einen „Denkansatz“)                                    </span> \n",
       "   <span class=\"ansi41\"></span><span class=\"ansi30 ansi41\"></span><span class=\"ansi4 ansi30 ansi41\">Transzendentalien, -alien, universelle Strukturalien, Meta-Paradigmen    </span> \n",
       "   <span class=\"ansi41\"></span><span class=\"ansi30 ansi41\"></span><span class=\"ansi4 ansi30 ansi41\">(15) Transzendentalien (15 oder u.a. 15) sind die menschliche Sicht der  </span> \n",
       "   <span class=\"ansi41\"></span><span class=\"ansi30 ansi41\"></span><span class=\"ansi4 ansi30 ansi41\">Strukturalien (ausschließlich Typ 15) (In Lebewesen ist es Bewusstsein.).</span> \n",
       " 1 <span class=\"ansi100\"></span><span class=\"ansi37 ansi100\">Identität, z.B. mathematisch (1)                                         </span> \n",
       "\n",
       "</pre>\n",
       "</body>\n",
       "\n",
       "</html>\n"
      ],
      "text/plain": [
       "<IPython.core.display.HTML object>"
      ]
     },
     "metadata": {},
     "output_type": "display_data"
    }
   ],
   "source": [
    "from ansi2html import Ansi2HTMLConverter\n",
    "import sys\n",
    "sys.path.insert(1, '/home/alex/myRepos/reta')\n",
    "import subprocess\n",
    "from IPython.core.display import HTML\n",
    "# Erstellen Sie einen neuen Konverter mit Standardoptionen\n",
    "converter = Ansi2HTMLConverter()\n",
    "\n",
    "def externCommand(cmd: str, parameter: list[str]):\n",
    "    #return subprocess.check_output([cmd, *parameter], stderr=subprocess.STDOUT, universal_newlines=True)\n",
    "    p = subprocess.Popen([cmd, *parameter], stdout=subprocess.PIPE, stderr=subprocess.PIPE, universal_newlines=True)\n",
    "    output, err = p.communicate()\n",
    "    return output\n",
    "\n",
    "befehl = \"a u e 1\".split()\n",
    "html_output = converter.convert(externCommand(\"/home/alex/myRepos/reta/rp\",[\"-befehl\",*befehl]))\n",
    "\n",
    "# Geben Sie das HTML in einer Jupyter-Notebook-Zelle aus\n",
    "from IPython.core.display import HTML\n",
    "display(HTML(html_output))"
   ]
  },
  {
   "cell_type": "code",
   "execution_count": 6,
   "id": "1eafc8cc",
   "metadata": {},
   "outputs": [
    {
     "data": {
      "text/html": [
       "<table border=0 id=\"bigtable\">\n",
       "<tr style=\"background-color:#ff2222;color:#002222;\"> <td class=\"z_0 r_0 p1_zaehlung, p2_p3_0_, p4_\" style=\"background-color:#ffffff;color:#000000;\"> </td> <td class=\"z_0 r_1 p1_nummerierung, p2_p3_0_, p4_\"> </td> <td class=\"z_0 r_2 p1_Grundstrukturen,Menschliches,Wichtigstes_zum_verstehen, p2_p3_0_Paradigmen_sind_Absichten_(13),p3_1_Motive,p3_2_Wichtigste,p3_3_,p3_4_,p3_5_, p4_0,3\"> Intrinsische (nicht extrinsische) (intrinsisch = es direkt wollen und nicht indirekt) emotionale Intentionen bzw. Motive für Sternpolygone, Paradigmen (u.a. 13, Paradigmen sind nicht nur Typ 13, weil vermenschlicht) (Ein beliebiges Motiv zu haben ist Typ 1) (Jedes einzelne Motiv ergibt sich auch daraus, aus welchen Paradigmen und Meta-Paradigmen der Mensch besteht, ist also immer eine Zusammensetzung) Absichten (13) als Form des Geistes (15) </td> </tr>\n",
       "<tr style=\"background-color:#555500;color:#aaaaff;\"> <td style=\"background-color:#ffffff;color:#000000;\"> 1 </td> <td> 1 </td> <td> „Absicht“ (jegliche beliebige Absichten) (und alles weitere, das alle Paradigmen haben: einen „Denkansatz“) </td> </tr>\n",
       "</table>\n",
       "<table border=0 id=\"bigtable\">\n",
       "<tr style=\"background-color:#ff2222;color:#002222;\"> <td class=\"z_0 r_0 p1_zaehlung, p2_p3_0_, p4_\" style=\"background-color:#ffffff;color:#000000;\"> </td> <td class=\"z_0 r_1 p1_nummerierung, p2_p3_0_, p4_\"> </td> <td class=\"z_0 r_2 p1_Grundstrukturen,Inkrementieren,Inkrementieren,Universum,Universum,Universum,Wichtigstes_zum_verstehen, p2_p3_0_Strukturalien_bzw_Meta-Paradigmen_bzw_Transzendentalien_(15),p3_10_,p3_1_warum_Transzendentalie_=_Komplexität_von_Michael_Commons,p3_2_warum_Transzendentalie_=_Strukturgroesse_=_Charakter,p3_3_Transzendentalien,p3_4_warum_Transzendentalie_=_Komplexität_von_Michael_Commons,p3_5_warum_Transzendentalie_=_Strukturgroesse_=_Charakter,p3_6_Wichtigste,p3_7_,p3_8_,p3_9_, p4_0,4\"> Transzendentalien, -alien, universelle Strukturalien, Meta-Paradigmen (15) Transzendentalien (15 oder u.a. 15) sind die menschliche Sicht der Strukturalien (ausschließlich Typ 15) (In Lebewesen ist es Bewusstsein.). </td> </tr>\n",
       "<tr style=\"background-color:#555500;color:#aaaaff;\"> <td style=\"background-color:#ffffff;color:#000000;\"> 1 </td> <td> 1 </td> <td> Identität, z.B. mathematisch (1) </td> </tr>\n",
       "</table>\n"
      ],
      "text/plain": [
       "<IPython.core.display.HTML object>"
      ]
     },
     "execution_count": 6,
     "metadata": {},
     "output_type": "execute_result"
    }
   ],
   "source": [
    "from IPython.display import HTML\n",
    "import sys\n",
    "sys.path.insert(1, '/home/alex/myRepos/reta')\n",
    "import subprocess\n",
    "from IPython.core.display import HTML\n",
    "# Erstellen Sie einen neuen Konverter mit Standardoptionen\n",
    "\n",
    "def externCommand(cmd: str, parameter: list[str]):\n",
    "    #return subprocess.check_output([cmd, *parameter], stderr=subprocess.STDOUT, universal_newlines=True)\n",
    "    p = subprocess.Popen([cmd, *parameter], stdout=subprocess.PIPE, stderr=subprocess.PIPE, universal_newlines=True)\n",
    "    output, err = p.communicate()\n",
    "    return output\n",
    "\n",
    "befehl = \"a u e 1 -spalten --breite=0 -ausgabe --art=html --onetable\".split()\n",
    "htmlAusgabe = externCommand(\"/home/alex/myRepos/reta/rp\",[\"-befehl\",*befehl])\n",
    "\n",
    "# Geben Sie das HTML in einer Jupyter-Notebook-Zelle aus\n",
    "#Ausgabe war, richtig: 1:5,6,15,25,31,32,45,64\n",
    "HTML(htmlAusgabe)"
   ]
  },
  {
   "cell_type": "code",
   "execution_count": 16,
   "id": "5bcfe336",
   "metadata": {},
   "outputs": [
    {
     "data": {
      "text/html": [
       "['/home/alex/myRepos/reta/rp', '-vi', '-befehl', 'reta', '-zeilen', '--vorhervonausschnitt=1', '-spalten', '--grundstrukturen=paradigmen', '-ausgabe', '--art=html', '--onetable']\n",
       "<table border=0 id=\"bigtable\">\n",
       "<tr style=\"background-color:#ff2222;color:#002222;\"> <td class=\"z_0 r_0 p1_zaehlung, p2_p3_0_, p4_\" style=\"background-color:#ffffff;color:#000000;\"> </td> <td class=\"z_0 r_1 p1_nummerierung, p2_p3_0_, p4_\"> </td> <td class=\"z_0 r_2 p1_Grundstrukturen,Menschliches,Wichtigstes_zum_verstehen, p2_p3_0_Paradigmen_sind_Absichten_(13),p3_1_Motive,p3_2_Wichtigste,p3_3_,p3_4_,p3_5_, p4_0,3\"> Intrinsische (nicht extrinsische) (intrinsisch = es direkt wollen und nicht indirekt) emotionale Intentionen bzw. Motive für Sternpolygone, Paradigmen (u.a. 13, Paradigmen sind nicht nur Typ 13, weil vermenschlicht) (Ein beliebiges Motiv zu haben ist Typ 1) (Jedes einzelne Motiv ergibt sich auch daraus, aus welchen Paradigmen und Meta-Paradigmen der Mensch besteht, ist also immer eine Zusammensetzung) Absichten (13) als Form des Geistes (15) </td> <td class=\"z_0 r_3 p1_Grundstrukturen,Grundstrukturen,Menschliches, p2_p3_0_Paradigmen_sind_Absichten_(13),p3_1_Reziprokes,p3_2_Motive,p3_3_,p3_4_,p3_5_, p4_1,3\"> Extrinsische (= es indirekt wollen und nicht direkt zu wollen) (ggf. rationale) Motive für gleichförmige Polygone, Paradigmen, Reziproke 1/n (13 und oder 14) </td> </tr>\n",
       "<tr style=\"background-color:#555500;color:#aaaaff;\"> <td style=\"background-color:#ffffff;color:#000000;\"> 1 </td> <td> 1 </td> <td> „Absicht“ (jegliche beliebige Absichten) (und alles weitere, das alle Paradigmen haben: einen „Denkansatz“) </td> <td> die Methode des Wie; fachliche Spezialisierung (2/2), wählerisch sein (3/3) (halb bis größtenteils sicher); Das hier alles ist wahrscheinlich falsch: Erschaffen, zustande bringen (4/4); genügen (5/5); veranschlagen oder Effizienz und Effektivität (6/6); korrespondieren (7/7); Gerechtigkeit bestimmen (8/8); Zweckmäßigkeit (9/9); Tragweite bestimmen (10/10) </td> </tr>\n",
       "</table>\n"
      ],
      "text/plain": [
       "<IPython.core.display.HTML object>"
      ]
     },
     "execution_count": 16,
     "metadata": {},
     "output_type": "execute_result"
    }
   ],
   "source": [
    "befehl = \"reta -zeilen --vorhervonausschnitt=1 -spalten --grundstrukturen=paradigmen -ausgabe --art=html --onetable\".split()\n",
    "htmlAusgabe = externCommand(\"/home/alex/myRepos/reta/rp\",[\"-befehl\",*befehl])\n",
    "\n",
    "# Geben Sie das HTML in einer Jupyter-Notebook-Zelle aus\n",
    "#Ausgabe war, richtig: 1:5,6,15,25,31,32,45,64\n",
    "HTML(htmlAusgabe)"
   ]
  },
  {
   "cell_type": "code",
   "execution_count": 18,
   "id": "addaeeee",
   "metadata": {},
   "outputs": [
    {
     "data": {
      "text/html": [
       "<table border=0 id=\"bigtable\">\n",
       "<tr style=\"background-color:#ff2222;color:#002222;\"> <td class=\"z_0 r_0 p1_zaehlung, p2_p3_0_, p4_\" style=\"background-color:#ffffff;color:#000000;\"> </td> <td class=\"z_0 r_1 p1_nummerierung, p2_p3_0_, p4_\"> </td> <td class=\"z_0 r_2 p1_Grundstrukturen,Menschliches,Wichtigstes_zum_verstehen, p2_p3_0_Paradigmen_sind_Absichten_(13),p3_1_Motive,p3_2_Wichtigste,p3_3_,p3_4_,p3_5_, p4_0,3\"> Intrinsische (nicht extrinsische) (intrinsisch = </td> <td class=\"z_0 r_3 p1_Grundstrukturen,Grundstrukturen,Menschliches, p2_p3_0_Paradigmen_sind_Absichten_(13),p3_1_Reziprokes,p3_2_Motive,p3_3_,p3_4_,p3_5_, p4_1,3\"> Extrinsische (= es indirekt </td> </tr>\n",
       "<tr style=\"background-color:#ff2222;color:#002222;\"> <td class=\"z_0 r_0 p1_zaehlung, p2_p3_0_, p4_\" style=\"background-color:#ffffff;color:#000000;\"> </td> <td class=\"z_0 r_1 p1_nummerierung, p2_p3_0_, p4_\"> </td> <td class=\"z_0 r_2 p1_Grundstrukturen,Menschliches,Wichtigstes_zum_verstehen, p2_p3_0_Paradigmen_sind_Absichten_(13),p3_1_Motive,p3_2_Wichtigste,p3_3_,p3_4_,p3_5_, p4_0,3\"> es direkt wollen und nicht indirekt) emotionale </td> <td class=\"z_0 r_3 p1_Grundstrukturen,Grundstrukturen,Menschliches, p2_p3_0_Paradigmen_sind_Absichten_(13),p3_1_Reziprokes,p3_2_Motive,p3_3_,p3_4_,p3_5_, p4_1,3\"> wollen und nicht direkt zu </td> </tr>\n",
       "<tr style=\"background-color:#ff2222;color:#002222;\"> <td class=\"z_0 r_0 p1_zaehlung, p2_p3_0_, p4_\" style=\"background-color:#ffffff;color:#000000;\"> </td> <td class=\"z_0 r_1 p1_nummerierung, p2_p3_0_, p4_\"> </td> <td class=\"z_0 r_2 p1_Grundstrukturen,Menschliches,Wichtigstes_zum_verstehen, p2_p3_0_Paradigmen_sind_Absichten_(13),p3_1_Motive,p3_2_Wichtigste,p3_3_,p3_4_,p3_5_, p4_0,3\"> Intentionen bzw. Motive für Sternpolygone, </td> <td class=\"z_0 r_3 p1_Grundstrukturen,Grundstrukturen,Menschliches, p2_p3_0_Paradigmen_sind_Absichten_(13),p3_1_Reziprokes,p3_2_Motive,p3_3_,p3_4_,p3_5_, p4_1,3\"> wollen) (ggf. rationale) </td> </tr>\n",
       "<tr style=\"background-color:#ff2222;color:#002222;\"> <td class=\"z_0 r_0 p1_zaehlung, p2_p3_0_, p4_\" style=\"background-color:#ffffff;color:#000000;\"> </td> <td class=\"z_0 r_1 p1_nummerierung, p2_p3_0_, p4_\"> </td> <td class=\"z_0 r_2 p1_Grundstrukturen,Menschliches,Wichtigstes_zum_verstehen, p2_p3_0_Paradigmen_sind_Absichten_(13),p3_1_Motive,p3_2_Wichtigste,p3_3_,p3_4_,p3_5_, p4_0,3\"> Paradigmen (u.a. 13, Paradigmen sind nicht nur Typ </td> <td class=\"z_0 r_3 p1_Grundstrukturen,Grundstrukturen,Menschliches, p2_p3_0_Paradigmen_sind_Absichten_(13),p3_1_Reziprokes,p3_2_Motive,p3_3_,p3_4_,p3_5_, p4_1,3\"> Motive für gleichförmige </td> </tr>\n",
       "<tr style=\"background-color:#ff2222;color:#002222;\"> <td class=\"z_0 r_0 p1_zaehlung, p2_p3_0_, p4_\" style=\"background-color:#ffffff;color:#000000;\"> </td> <td class=\"z_0 r_1 p1_nummerierung, p2_p3_0_, p4_\"> </td> <td class=\"z_0 r_2 p1_Grundstrukturen,Menschliches,Wichtigstes_zum_verstehen, p2_p3_0_Paradigmen_sind_Absichten_(13),p3_1_Motive,p3_2_Wichtigste,p3_3_,p3_4_,p3_5_, p4_0,3\"> 13, weil vermenschlicht) (Ein beliebiges Motiv zu </td> <td class=\"z_0 r_3 p1_Grundstrukturen,Grundstrukturen,Menschliches, p2_p3_0_Paradigmen_sind_Absichten_(13),p3_1_Reziprokes,p3_2_Motive,p3_3_,p3_4_,p3_5_, p4_1,3\"> Polygone, Paradigmen, </td> </tr>\n",
       "<tr style=\"background-color:#ff2222;color:#002222;\"> <td class=\"z_0 r_0 p1_zaehlung, p2_p3_0_, p4_\" style=\"background-color:#ffffff;color:#000000;\"> </td> <td class=\"z_0 r_1 p1_nummerierung, p2_p3_0_, p4_\"> </td> <td class=\"z_0 r_2 p1_Grundstrukturen,Menschliches,Wichtigstes_zum_verstehen, p2_p3_0_Paradigmen_sind_Absichten_(13),p3_1_Motive,p3_2_Wichtigste,p3_3_,p3_4_,p3_5_, p4_0,3\"> haben ist Typ 1) (Jedes einzelne Motiv ergibt sich </td> <td class=\"z_0 r_3 p1_Grundstrukturen,Grundstrukturen,Menschliches, p2_p3_0_Paradigmen_sind_Absichten_(13),p3_1_Reziprokes,p3_2_Motive,p3_3_,p3_4_,p3_5_, p4_1,3\"> Reziproke 1/n (13 und oder 14) </td> </tr>\n",
       "<tr style=\"background-color:#ff2222;color:#002222;\"> <td class=\"z_0 r_0 p1_zaehlung, p2_p3_0_, p4_\" style=\"background-color:#ffffff;color:#000000;\"> </td> <td class=\"z_0 r_1 p1_nummerierung, p2_p3_0_, p4_\"> </td> <td class=\"z_0 r_2 p1_Grundstrukturen,Menschliches,Wichtigstes_zum_verstehen, p2_p3_0_Paradigmen_sind_Absichten_(13),p3_1_Motive,p3_2_Wichtigste,p3_3_,p3_4_,p3_5_, p4_0,3\"> auch daraus, aus welchen Paradigmen und Meta- </td> <td class=\"z_0 r_3 p1_Grundstrukturen,Grundstrukturen,Menschliches, p2_p3_0_Paradigmen_sind_Absichten_(13),p3_1_Reziprokes,p3_2_Motive,p3_3_,p3_4_,p3_5_, p4_1,3\"> </td> </tr>\n",
       "<tr style=\"background-color:#ff2222;color:#002222;\"> <td class=\"z_0 r_0 p1_zaehlung, p2_p3_0_, p4_\" style=\"background-color:#ffffff;color:#000000;\"> </td> <td class=\"z_0 r_1 p1_nummerierung, p2_p3_0_, p4_\"> </td> <td class=\"z_0 r_2 p1_Grundstrukturen,Menschliches,Wichtigstes_zum_verstehen, p2_p3_0_Paradigmen_sind_Absichten_(13),p3_1_Motive,p3_2_Wichtigste,p3_3_,p3_4_,p3_5_, p4_0,3\"> Paradigmen der Mensch besteht, ist also immer eine </td> <td class=\"z_0 r_3 p1_Grundstrukturen,Grundstrukturen,Menschliches, p2_p3_0_Paradigmen_sind_Absichten_(13),p3_1_Reziprokes,p3_2_Motive,p3_3_,p3_4_,p3_5_, p4_1,3\"> </td> </tr>\n",
       "<tr style=\"background-color:#ff2222;color:#002222;\"> <td class=\"z_0 r_0 p1_zaehlung, p2_p3_0_, p4_\" style=\"background-color:#ffffff;color:#000000;\"> </td> <td class=\"z_0 r_1 p1_nummerierung, p2_p3_0_, p4_\"> </td> <td class=\"z_0 r_2 p1_Grundstrukturen,Menschliches,Wichtigstes_zum_verstehen, p2_p3_0_Paradigmen_sind_Absichten_(13),p3_1_Motive,p3_2_Wichtigste,p3_3_,p3_4_,p3_5_, p4_0,3\"> Zusammensetzung) Absichten (13) als Form des </td> <td class=\"z_0 r_3 p1_Grundstrukturen,Grundstrukturen,Menschliches, p2_p3_0_Paradigmen_sind_Absichten_(13),p3_1_Reziprokes,p3_2_Motive,p3_3_,p3_4_,p3_5_, p4_1,3\"> </td> </tr>\n",
       "<tr style=\"background-color:#ff2222;color:#002222;\"> <td class=\"z_0 r_0 p1_zaehlung, p2_p3_0_, p4_\" style=\"background-color:#ffffff;color:#000000;\"> </td> <td class=\"z_0 r_1 p1_nummerierung, p2_p3_0_, p4_\"> </td> <td class=\"z_0 r_2 p1_Grundstrukturen,Menschliches,Wichtigstes_zum_verstehen, p2_p3_0_Paradigmen_sind_Absichten_(13),p3_1_Motive,p3_2_Wichtigste,p3_3_,p3_4_,p3_5_, p4_0,3\"> Geistes (15) </td> <td class=\"z_0 r_3 p1_Grundstrukturen,Grundstrukturen,Menschliches, p2_p3_0_Paradigmen_sind_Absichten_(13),p3_1_Reziprokes,p3_2_Motive,p3_3_,p3_4_,p3_5_, p4_1,3\"> </td> </tr>\n",
       "<tr style=\"background-color:#555500;color:#aaaaff;\"> <td style=\"background-color:#ffffff;color:#000000;\"> 1 </td> <td> 1 </td> <td> „Absicht“ (jegliche beliebige Absichten) (und </td> <td> die Methode des Wie; fachliche </td> </tr>\n",
       "<tr style=\"background-color:#555500;color:#aaaaff;\"> <td style=\"background-color:#ffffff;color:#000000;\"> 1 </td> <td> </td> <td> alles weitere, das alle Paradigmen haben: einen </td> <td> Spezialisierung (2/2), </td> </tr>\n",
       "<tr style=\"background-color:#555500;color:#aaaaff;\"> <td style=\"background-color:#ffffff;color:#000000;\"> 1 </td> <td> </td> <td> „Denkansatz“) </td> <td> wählerisch sein (3/3) (halb </td> </tr>\n",
       "<tr style=\"background-color:#555500;color:#aaaaff;\"> <td style=\"background-color:#ffffff;color:#000000;\"> 1 </td> <td> </td> <td> </td> <td> bis größtenteils sicher); Das </td> </tr>\n",
       "<tr style=\"background-color:#555500;color:#aaaaff;\"> <td style=\"background-color:#ffffff;color:#000000;\"> 1 </td> <td> </td> <td> </td> <td> hier alles ist wahrscheinlich </td> </tr>\n",
       "<tr style=\"background-color:#555500;color:#aaaaff;\"> <td style=\"background-color:#ffffff;color:#000000;\"> 1 </td> <td> </td> <td> </td> <td> falsch: Erschaffen, zustande </td> </tr>\n",
       "<tr style=\"background-color:#555500;color:#aaaaff;\"> <td style=\"background-color:#ffffff;color:#000000;\"> 1 </td> <td> </td> <td> </td> <td> bringen (4/4); genügen (5/5); </td> </tr>\n",
       "<tr style=\"background-color:#555500;color:#aaaaff;\"> <td style=\"background-color:#ffffff;color:#000000;\"> 1 </td> <td> </td> <td> </td> <td> veranschlagen oder Effizienz </td> </tr>\n",
       "<tr style=\"background-color:#555500;color:#aaaaff;\"> <td style=\"background-color:#ffffff;color:#000000;\"> 1 </td> <td> </td> <td> </td> <td> und Effektivität (6/6); </td> </tr>\n",
       "<tr style=\"background-color:#555500;color:#aaaaff;\"> <td style=\"background-color:#ffffff;color:#000000;\"> 1 </td> <td> </td> <td> </td> <td> korrespondieren (7/7); </td> </tr>\n",
       "<tr style=\"background-color:#555500;color:#aaaaff;\"> <td style=\"background-color:#ffffff;color:#000000;\"> 1 </td> <td> </td> <td> </td> <td> Gerechtigkeit bestimmen (8/8); </td> </tr>\n",
       "<tr style=\"background-color:#555500;color:#aaaaff;\"> <td style=\"background-color:#ffffff;color:#000000;\"> 1 </td> <td> </td> <td> </td> <td> Zweckmäßigkeit (9/9); </td> </tr>\n",
       "<tr style=\"background-color:#555500;color:#aaaaff;\"> <td style=\"background-color:#ffffff;color:#000000;\"> 1 </td> <td> </td> <td> </td> <td> Tragweite bestimmen (10/10) </td> </tr>\n",
       "</table>\n"
      ],
      "text/plain": [
       "<IPython.core.display.HTML object>"
      ]
     },
     "execution_count": 18,
     "metadata": {},
     "output_type": "execute_result"
    }
   ],
   "source": [
    "befehl = \"reta -zeilen --vorhervonausschnitt=1 -spalten --breiten=50,30 --breite=70 --grundstrukturen=paradigmen -ausgabe --art=html --onetable\".split()\n",
    "htmlAusgabe = externCommand(\"/home/alex/myRepos/reta/rp\",[\"-befehl\",*befehl])\n",
    "\n",
    "# Geben Sie das HTML in einer Jupyter-Notebook-Zelle aus\n",
    "#Ausgabe war, richtig: 1:5,6,15,25,31,32,45,64\n",
    "HTML(htmlAusgabe)"
   ]
  },
  {
   "cell_type": "code",
   "execution_count": 19,
   "id": "75d4bc6a",
   "metadata": {},
   "outputs": [
    {
     "data": {
      "text/html": [
       "<table border=0 id=\"bigtable\">\n",
       "<tr style=\"background-color:#ff2222;color:#002222;\"> <td class=\"z_0 r_0 p1_zaehlung, p2_p3_0_, p4_\" style=\"background-color:#ffffff;color:#000000;\"> </td> <td class=\"z_0 r_1 p1_nummerierung, p2_p3_0_, p4_\"> </td> <td class=\"z_0 r_2 p1_Grundstrukturen,Menschliches,Wichtigstes_zum_verstehen, p2_p3_0_Paradigmen_sind_Absichten_(13),p3_1_Motive,p3_2_Wichtigste,p3_3_,p3_4_,p3_5_, p4_0,3\"> Intrinsische (nicht extrinsische) (intrinsisch = </td> <td class=\"z_0 r_3 p1_Grundstrukturen,Grundstrukturen,Menschliches, p2_p3_0_Paradigmen_sind_Absichten_(13),p3_1_Reziprokes,p3_2_Motive,p3_3_,p3_4_,p3_5_, p4_1,3\"> Extrinsische (= es indirekt </td> </tr>\n",
       "<tr style=\"background-color:#ff2222;color:#002222;\"> <td class=\"z_0 r_0 p1_zaehlung, p2_p3_0_, p4_\" style=\"background-color:#ffffff;color:#000000;\"> </td> <td class=\"z_0 r_1 p1_nummerierung, p2_p3_0_, p4_\"> </td> <td class=\"z_0 r_2 p1_Grundstrukturen,Menschliches,Wichtigstes_zum_verstehen, p2_p3_0_Paradigmen_sind_Absichten_(13),p3_1_Motive,p3_2_Wichtigste,p3_3_,p3_4_,p3_5_, p4_0,3\"> es direkt wollen und nicht indirekt) emotionale </td> <td class=\"z_0 r_3 p1_Grundstrukturen,Grundstrukturen,Menschliches, p2_p3_0_Paradigmen_sind_Absichten_(13),p3_1_Reziprokes,p3_2_Motive,p3_3_,p3_4_,p3_5_, p4_1,3\"> wollen und nicht direkt zu </td> </tr>\n",
       "<tr style=\"background-color:#ff2222;color:#002222;\"> <td class=\"z_0 r_0 p1_zaehlung, p2_p3_0_, p4_\" style=\"background-color:#ffffff;color:#000000;\"> </td> <td class=\"z_0 r_1 p1_nummerierung, p2_p3_0_, p4_\"> </td> <td class=\"z_0 r_2 p1_Grundstrukturen,Menschliches,Wichtigstes_zum_verstehen, p2_p3_0_Paradigmen_sind_Absichten_(13),p3_1_Motive,p3_2_Wichtigste,p3_3_,p3_4_,p3_5_, p4_0,3\"> Intentionen bzw. Motive für Sternpolygone, </td> <td class=\"z_0 r_3 p1_Grundstrukturen,Grundstrukturen,Menschliches, p2_p3_0_Paradigmen_sind_Absichten_(13),p3_1_Reziprokes,p3_2_Motive,p3_3_,p3_4_,p3_5_, p4_1,3\"> wollen) (ggf. rationale) </td> </tr>\n",
       "<tr style=\"background-color:#ff2222;color:#002222;\"> <td class=\"z_0 r_0 p1_zaehlung, p2_p3_0_, p4_\" style=\"background-color:#ffffff;color:#000000;\"> </td> <td class=\"z_0 r_1 p1_nummerierung, p2_p3_0_, p4_\"> </td> <td class=\"z_0 r_2 p1_Grundstrukturen,Menschliches,Wichtigstes_zum_verstehen, p2_p3_0_Paradigmen_sind_Absichten_(13),p3_1_Motive,p3_2_Wichtigste,p3_3_,p3_4_,p3_5_, p4_0,3\"> Paradigmen (u.a. 13, Paradigmen sind nicht nur Typ </td> <td class=\"z_0 r_3 p1_Grundstrukturen,Grundstrukturen,Menschliches, p2_p3_0_Paradigmen_sind_Absichten_(13),p3_1_Reziprokes,p3_2_Motive,p3_3_,p3_4_,p3_5_, p4_1,3\"> Motive für gleichförmige </td> </tr>\n",
       "<tr style=\"background-color:#ff2222;color:#002222;\"> <td class=\"z_0 r_0 p1_zaehlung, p2_p3_0_, p4_\" style=\"background-color:#ffffff;color:#000000;\"> </td> <td class=\"z_0 r_1 p1_nummerierung, p2_p3_0_, p4_\"> </td> <td class=\"z_0 r_2 p1_Grundstrukturen,Menschliches,Wichtigstes_zum_verstehen, p2_p3_0_Paradigmen_sind_Absichten_(13),p3_1_Motive,p3_2_Wichtigste,p3_3_,p3_4_,p3_5_, p4_0,3\"> 13, weil vermenschlicht) (Ein beliebiges Motiv zu </td> <td class=\"z_0 r_3 p1_Grundstrukturen,Grundstrukturen,Menschliches, p2_p3_0_Paradigmen_sind_Absichten_(13),p3_1_Reziprokes,p3_2_Motive,p3_3_,p3_4_,p3_5_, p4_1,3\"> Polygone, Paradigmen, </td> </tr>\n",
       "<tr style=\"background-color:#ff2222;color:#002222;\"> <td class=\"z_0 r_0 p1_zaehlung, p2_p3_0_, p4_\" style=\"background-color:#ffffff;color:#000000;\"> </td> <td class=\"z_0 r_1 p1_nummerierung, p2_p3_0_, p4_\"> </td> <td class=\"z_0 r_2 p1_Grundstrukturen,Menschliches,Wichtigstes_zum_verstehen, p2_p3_0_Paradigmen_sind_Absichten_(13),p3_1_Motive,p3_2_Wichtigste,p3_3_,p3_4_,p3_5_, p4_0,3\"> haben ist Typ 1) (Jedes einzelne Motiv ergibt sich </td> <td class=\"z_0 r_3 p1_Grundstrukturen,Grundstrukturen,Menschliches, p2_p3_0_Paradigmen_sind_Absichten_(13),p3_1_Reziprokes,p3_2_Motive,p3_3_,p3_4_,p3_5_, p4_1,3\"> Reziproke 1/n (13 und oder 14) </td> </tr>\n",
       "<tr style=\"background-color:#ff2222;color:#002222;\"> <td class=\"z_0 r_0 p1_zaehlung, p2_p3_0_, p4_\" style=\"background-color:#ffffff;color:#000000;\"> </td> <td class=\"z_0 r_1 p1_nummerierung, p2_p3_0_, p4_\"> </td> <td class=\"z_0 r_2 p1_Grundstrukturen,Menschliches,Wichtigstes_zum_verstehen, p2_p3_0_Paradigmen_sind_Absichten_(13),p3_1_Motive,p3_2_Wichtigste,p3_3_,p3_4_,p3_5_, p4_0,3\"> auch daraus, aus welchen Paradigmen und Meta- </td> <td class=\"z_0 r_3 p1_Grundstrukturen,Grundstrukturen,Menschliches, p2_p3_0_Paradigmen_sind_Absichten_(13),p3_1_Reziprokes,p3_2_Motive,p3_3_,p3_4_,p3_5_, p4_1,3\"> </td> </tr>\n",
       "<tr style=\"background-color:#ff2222;color:#002222;\"> <td class=\"z_0 r_0 p1_zaehlung, p2_p3_0_, p4_\" style=\"background-color:#ffffff;color:#000000;\"> </td> <td class=\"z_0 r_1 p1_nummerierung, p2_p3_0_, p4_\"> </td> <td class=\"z_0 r_2 p1_Grundstrukturen,Menschliches,Wichtigstes_zum_verstehen, p2_p3_0_Paradigmen_sind_Absichten_(13),p3_1_Motive,p3_2_Wichtigste,p3_3_,p3_4_,p3_5_, p4_0,3\"> Paradigmen der Mensch besteht, ist also immer eine </td> <td class=\"z_0 r_3 p1_Grundstrukturen,Grundstrukturen,Menschliches, p2_p3_0_Paradigmen_sind_Absichten_(13),p3_1_Reziprokes,p3_2_Motive,p3_3_,p3_4_,p3_5_, p4_1,3\"> </td> </tr>\n",
       "<tr style=\"background-color:#ff2222;color:#002222;\"> <td class=\"z_0 r_0 p1_zaehlung, p2_p3_0_, p4_\" style=\"background-color:#ffffff;color:#000000;\"> </td> <td class=\"z_0 r_1 p1_nummerierung, p2_p3_0_, p4_\"> </td> <td class=\"z_0 r_2 p1_Grundstrukturen,Menschliches,Wichtigstes_zum_verstehen, p2_p3_0_Paradigmen_sind_Absichten_(13),p3_1_Motive,p3_2_Wichtigste,p3_3_,p3_4_,p3_5_, p4_0,3\"> Zusammensetzung) Absichten (13) als Form des </td> <td class=\"z_0 r_3 p1_Grundstrukturen,Grundstrukturen,Menschliches, p2_p3_0_Paradigmen_sind_Absichten_(13),p3_1_Reziprokes,p3_2_Motive,p3_3_,p3_4_,p3_5_, p4_1,3\"> </td> </tr>\n",
       "<tr style=\"background-color:#ff2222;color:#002222;\"> <td class=\"z_0 r_0 p1_zaehlung, p2_p3_0_, p4_\" style=\"background-color:#ffffff;color:#000000;\"> </td> <td class=\"z_0 r_1 p1_nummerierung, p2_p3_0_, p4_\"> </td> <td class=\"z_0 r_2 p1_Grundstrukturen,Menschliches,Wichtigstes_zum_verstehen, p2_p3_0_Paradigmen_sind_Absichten_(13),p3_1_Motive,p3_2_Wichtigste,p3_3_,p3_4_,p3_5_, p4_0,3\"> Geistes (15) </td> <td class=\"z_0 r_3 p1_Grundstrukturen,Grundstrukturen,Menschliches, p2_p3_0_Paradigmen_sind_Absichten_(13),p3_1_Reziprokes,p3_2_Motive,p3_3_,p3_4_,p3_5_, p4_1,3\"> </td> </tr>\n",
       "<tr style=\"background-color:#555500;color:#aaaaff;\"> <td style=\"background-color:#ffffff;color:#000000;\"> 1 </td> <td> 1 </td> <td> „Absicht“ (jegliche beliebige Absichten) (und </td> <td> die Methode des Wie; fachliche </td> </tr>\n",
       "<tr style=\"background-color:#555500;color:#aaaaff;\"> <td style=\"background-color:#ffffff;color:#000000;\"> 1 </td> <td> </td> <td> alles weitere, das alle Paradigmen haben: einen </td> <td> Spezialisierung (2/2), </td> </tr>\n",
       "<tr style=\"background-color:#555500;color:#aaaaff;\"> <td style=\"background-color:#ffffff;color:#000000;\"> 1 </td> <td> </td> <td> „Denkansatz“) </td> <td> wählerisch sein (3/3) (halb </td> </tr>\n",
       "<tr style=\"background-color:#555500;color:#aaaaff;\"> <td style=\"background-color:#ffffff;color:#000000;\"> 1 </td> <td> </td> <td> </td> <td> bis größtenteils sicher); Das </td> </tr>\n",
       "<tr style=\"background-color:#555500;color:#aaaaff;\"> <td style=\"background-color:#ffffff;color:#000000;\"> 1 </td> <td> </td> <td> </td> <td> hier alles ist wahrscheinlich </td> </tr>\n",
       "<tr style=\"background-color:#555500;color:#aaaaff;\"> <td style=\"background-color:#ffffff;color:#000000;\"> 1 </td> <td> </td> <td> </td> <td> falsch: Erschaffen, zustande </td> </tr>\n",
       "<tr style=\"background-color:#555500;color:#aaaaff;\"> <td style=\"background-color:#ffffff;color:#000000;\"> 1 </td> <td> </td> <td> </td> <td> bringen (4/4); genügen (5/5); </td> </tr>\n",
       "<tr style=\"background-color:#555500;color:#aaaaff;\"> <td style=\"background-color:#ffffff;color:#000000;\"> 1 </td> <td> </td> <td> </td> <td> veranschlagen oder Effizienz </td> </tr>\n",
       "<tr style=\"background-color:#555500;color:#aaaaff;\"> <td style=\"background-color:#ffffff;color:#000000;\"> 1 </td> <td> </td> <td> </td> <td> und Effektivität (6/6); </td> </tr>\n",
       "<tr style=\"background-color:#555500;color:#aaaaff;\"> <td style=\"background-color:#ffffff;color:#000000;\"> 1 </td> <td> </td> <td> </td> <td> korrespondieren (7/7); </td> </tr>\n",
       "<tr style=\"background-color:#555500;color:#aaaaff;\"> <td style=\"background-color:#ffffff;color:#000000;\"> 1 </td> <td> </td> <td> </td> <td> Gerechtigkeit bestimmen (8/8); </td> </tr>\n",
       "<tr style=\"background-color:#555500;color:#aaaaff;\"> <td style=\"background-color:#ffffff;color:#000000;\"> 1 </td> <td> </td> <td> </td> <td> Zweckmäßigkeit (9/9); </td> </tr>\n",
       "<tr style=\"background-color:#555500;color:#aaaaff;\"> <td style=\"background-color:#ffffff;color:#000000;\"> 1 </td> <td> </td> <td> </td> <td> Tragweite bestimmen (10/10) </td> </tr>\n",
       "</table>\n"
      ],
      "text/plain": [
       "<IPython.core.display.HTML object>"
      ]
     },
     "execution_count": 19,
     "metadata": {},
     "output_type": "execute_result"
    }
   ],
   "source": [
    "befehl = \"reta -zeilen --vorhervonausschnitt=1 -spalten --breite=25 --breiten=50,30 --grundstrukturen=paradigmen -ausgabe --art=html --onetable\".split()\n",
    "htmlAusgabe = externCommand(\"/home/alex/myRepos/reta/rp\",[\"-befehl\",*befehl])\n",
    "\n",
    "# Geben Sie das HTML in einer Jupyter-Notebook-Zelle aus\n",
    "#Ausgabe war, richtig: 1:5,6,15,25,31,32,45,64\n",
    "HTML(htmlAusgabe)"
   ]
  },
  {
   "cell_type": "code",
   "execution_count": 20,
   "id": "765ffd07",
   "metadata": {},
   "outputs": [
    {
     "data": {
      "text/html": [
       "<table border=0 id=\"bigtable\">\n",
       "<tr style=\"background-color:#ff2222;color:#002222;\"> <td class=\"z_0 r_0 p1_zaehlung, p2_p3_0_, p4_\" style=\"background-color:#ffffff;color:#000000;\"> </td> <td class=\"z_0 r_1 p1_nummerierung, p2_p3_0_, p4_\"> </td> <td class=\"z_0 r_2 p1_Grundstrukturen,Menschliches,Wichtigstes_zum_verstehen, p2_p3_0_Paradigmen_sind_Absichten_(13),p3_1_Motive,p3_2_Wichtigste,p3_3_,p3_4_,p3_5_, p4_0,3\"> Intrinsische (nicht extrinsische) (intrinsisch = </td> <td class=\"z_0 r_3 p1_Grundstrukturen,Grundstrukturen,Menschliches, p2_p3_0_Paradigmen_sind_Absichten_(13),p3_1_Reziprokes,p3_2_Motive,p3_3_,p3_4_,p3_5_, p4_1,3\"> Extrinsische (= es indirekt </td> </tr>\n",
       "<tr style=\"background-color:#ff2222;color:#002222;\"> <td class=\"z_0 r_0 p1_zaehlung, p2_p3_0_, p4_\" style=\"background-color:#ffffff;color:#000000;\"> </td> <td class=\"z_0 r_1 p1_nummerierung, p2_p3_0_, p4_\"> </td> <td class=\"z_0 r_2 p1_Grundstrukturen,Menschliches,Wichtigstes_zum_verstehen, p2_p3_0_Paradigmen_sind_Absichten_(13),p3_1_Motive,p3_2_Wichtigste,p3_3_,p3_4_,p3_5_, p4_0,3\"> es direkt wollen und nicht indirekt) emotionale </td> <td class=\"z_0 r_3 p1_Grundstrukturen,Grundstrukturen,Menschliches, p2_p3_0_Paradigmen_sind_Absichten_(13),p3_1_Reziprokes,p3_2_Motive,p3_3_,p3_4_,p3_5_, p4_1,3\"> wollen und nicht direkt zu </td> </tr>\n",
       "<tr style=\"background-color:#ff2222;color:#002222;\"> <td class=\"z_0 r_0 p1_zaehlung, p2_p3_0_, p4_\" style=\"background-color:#ffffff;color:#000000;\"> </td> <td class=\"z_0 r_1 p1_nummerierung, p2_p3_0_, p4_\"> </td> <td class=\"z_0 r_2 p1_Grundstrukturen,Menschliches,Wichtigstes_zum_verstehen, p2_p3_0_Paradigmen_sind_Absichten_(13),p3_1_Motive,p3_2_Wichtigste,p3_3_,p3_4_,p3_5_, p4_0,3\"> Intentionen bzw. Motive für Sternpolygone, </td> <td class=\"z_0 r_3 p1_Grundstrukturen,Grundstrukturen,Menschliches, p2_p3_0_Paradigmen_sind_Absichten_(13),p3_1_Reziprokes,p3_2_Motive,p3_3_,p3_4_,p3_5_, p4_1,3\"> wollen) (ggf. rationale) </td> </tr>\n",
       "<tr style=\"background-color:#ff2222;color:#002222;\"> <td class=\"z_0 r_0 p1_zaehlung, p2_p3_0_, p4_\" style=\"background-color:#ffffff;color:#000000;\"> </td> <td class=\"z_0 r_1 p1_nummerierung, p2_p3_0_, p4_\"> </td> <td class=\"z_0 r_2 p1_Grundstrukturen,Menschliches,Wichtigstes_zum_verstehen, p2_p3_0_Paradigmen_sind_Absichten_(13),p3_1_Motive,p3_2_Wichtigste,p3_3_,p3_4_,p3_5_, p4_0,3\"> Paradigmen (u.a. 13, Paradigmen sind nicht nur Typ </td> <td class=\"z_0 r_3 p1_Grundstrukturen,Grundstrukturen,Menschliches, p2_p3_0_Paradigmen_sind_Absichten_(13),p3_1_Reziprokes,p3_2_Motive,p3_3_,p3_4_,p3_5_, p4_1,3\"> Motive für gleichförmige </td> </tr>\n",
       "<tr style=\"background-color:#ff2222;color:#002222;\"> <td class=\"z_0 r_0 p1_zaehlung, p2_p3_0_, p4_\" style=\"background-color:#ffffff;color:#000000;\"> </td> <td class=\"z_0 r_1 p1_nummerierung, p2_p3_0_, p4_\"> </td> <td class=\"z_0 r_2 p1_Grundstrukturen,Menschliches,Wichtigstes_zum_verstehen, p2_p3_0_Paradigmen_sind_Absichten_(13),p3_1_Motive,p3_2_Wichtigste,p3_3_,p3_4_,p3_5_, p4_0,3\"> 13, weil vermenschlicht) (Ein beliebiges Motiv zu </td> <td class=\"z_0 r_3 p1_Grundstrukturen,Grundstrukturen,Menschliches, p2_p3_0_Paradigmen_sind_Absichten_(13),p3_1_Reziprokes,p3_2_Motive,p3_3_,p3_4_,p3_5_, p4_1,3\"> Polygone, Paradigmen, </td> </tr>\n",
       "<tr style=\"background-color:#ff2222;color:#002222;\"> <td class=\"z_0 r_0 p1_zaehlung, p2_p3_0_, p4_\" style=\"background-color:#ffffff;color:#000000;\"> </td> <td class=\"z_0 r_1 p1_nummerierung, p2_p3_0_, p4_\"> </td> <td class=\"z_0 r_2 p1_Grundstrukturen,Menschliches,Wichtigstes_zum_verstehen, p2_p3_0_Paradigmen_sind_Absichten_(13),p3_1_Motive,p3_2_Wichtigste,p3_3_,p3_4_,p3_5_, p4_0,3\"> haben ist Typ 1) (Jedes einzelne Motiv ergibt sich </td> <td class=\"z_0 r_3 p1_Grundstrukturen,Grundstrukturen,Menschliches, p2_p3_0_Paradigmen_sind_Absichten_(13),p3_1_Reziprokes,p3_2_Motive,p3_3_,p3_4_,p3_5_, p4_1,3\"> Reziproke 1/n (13 und oder 14) </td> </tr>\n",
       "<tr style=\"background-color:#ff2222;color:#002222;\"> <td class=\"z_0 r_0 p1_zaehlung, p2_p3_0_, p4_\" style=\"background-color:#ffffff;color:#000000;\"> </td> <td class=\"z_0 r_1 p1_nummerierung, p2_p3_0_, p4_\"> </td> <td class=\"z_0 r_2 p1_Grundstrukturen,Menschliches,Wichtigstes_zum_verstehen, p2_p3_0_Paradigmen_sind_Absichten_(13),p3_1_Motive,p3_2_Wichtigste,p3_3_,p3_4_,p3_5_, p4_0,3\"> auch daraus, aus welchen Paradigmen und Meta- </td> <td class=\"z_0 r_3 p1_Grundstrukturen,Grundstrukturen,Menschliches, p2_p3_0_Paradigmen_sind_Absichten_(13),p3_1_Reziprokes,p3_2_Motive,p3_3_,p3_4_,p3_5_, p4_1,3\"> </td> </tr>\n",
       "<tr style=\"background-color:#ff2222;color:#002222;\"> <td class=\"z_0 r_0 p1_zaehlung, p2_p3_0_, p4_\" style=\"background-color:#ffffff;color:#000000;\"> </td> <td class=\"z_0 r_1 p1_nummerierung, p2_p3_0_, p4_\"> </td> <td class=\"z_0 r_2 p1_Grundstrukturen,Menschliches,Wichtigstes_zum_verstehen, p2_p3_0_Paradigmen_sind_Absichten_(13),p3_1_Motive,p3_2_Wichtigste,p3_3_,p3_4_,p3_5_, p4_0,3\"> Paradigmen der Mensch besteht, ist also immer eine </td> <td class=\"z_0 r_3 p1_Grundstrukturen,Grundstrukturen,Menschliches, p2_p3_0_Paradigmen_sind_Absichten_(13),p3_1_Reziprokes,p3_2_Motive,p3_3_,p3_4_,p3_5_, p4_1,3\"> </td> </tr>\n",
       "<tr style=\"background-color:#ff2222;color:#002222;\"> <td class=\"z_0 r_0 p1_zaehlung, p2_p3_0_, p4_\" style=\"background-color:#ffffff;color:#000000;\"> </td> <td class=\"z_0 r_1 p1_nummerierung, p2_p3_0_, p4_\"> </td> <td class=\"z_0 r_2 p1_Grundstrukturen,Menschliches,Wichtigstes_zum_verstehen, p2_p3_0_Paradigmen_sind_Absichten_(13),p3_1_Motive,p3_2_Wichtigste,p3_3_,p3_4_,p3_5_, p4_0,3\"> Zusammensetzung) Absichten (13) als Form des </td> <td class=\"z_0 r_3 p1_Grundstrukturen,Grundstrukturen,Menschliches, p2_p3_0_Paradigmen_sind_Absichten_(13),p3_1_Reziprokes,p3_2_Motive,p3_3_,p3_4_,p3_5_, p4_1,3\"> </td> </tr>\n",
       "<tr style=\"background-color:#ff2222;color:#002222;\"> <td class=\"z_0 r_0 p1_zaehlung, p2_p3_0_, p4_\" style=\"background-color:#ffffff;color:#000000;\"> </td> <td class=\"z_0 r_1 p1_nummerierung, p2_p3_0_, p4_\"> </td> <td class=\"z_0 r_2 p1_Grundstrukturen,Menschliches,Wichtigstes_zum_verstehen, p2_p3_0_Paradigmen_sind_Absichten_(13),p3_1_Motive,p3_2_Wichtigste,p3_3_,p3_4_,p3_5_, p4_0,3\"> Geistes (15) </td> <td class=\"z_0 r_3 p1_Grundstrukturen,Grundstrukturen,Menschliches, p2_p3_0_Paradigmen_sind_Absichten_(13),p3_1_Reziprokes,p3_2_Motive,p3_3_,p3_4_,p3_5_, p4_1,3\"> </td> </tr>\n",
       "<tr style=\"background-color:#555500;color:#aaaaff;\"> <td style=\"background-color:#ffffff;color:#000000;\"> 1 </td> <td> 1 </td> <td> „Absicht“ (jegliche beliebige Absichten) (und </td> <td> die Methode des Wie; fachliche </td> </tr>\n",
       "<tr style=\"background-color:#555500;color:#aaaaff;\"> <td style=\"background-color:#ffffff;color:#000000;\"> 1 </td> <td> </td> <td> alles weitere, das alle Paradigmen haben: einen </td> <td> Spezialisierung (2/2), </td> </tr>\n",
       "<tr style=\"background-color:#555500;color:#aaaaff;\"> <td style=\"background-color:#ffffff;color:#000000;\"> 1 </td> <td> </td> <td> „Denkansatz“) </td> <td> wählerisch sein (3/3) (halb </td> </tr>\n",
       "<tr style=\"background-color:#555500;color:#aaaaff;\"> <td style=\"background-color:#ffffff;color:#000000;\"> 1 </td> <td> </td> <td> </td> <td> bis größtenteils sicher); Das </td> </tr>\n",
       "<tr style=\"background-color:#555500;color:#aaaaff;\"> <td style=\"background-color:#ffffff;color:#000000;\"> 1 </td> <td> </td> <td> </td> <td> hier alles ist wahrscheinlich </td> </tr>\n",
       "<tr style=\"background-color:#555500;color:#aaaaff;\"> <td style=\"background-color:#ffffff;color:#000000;\"> 1 </td> <td> </td> <td> </td> <td> falsch: Erschaffen, zustande </td> </tr>\n",
       "<tr style=\"background-color:#555500;color:#aaaaff;\"> <td style=\"background-color:#ffffff;color:#000000;\"> 1 </td> <td> </td> <td> </td> <td> bringen (4/4); genügen (5/5); </td> </tr>\n",
       "<tr style=\"background-color:#555500;color:#aaaaff;\"> <td style=\"background-color:#ffffff;color:#000000;\"> 1 </td> <td> </td> <td> </td> <td> veranschlagen oder Effizienz </td> </tr>\n",
       "<tr style=\"background-color:#555500;color:#aaaaff;\"> <td style=\"background-color:#ffffff;color:#000000;\"> 1 </td> <td> </td> <td> </td> <td> und Effektivität (6/6); </td> </tr>\n",
       "<tr style=\"background-color:#555500;color:#aaaaff;\"> <td style=\"background-color:#ffffff;color:#000000;\"> 1 </td> <td> </td> <td> </td> <td> korrespondieren (7/7); </td> </tr>\n",
       "<tr style=\"background-color:#555500;color:#aaaaff;\"> <td style=\"background-color:#ffffff;color:#000000;\"> 1 </td> <td> </td> <td> </td> <td> Gerechtigkeit bestimmen (8/8); </td> </tr>\n",
       "<tr style=\"background-color:#555500;color:#aaaaff;\"> <td style=\"background-color:#ffffff;color:#000000;\"> 1 </td> <td> </td> <td> </td> <td> Zweckmäßigkeit (9/9); </td> </tr>\n",
       "<tr style=\"background-color:#555500;color:#aaaaff;\"> <td style=\"background-color:#ffffff;color:#000000;\"> 1 </td> <td> </td> <td> </td> <td> Tragweite bestimmen (10/10) </td> </tr>\n",
       "</table>\n"
      ],
      "text/plain": [
       "<IPython.core.display.HTML object>"
      ]
     },
     "execution_count": 20,
     "metadata": {},
     "output_type": "execute_result"
    }
   ],
   "source": [
    "befehl = \"reta -zeilen --vorhervonausschnitt=1 -spalten --breite=0 --breiten=50,30 --grundstrukturen=paradigmen -ausgabe --art=html --onetable\".split()\n",
    "htmlAusgabe = externCommand(\"/home/alex/myRepos/reta/rp\",[\"-befehl\",*befehl])\n",
    "\n",
    "# Geben Sie das HTML in einer Jupyter-Notebook-Zelle aus\n",
    "#Ausgabe war, richtig: 1:5,6,15,25,31,32,45,64\n",
    "HTML(htmlAusgabe)"
   ]
  },
  {
   "cell_type": "code",
   "execution_count": 21,
   "id": "078c8cc2",
   "metadata": {},
   "outputs": [
    {
     "data": {
      "text/html": [
       "<table border=0 id=\"bigtable\">\n",
       "<tr style=\"background-color:#ff2222;color:#002222;\"> <td class=\"z_0 r_0 p1_zaehlung, p2_p3_0_, p4_\" style=\"background-color:#ffffff;color:#000000;\"> </td> <td class=\"z_0 r_1 p1_nummerierung, p2_p3_0_, p4_\"> </td> <td class=\"z_0 r_2 p1_Grundstrukturen,Menschliches,Wichtigstes_zum_verstehen, p2_p3_0_Paradigmen_sind_Absichten_(13),p3_1_Motive,p3_2_Wichtigste,p3_3_,p3_4_,p3_5_, p4_0,3\"> Intrinsische (nicht extrinsische) (intrinsisch = es direkt wollen und nicht indirekt) emotionale Intentionen bzw. Motive für Sternpolygone, Paradigmen (u.a. 13, Paradigmen sind nicht nur Typ 13, weil vermenschlicht) (Ein beliebiges Motiv zu haben ist Typ 1) (Jedes einzelne Motiv ergibt sich auch daraus, aus welchen Paradigmen und Meta-Paradigmen der Mensch besteht, ist also immer eine Zusammensetzung) Absichten (13) als Form des Geistes (15) </td> <td class=\"z_0 r_3 p1_Grundstrukturen,Grundstrukturen,Menschliches, p2_p3_0_Paradigmen_sind_Absichten_(13),p3_1_Reziprokes,p3_2_Motive,p3_3_,p3_4_,p3_5_, p4_1,3\"> Extrinsische (= es indirekt wollen und nicht direkt zu wollen) (ggf. rationale) Motive für gleichförmige Polygone, Paradigmen, Reziproke 1/n (13 und oder 14) </td> </tr>\n",
       "<tr style=\"background-color:#555500;color:#aaaaff;\"> <td style=\"background-color:#ffffff;color:#000000;\"> 1 </td> <td> 1 </td> <td> „Absicht“ (jegliche beliebige Absichten) (und alles weitere, das alle Paradigmen haben: einen „Denkansatz“) </td> <td> die Methode des Wie; fachliche Spezialisierung (2/2), wählerisch sein (3/3) (halb bis größtenteils sicher); Das hier alles ist wahrscheinlich falsch: Erschaffen, zustande bringen (4/4); genügen (5/5); veranschlagen oder Effizienz und Effektivität (6/6); korrespondieren (7/7); Gerechtigkeit bestimmen (8/8); Zweckmäßigkeit (9/9); Tragweite bestimmen (10/10) </td> </tr>\n",
       "</table>\n"
      ],
      "text/plain": [
       "<IPython.core.display.HTML object>"
      ]
     },
     "execution_count": 21,
     "metadata": {},
     "output_type": "execute_result"
    }
   ],
   "source": [
    "befehl = \"reta -zeilen --vorhervonausschnitt=1 -spalten --breite=0 --grundstrukturen=paradigmen -ausgabe --art=html\".split()\n",
    "htmlAusgabe = externCommand(\"/home/alex/myRepos/reta/rp\",[\"-befehl\",*befehl])\n",
    "\n",
    "# Geben Sie das HTML in einer Jupyter-Notebook-Zelle aus\n",
    "#Ausgabe war, richtig: 1:5,6,15,25,31,32,45,64\n",
    "HTML(htmlAusgabe)"
   ]
  },
  {
   "cell_type": "code",
   "execution_count": 26,
   "id": "4d317fa8",
   "metadata": {},
   "outputs": [
    {
     "data": {
      "text/markdown": [
       "*some markdown* $\\phi$"
      ],
      "text/plain": [
       "<IPython.core.display.Markdown object>"
      ]
     },
     "metadata": {},
     "output_type": "display_data"
    },
    {
     "data": {
      "text/markdown": [
       "| | |Intrinsische (nicht extrinsische) (intrinsisch = es direkt wollen und nicht indirekt) emotionale Intentionen bzw. Motive für Sternpolygone, Paradigmen (u.a. 13, Paradigmen sind nicht nur Typ 13, weil vermenschlicht) (Ein beliebiges Motiv zu haben ist Typ 1) (Jedes einzelne Motiv ergibt sich auch daraus, aus welchen Paradigmen und Meta-Paradigmen der Mensch besteht, ist also immer eine Zusammensetzung) Absichten (13) als Form des Geistes (15) |Extrinsische (= es indirekt wollen und nicht direkt zu wollen) (ggf. rationale) Motive für gleichförmige Polygone, Paradigmen, Reziproke 1/n (13 und oder 14) |\n",
       "|:--:|:--:|:--:|:--:|\n",
       "|1|1 |„Absicht“ (jegliche beliebige Absichten) (und alles weitere, das alle Paradigmen haben: einen „Denkansatz“) |die Methode des Wie; fachliche Spezialisierung (2/2), wählerisch sein (3/3) (halb bis größtenteils sicher); Das hier alles ist wahrscheinlich falsch: Erschaffen, zustande bringen (4/4); genügen (5/5); veranschlagen oder Effizienz und Effektivität (6/6); korrespondieren (7/7); Gerechtigkeit bestimmen (8/8); Zweckmäßigkeit (9/9); Tragweite bestimmen (10/10) |\n",
       "|1|2 |„Können“ (bzw,. „Können wollen“ 2*1) (Allein die Fähigkeit besitzen wollen [1], sich fortpflanzen zu können [2] [1*2=2]) |möglich, Gelegenheiten ergreifen, andere befähigen, Talent (haben wollen) (größtenteils sicher) |\n",
       "|1|3 |‚Nutzen‘ (altes Testament und Mensch); wahrscheinlich: „ ‚Beißen‘ als zentrales Konzept; ‚Mimese‘ und ‚Mimikry‘ (3 mit wahrscheinlich auch 2)“; Rüssel eines Elefanten und Tentakel nutzen als weitere Formen |Pragmatismus, pragmatisch sein (größtenteils sicher) (1/3), formen, wandeln (3/9) |\n"
      ],
      "text/plain": [
       "<IPython.core.display.Markdown object>"
      ]
     },
     "metadata": {},
     "output_type": "display_data"
    }
   ],
   "source": [
    "from IPython.display import display, Markdown\n",
    "display(Markdown('*some markdown* $\\phi$'))\n",
    "befehl = \"reta -zeilen --vorhervonausschnitt=1-2+1 -spalten --breite=0 --grundstrukturen=paradigmen -ausgabe --art=markdown\".split()\n",
    "Ausgabe = externCommand(\"/home/alex/myRepos/reta/rp\",[\"-befehl\",*befehl])\n",
    "\n",
    "# Geben Sie das HTML in einer Jupyter-Notebook-Zelle aus\n",
    "#Ausgabe war, richtig: 1:5,6,15,25,31,32,45,64\n",
    "HTML(htmlAusgabe)\n",
    "display(Markdown(Ausgabe))"
   ]
  },
  {
   "cell_type": "code",
   "execution_count": 27,
   "id": "91df9632",
   "metadata": {},
   "outputs": [
    {
     "data": {
      "text/html": [
       "<!DOCTYPE HTML PUBLIC \"-//W3C//DTD HTML 4.01 Transitional//EN\" \"http://www.w3.org/TR/html4/loose.dtd\">\n",
       "<html>\n",
       "<head>\n",
       "<meta http-equiv=\"Content-Type\" content=\"text/html; charset=utf-8\">\n",
       "<title></title>\n",
       "<style type=\"text/css\">\n",
       ".ansi2html-content { display: inline; white-space: pre-wrap; word-wrap: break-word; }\n",
       ".body_foreground { color: #AAAAAA; }\n",
       ".body_background { background-color: #000000; }\n",
       ".inv_foreground { color: #000000; }\n",
       ".inv_background { background-color: #AAAAAA; }\n",
       "</style>\n",
       "</head>\n",
       "<body class=\"body_foreground body_background\" style=\"font-size: normal;\" >\n",
       "<pre class=\"ansi2html-content\">\n",
       "Der Haupt-Parameter \"-ausg\" existiert hier nicht als Befehl! Es ist nur möglich: -zeilen, -spalten, -kombination, -ausgabe, -debug, -h, -help\n",
       "\n",
       "</pre>\n",
       "</body>\n",
       "\n",
       "</html>\n"
      ],
      "text/plain": [
       "<IPython.core.display.HTML object>"
      ]
     },
     "metadata": {},
     "output_type": "display_data"
    }
   ],
   "source": [
    "befehl = \"reta -ausg\".split()\n",
    "html_output = converter.convert(externCommand(\"/home/alex/myRepos/reta/rp\",[\"-befehl\",*befehl]))\n",
    "\n",
    "# Geben Sie das HTML in einer Jupyter-Notebook-Zelle aus\n",
    "from IPython.core.display import HTML\n",
    "display(HTML(html_output))"
   ]
  },
  {
   "cell_type": "code",
   "execution_count": 32,
   "id": "373947b6",
   "metadata": {},
   "outputs": [
    {
     "data": {
      "text/html": [
       "<!DOCTYPE HTML PUBLIC \"-//W3C//DTD HTML 4.01 Transitional//EN\" \"http://www.w3.org/TR/html4/loose.dtd\">\n",
       "<html>\n",
       "<head>\n",
       "<meta http-equiv=\"Content-Type\" content=\"text/html; charset=utf-8\">\n",
       "<title></title>\n",
       "<style type=\"text/css\">\n",
       ".ansi2html-content { display: inline; white-space: pre-wrap; word-wrap: break-word; }\n",
       ".body_foreground { color: #AAAAAA; }\n",
       ".body_background { background-color: #000000; }\n",
       ".inv_foreground { color: #000000; }\n",
       ".inv_background { background-color: #AAAAAA; }\n",
       "</style>\n",
       "</head>\n",
       "<body class=\"body_foreground body_background\" style=\"font-size: normal;\" >\n",
       "<pre class=\"ansi2html-content\">\n",
       "Der Haupt-Parameter \"-ausgab\" existiert hier nicht als Befehl! Es ist nur möglich: -zeilen, -spalten, -kombination, -ausgabe, -debug, -h, -help\n",
       "\n",
       "</pre>\n",
       "</body>\n",
       "\n",
       "</html>\n"
      ],
      "text/plain": [
       "<IPython.core.display.HTML object>"
      ]
     },
     "metadata": {},
     "output_type": "display_data"
    },
    {
     "data": {
      "text/html": [
       "<!DOCTYPE HTML PUBLIC \"-//W3C//DTD HTML 4.01 Transitional//EN\" \"http://www.w3.org/TR/html4/loose.dtd\">\n",
       "<html>\n",
       "<head>\n",
       "<meta http-equiv=\"Content-Type\" content=\"text/html; charset=utf-8\">\n",
       "<title></title>\n",
       "<style type=\"text/css\">\n",
       ".ansi2html-content { display: inline; white-space: pre-wrap; word-wrap: break-word; }\n",
       ".body_foreground { color: #AAAAAA; }\n",
       ".body_background { background-color: #000000; }\n",
       ".inv_foreground { color: #000000; }\n",
       ".inv_background { background-color: #AAAAAA; }\n",
       "</style>\n",
       "</head>\n",
       "<body class=\"body_foreground body_background\" style=\"font-size: normal;\" >\n",
       "<pre class=\"ansi2html-content\">\n",
       "kein Unter-Parameter \"--galaxie=\" oder \"--universum=\" angegeben für Hauptparameter -kombination\n",
       "kein Unter-Parameter \"--galaxie=\" oder \"--universum=\" angegeben für Hauptparameter -kombination\n",
       "\n",
       "</pre>\n",
       "</body>\n",
       "\n",
       "</html>\n"
      ],
      "text/plain": [
       "<IPython.core.display.HTML object>"
      ]
     },
     "metadata": {},
     "output_type": "display_data"
    },
    {
     "data": {
      "text/html": [
       "<!DOCTYPE HTML PUBLIC \"-//W3C//DTD HTML 4.01 Transitional//EN\" \"http://www.w3.org/TR/html4/loose.dtd\">\n",
       "<html>\n",
       "<head>\n",
       "<meta http-equiv=\"Content-Type\" content=\"text/html; charset=utf-8\">\n",
       "<title></title>\n",
       "<style type=\"text/css\">\n",
       ".ansi2html-content { display: inline; white-space: pre-wrap; word-wrap: break-word; }\n",
       ".body_foreground { color: #AAAAAA; }\n",
       ".body_background { background-color: #000000; }\n",
       ".inv_foreground { color: #000000; }\n",
       ".inv_background { background-color: #AAAAAA; }\n",
       "</style>\n",
       "</head>\n",
       "<body class=\"body_foreground body_background\" style=\"font-size: normal;\" >\n",
       "<pre class=\"ansi2html-content\">\n",
       "Den Neben-Parameter \"--assd\" gibt es hier nicht für den Hauptparameter \"-ausgabe\". Oder es fehlt ein = dahinter.\n",
       "\n",
       "</pre>\n",
       "</body>\n",
       "\n",
       "</html>\n"
      ],
      "text/plain": [
       "<IPython.core.display.HTML object>"
      ]
     },
     "metadata": {},
     "output_type": "display_data"
    },
    {
     "data": {
      "text/html": [
       "<!DOCTYPE HTML PUBLIC \"-//W3C//DTD HTML 4.01 Transitional//EN\" \"http://www.w3.org/TR/html4/loose.dtd\">\n",
       "<html>\n",
       "<head>\n",
       "<meta http-equiv=\"Content-Type\" content=\"text/html; charset=utf-8\">\n",
       "<title></title>\n",
       "<style type=\"text/css\">\n",
       ".ansi2html-content { display: inline; white-space: pre-wrap; word-wrap: break-word; }\n",
       ".body_foreground { color: #AAAAAA; }\n",
       ".body_background { background-color: #000000; }\n",
       ".inv_foreground { color: #000000; }\n",
       ".inv_background { background-color: #AAAAAA; }\n",
       "</style>\n",
       "</head>\n",
       "<body class=\"body_foreground body_background\" style=\"font-size: normal;\" >\n",
       "<pre class=\"ansi2html-content\">\n",
       "Der Unter-Parameter \"--assd\" existiert hier nicht als Befehl für Haupt-Parameter -spalten, oder dieser Parameter braucht Werte analog wie: \n",
       "--unterParameter=Wert1\n",
       "Es ist nur möglich: --Wichtigstes_zum_verstehen, --wichtigsteverstehen, --Menschliches, --menschliches, --Planet_(10_und_oder_12), --planet, --Wichtigstes_zum_gedanklich_einordnen, --wichtigsteeinordnen, --Operationen, --operationen, --Religionen, --religionen, --religion, --Galaxie, --galaxie, --alteschriften, --kreis, --galaxien, --kreise, --Inkrementieren, --inkrementieren, --Universum, --universum, --transzendentalien, --strukturalien, --kugel, --kugeln, --ball, --baelle, --bälle, --Größenordnung, --groessenordnung, --strukturgroesse, --strukturgroeße, --strukturgrösse, --strukturgröße, --groesse, --stufe, --organisationen, --Meta_vs_Konkret_(Universum), --universummetakonkret, --Primzahlwirkung, --primzahlwirkung, --Grundstrukturen, --grundstrukturen, --Wirtschaft, --wirtschaft, --Pro_Contra, --procontra, --dagegendafuer, --Licht, --licht, --Bedeutung, --bedeutung, --gebrochengalaxie, --gebrochenuniversum, --Symbole, --symbole, --Eigenschaften_n, --eigenschaften, --eigenschaft, --konzept, --konzepte, --Eigenschaften_1/n, --konzept2, --konzepte2, --Multiplikationen, --multiplikationen, --alles, --keinenummerierung\n",
       "\n",
       "</pre>\n",
       "</body>\n",
       "\n",
       "</html>\n"
      ],
      "text/plain": [
       "<IPython.core.display.HTML object>"
      ]
     },
     "metadata": {},
     "output_type": "display_data"
    },
    {
     "data": {
      "text/html": [
       "<!DOCTYPE HTML PUBLIC \"-//W3C//DTD HTML 4.01 Transitional//EN\" \"http://www.w3.org/TR/html4/loose.dtd\">\n",
       "<html>\n",
       "<head>\n",
       "<meta http-equiv=\"Content-Type\" content=\"text/html; charset=utf-8\">\n",
       "<title></title>\n",
       "<style type=\"text/css\">\n",
       ".ansi2html-content { display: inline; white-space: pre-wrap; word-wrap: break-word; }\n",
       ".body_foreground { color: #AAAAAA; }\n",
       ".body_background { background-color: #000000; }\n",
       ".inv_foreground { color: #000000; }\n",
       ".inv_background { background-color: #AAAAAA; }\n",
       "</style>\n",
       "</head>\n",
       "<body class=\"body_foreground body_background\" style=\"font-size: normal;\" >\n",
       "<pre class=\"ansi2html-content\">\n",
       "Den Neben-Parameter \"--assd\" gibt es hier nicht für den Hauptparameter \"-zeilen\". Oder ein = fehlt dahinter. Möglich sind: --zeit=, --zaehlung=, --vorhervonausschnitt=, --vorhervonausschnittteiler, --primzahlvielfache=, --nachtraeglichneuabzaehlung=, --nachtraeglichneuabzaehlungvielfache=, --alles, --potenzenvonzahlen=, --typ=, --vielfachevonzahlen=, --oberesmaximum=\n",
       "\n",
       "</pre>\n",
       "</body>\n",
       "\n",
       "</html>\n"
      ],
      "text/plain": [
       "<IPython.core.display.HTML object>"
      ]
     },
     "metadata": {},
     "output_type": "display_data"
    },
    {
     "data": {
      "text/html": [
       "<!DOCTYPE HTML PUBLIC \"-//W3C//DTD HTML 4.01 Transitional//EN\" \"http://www.w3.org/TR/html4/loose.dtd\">\n",
       "<html>\n",
       "<head>\n",
       "<meta http-equiv=\"Content-Type\" content=\"text/html; charset=utf-8\">\n",
       "<title></title>\n",
       "<style type=\"text/css\">\n",
       ".ansi2html-content { display: inline; white-space: pre-wrap; word-wrap: break-word; }\n",
       ".body_foreground { color: #AAAAAA; }\n",
       ".body_background { background-color: #000000; }\n",
       ".inv_foreground { color: #000000; }\n",
       ".inv_background { background-color: #AAAAAA; }\n",
       "</style>\n",
       "</head>\n",
       "<body class=\"body_foreground body_background\" style=\"font-size: normal;\" >\n",
       "<pre class=\"ansi2html-content\">\n",
       "\n",
       "</pre>\n",
       "</body>\n",
       "\n",
       "</html>\n"
      ],
      "text/plain": [
       "<IPython.core.display.HTML object>"
      ]
     },
     "metadata": {},
     "output_type": "display_data"
    }
   ],
   "source": [
    "befehl = \"reta -ausgab\".split()\n",
    "html_output = converter.convert(externCommand(\"/home/alex/myRepos/reta/reta\",[*befehl]))\n",
    "\n",
    "# Geben Sie das HTML in einer Jupyter-Notebook-Zelle aus\n",
    "from IPython.core.display import HTML\n",
    "display(HTML(html_output))\n",
    "\n",
    "befehl = \"reta -kombination --assd\".split()\n",
    "html_output = converter.convert(externCommand(\"/home/alex/myRepos/reta/reta\",[*befehl]))\n",
    "\n",
    "# Geben Sie das HTML in einer Jupyter-Notebook-Zelle aus\n",
    "from IPython.core.display import HTML\n",
    "display(HTML(html_output))\n",
    "\n",
    "befehl = \"reta -ausgabe --assd\".split()\n",
    "html_output = converter.convert(externCommand(\"/home/alex/myRepos/reta/reta\",[*befehl]))\n",
    "\n",
    "# Geben Sie das HTML in einer Jupyter-Notebook-Zelle aus\n",
    "from IPython.core.display import HTML\n",
    "display(HTML(html_output))\n",
    "\n",
    "befehl = \"reta -spalten --assd\".split()\n",
    "html_output = converter.convert(externCommand(\"/home/alex/myRepos/reta/reta\",[*befehl]))\n",
    "\n",
    "# Geben Sie das HTML in einer Jupyter-Notebook-Zelle aus\n",
    "from IPython.core.display import HTML\n",
    "display(HTML(html_output))\n",
    "\n",
    "befehl = \"reta -zeilen --assd\".split()\n",
    "html_output = converter.convert(externCommand(\"/home/alex/myRepos/reta/reta\",[*befehl]))\n",
    "\n",
    "# Geben Sie das HTML in einer Jupyter-Notebook-Zelle aus\n",
    "from IPython.core.display import HTML\n",
    "display(HTML(html_output))\n",
    "\n",
    "befehl = \"reta --kombination ---galaxie=22\".split()\n",
    "html_output = converter.convert(externCommand(\"/home/alex/myRepos/reta/reta\",[*befehl]))\n",
    "\n",
    "# Geben Sie das HTML in einer Jupyter-Notebook-Zelle aus\n",
    "from IPython.core.display import HTML\n",
    "display(HTML(html_output))\n",
    "\n"
   ]
  },
  {
   "cell_type": "code",
   "execution_count": null,
   "id": "6ee88dbb",
   "metadata": {},
   "outputs": [],
   "source": []
  }
 ],
 "metadata": {
  "kernelspec": {
   "display_name": "PyPy3",
   "language": "python",
   "name": "pypy3"
  },
  "language_info": {
   "codemirror_mode": {
    "name": "ipython",
    "version": 3
   },
   "file_extension": ".py",
   "mimetype": "text/x-python",
   "name": "python",
   "nbconvert_exporter": "python",
   "pygments_lexer": "ipython3",
   "version": "3.9.16"
  }
 },
 "nbformat": 4,
 "nbformat_minor": 5
}
